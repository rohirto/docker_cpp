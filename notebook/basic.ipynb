{
 "cells": [
  {
   "cell_type": "code",
   "execution_count": 8,
   "metadata": {
    "vscode": {
     "languageId": "cpp"
    }
   },
   "outputs": [
    {
     "name": "stdout",
     "output_type": "stream",
     "text": [
      "hello world from C++ notebook"
     ]
    },
    {
     "data": {
      "text/plain": [
       "@0x7fb2ba237de0"
      ]
     },
     "execution_count": 8,
     "metadata": {},
     "output_type": "execute_result"
    }
   ],
   "source": [
    "#include <iostream>\n",
    "using namespace std;\n",
    "cout << \"hello world from C++ notebook\""
   ]
  },
  {
   "cell_type": "markdown",
   "metadata": {},
   "source": [
    "Above code hello world example "
   ]
  },
  {
   "cell_type": "markdown",
   "metadata": {},
   "source": [
    "Taking Input from User"
   ]
  },
  {
   "cell_type": "code",
   "execution_count": 9,
   "metadata": {
    "vscode": {
     "languageId": "cpp"
    }
   },
   "outputs": [
    {
     "name": "stdout",
     "output_type": "stream",
     "text": [
      "Please enter your name: \n",
      "You entered:33\n",
      "66"
     ]
    }
   ],
   "source": [
    "int age;\n",
    "cin >> age;\n",
    "\n",
    "//String IP\n",
    "string name;\n",
    "cout << \"Please enter your name: \"<< endl;\n",
    "cin >> name;\n",
    "cout << \"You entered:\" << name <<endl;\n",
    "\n",
    "//Multiple Inputs\n",
    "int a, b;\n",
    "cin >> a >>b;\n",
    "cout << a + b;"
   ]
  },
  {
   "cell_type": "markdown",
   "metadata": {},
   "source": [
    "Conditional Statements\n",
    "\n",
    "1. If else statements - Just like C\n",
    "2. Switch case - Just Like C\n",
    "3. Combining Conditions - Just like C\n",
    "4. While - Just Like C\n",
    "5. For Loops - Just Like C"
   ]
  },
  {
   "cell_type": "markdown",
   "metadata": {},
   "source": [
    "## Arrays\n",
    "\n",
    "1. Declaration and Assignment - Just Like C\n",
    "2. Looping over an array - Just Like C\n"
   ]
  },
  {
   "cell_type": "markdown",
   "metadata": {},
   "source": [
    "## For Loop alternative in C++: For Each\n"
   ]
  },
  {
   "cell_type": "code",
   "execution_count": 10,
   "metadata": {
    "vscode": {
     "languageId": "cpp"
    }
   },
   "outputs": [
    {
     "name": "stdout",
     "output_type": "stream",
     "text": [
      "5.99\n",
      "3.2\n",
      "9.99\n",
      "29.99\n"
     ]
    }
   ],
   "source": [
    "double prices[] = {5.99, 3.2, 9.99, 29.99};\n",
    "\n",
    "for(double x: prices) {\n",
    "  cout << x << endl;\n",
    "}"
   ]
  },
  {
   "cell_type": "markdown",
   "metadata": {},
   "source": [
    "The loop creates a variable, which is automatically assigned to each value of the array during the loop.\n",
    "\n",
    "We called it x in our example, but you can name it anything you want.\n",
    "Notice the colon after the variable - it reads as \"for each x in prices\".\n",
    "x is not a loop iterator but the value of array at that index itself\n",
    "\n",
    "Below \"auto\" keyword is used -  automatically set the type of a variable based on the value it is assigned to."
   ]
  },
  {
   "cell_type": "code",
   "execution_count": 11,
   "metadata": {
    "vscode": {
     "languageId": "cpp"
    }
   },
   "outputs": [
    {
     "name": "stdout",
     "output_type": "stream",
     "text": [
      "5.99\n",
      "3.2\n",
      "9.99\n",
      "29.99\n"
     ]
    }
   ],
   "source": [
    "for(auto x: prices) {\n",
    "  cout << x << endl;\n",
    "}"
   ]
  },
  {
   "cell_type": "markdown",
   "metadata": {},
   "source": [
    "## Multidimensional Arrays\n",
    "1. Declaration - Just Like C\n",
    "2. Looping over Multidimensional Arrays - Just Like C"
   ]
  },
  {
   "cell_type": "code",
   "execution_count": 12,
   "metadata": {
    "vscode": {
     "languageId": "cpp"
    }
   },
   "outputs": [
    {
     "name": "stdout",
     "output_type": "stream",
     "text": [
      "6\n"
     ]
    }
   ],
   "source": [
    "int seats[2][3] = {\n",
    "    {1, 2, 3}, \n",
    "    {4, 5, 6}\n",
    "    };\n",
    "\n",
    "cout << seats[1][2] << endl;"
   ]
  },
  {
   "cell_type": "markdown",
   "metadata": {},
   "source": [
    "## Pointers\n",
    "1. Pointer Declaration - Just Like C\n",
    "2. Poiter Concepts and Iteration - Just Like C"
   ]
  },
  {
   "cell_type": "markdown",
   "metadata": {},
   "source": [
    "## Dynamic Memory Allocation\n",
    "\n",
    "By using the Operator new\n",
    "The new operator is used to allocate memory. It then can be assigned to a pointer."
   ]
  },
  {
   "cell_type": "code",
   "execution_count": 13,
   "metadata": {
    "vscode": {
     "languageId": "cpp"
    }
   },
   "outputs": [
    {
     "name": "stdout",
     "output_type": "stream",
     "text": [
      "888\n",
      "0\n",
      "1\n",
      "2\n",
      "3\n",
      "4\n",
      "5\n",
      "6\n",
      "7\n"
     ]
    }
   ],
   "source": [
    "int size = 8;\n",
    "\n",
    "int * p = new int[size];\n",
    "\n",
    "p[0] = 128;\n",
    "p[1] = 888;\n",
    "p[2] = 9;\n",
    "\n",
    "cout << *(p+1) << endl;\n",
    "\n",
    "for(int i=0;i<size;i++) {\n",
    "        p[i] = i;\n",
    "    }\n",
    "\n",
    "    for(int i=0;i<size;i++) {\n",
    "       cout << p[i] << endl;\n",
    "    }\n",
    "\n",
    "delete[] p;"
   ]
  },
  {
   "cell_type": "markdown",
   "metadata": {},
   "source": [
    "Now, p hold the address of our newly allocated memory, which can be used to store 8 item, because size = 8;\n",
    "\n",
    "To free up the memory Dynamically allocated use the delete operator\n",
    "This frees up the memory taken by the array p."
   ]
  },
  {
   "cell_type": "markdown",
   "metadata": {},
   "source": [
    "## Fucntions\n",
    "1. Function Calling -> Like C\n",
    "2. Function Parameters -> Like C\n",
    "3. Return fro Function -> Just Like C\n",
    "4. Overloading Funcions - C++ allows you to define a function with the same name but different parameter data types."
   ]
  },
  {
   "cell_type": "code",
   "execution_count": 14,
   "metadata": {
    "vscode": {
     "languageId": "cpp"
    }
   },
   "outputs": [],
   "source": [
    "//Function Overloading Example\n",
    "#include <iostream>"
   ]
  },
  {
   "cell_type": "code",
   "execution_count": 15,
   "metadata": {
    "vscode": {
     "languageId": "cpp"
    }
   },
   "outputs": [],
   "source": [
    "using namespace std;\n"
   ]
  },
  {
   "cell_type": "code",
   "execution_count": 16,
   "metadata": {
    "vscode": {
     "languageId": "cpp"
    }
   },
   "outputs": [],
   "source": [
    "void sum(int x, int y) {\n",
    "    cout << x+y << endl;\n",
    "}\n"
   ]
  },
  {
   "cell_type": "code",
   "execution_count": 17,
   "metadata": {
    "vscode": {
     "languageId": "cpp"
    }
   },
   "outputs": [],
   "source": [
    "void sum(double x, double y) {\n",
    "    cout << x+y << endl;\n",
    "}\n",
    "\n",
    "\n"
   ]
  },
  {
   "cell_type": "code",
   "execution_count": 18,
   "metadata": {
    "vscode": {
     "languageId": "cpp"
    }
   },
   "outputs": [
    {
     "name": "stdout",
     "output_type": "stream",
     "text": [
      "73\n",
      "8.8\n"
     ]
    }
   ],
   "source": [
    "    sum(42, 31);\n",
    "    sum(3.14, 5.66);"
   ]
  },
  {
   "cell_type": "markdown",
   "metadata": {},
   "source": [
    "You cannot overload function declarations that differ only by return type.\n",
    "## Default Arguments\n",
    "When defining a function, you can specify a default value for each of the last parameters.\n",
    "\n",
    "If the corresponding argument is missing when you call a function, it uses the provided default value."
   ]
  },
  {
   "cell_type": "code",
   "execution_count": 19,
   "metadata": {
    "vscode": {
     "languageId": "cpp"
    }
   },
   "outputs": [],
   "source": [
    "int area(int x, int y=1) {\n",
    "  return x*y;\n",
    "}"
   ]
  },
  {
   "cell_type": "code",
   "execution_count": 22,
   "metadata": {
    "vscode": {
     "languageId": "cpp"
    }
   },
   "outputs": [
    {
     "name": "stdout",
     "output_type": "stream",
     "text": [
      "40\n",
      "6\n"
     ]
    }
   ],
   "source": [
    "cout << area(8, 5) << endl;\n",
    "cout << area(6) << endl;"
   ]
  }
 ],
 "metadata": {
  "kernelspec": {
   "display_name": "C++17",
   "language": "C++17",
   "name": "xcpp17"
  },
  "language_info": {
   "codemirror_mode": "text/x-c++src",
   "file_extension": ".cpp",
   "mimetype": "text/x-c++src",
   "name": "c++",
   "version": "17"
  },
  "orig_nbformat": 4
 },
 "nbformat": 4,
 "nbformat_minor": 2
}
