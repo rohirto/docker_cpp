{
 "cells": [
  {
   "cell_type": "code",
   "execution_count": 1,
   "metadata": {
    "vscode": {
     "languageId": "cpp"
    }
   },
   "outputs": [
    {
     "name": "stdout",
     "output_type": "stream",
     "text": [
      "hello world from C++ notebook"
     ]
    },
    {
     "data": {
      "text/plain": [
       "@0x7f6b295a5de0"
      ]
     },
     "execution_count": 1,
     "metadata": {},
     "output_type": "execute_result"
    }
   ],
   "source": [
    "#include <iostream>\n",
    "using namespace std;\n",
    "cout << \"hello world from C++ notebook\""
   ]
  },
  {
   "cell_type": "markdown",
   "metadata": {},
   "source": [
    "Above code hello world example "
   ]
  },
  {
   "cell_type": "markdown",
   "metadata": {},
   "source": [
    "Taking Input from User"
   ]
  },
  {
   "cell_type": "code",
   "execution_count": 2,
   "metadata": {
    "vscode": {
     "languageId": "cpp"
    }
   },
   "outputs": [
    {
     "name": "stdout",
     "output_type": "stream",
     "text": [
      "Please enter your name: \n",
      "You entered:\n",
      "0"
     ]
    }
   ],
   "source": [
    "int age;\n",
    "cin >> age;\n",
    "\n",
    "//String IP\n",
    "string name;\n",
    "cout << \"Please enter your name: \"<< endl;\n",
    "cin >> name;\n",
    "cout << \"You entered:\" << name <<endl;\n",
    "\n",
    "//Multiple Inputs\n",
    "int a, b;\n",
    "cin >> a >>b;\n",
    "cout << a + b;"
   ]
  },
  {
   "cell_type": "markdown",
   "metadata": {},
   "source": [
    "### Get line from user vs Cin\n",
    "\n",
    "cin gets a word, getline gets a line "
   ]
  },
  {
   "cell_type": "code",
   "execution_count": 3,
   "metadata": {
    "vscode": {
     "languageId": "cpp"
    }
   },
   "outputs": [
    {
     "name": "stdout",
     "output_type": "stream",
     "text": [
      "hell o"
     ]
    },
    {
     "data": {
      "text/plain": [
       "@0x7f6b295a5de0"
      ]
     },
     "execution_count": 3,
     "metadata": {},
     "output_type": "execute_result"
    }
   ],
   "source": [
    "string response;\n",
    "getline(cin, response);\n",
    "\n",
    "cout << response"
   ]
  },
  {
   "cell_type": "markdown",
   "metadata": {},
   "source": [
    "Conditional Statements\n",
    "\n",
    "1. If else statements - Just like C\n",
    "2. Switch case - Just Like C\n",
    "3. Combining Conditions - Just like C\n",
    "4. While - Just Like C\n",
    "5. For Loops - Just Like C"
   ]
  },
  {
   "cell_type": "markdown",
   "metadata": {},
   "source": [
    "## Arrays\n",
    "\n",
    "1. Declaration and Assignment - Just Like C\n",
    "2. Looping over an array - Just Like C\n"
   ]
  },
  {
   "cell_type": "markdown",
   "metadata": {},
   "source": [
    "## For Loop alternative in C++: For Each\n"
   ]
  },
  {
   "cell_type": "code",
   "execution_count": 4,
   "metadata": {
    "vscode": {
     "languageId": "cpp"
    }
   },
   "outputs": [
    {
     "name": "stdout",
     "output_type": "stream",
     "text": [
      "5.99\n",
      "3.2\n",
      "9.99\n",
      "29.99\n"
     ]
    }
   ],
   "source": [
    "double prices[] = {5.99, 3.2, 9.99, 29.99};\n",
    "\n",
    "for(double x: prices) {\n",
    "  cout << x << endl;\n",
    "}"
   ]
  },
  {
   "cell_type": "markdown",
   "metadata": {},
   "source": [
    "The loop creates a variable, which is automatically assigned to each value of the array during the loop.\n",
    "\n",
    "We called it x in our example, but you can name it anything you want.\n",
    "Notice the colon after the variable - it reads as \"for each x in prices\".\n",
    "x is not a loop iterator but the value of array at that index itself\n",
    "\n",
    "Below \"auto\" keyword is used -  automatically set the type of a variable based on the value it is assigned to."
   ]
  },
  {
   "cell_type": "code",
   "execution_count": 5,
   "metadata": {
    "vscode": {
     "languageId": "cpp"
    }
   },
   "outputs": [
    {
     "name": "stdout",
     "output_type": "stream",
     "text": [
      "5.99\n",
      "3.2\n",
      "9.99\n",
      "29.99\n"
     ]
    }
   ],
   "source": [
    "for(auto x: prices) {\n",
    "  cout << x << endl;\n",
    "}"
   ]
  },
  {
   "cell_type": "markdown",
   "metadata": {},
   "source": [
    "## Multidimensional Arrays\n",
    "1. Declaration - Just Like C\n",
    "2. Looping over Multidimensional Arrays - Just Like C"
   ]
  },
  {
   "cell_type": "code",
   "execution_count": 6,
   "metadata": {
    "vscode": {
     "languageId": "cpp"
    }
   },
   "outputs": [
    {
     "name": "stdout",
     "output_type": "stream",
     "text": [
      "6\n"
     ]
    }
   ],
   "source": [
    "int seats[2][3] = {\n",
    "    {1, 2, 3}, \n",
    "    {4, 5, 6}\n",
    "    };\n",
    "\n",
    "cout << seats[1][2] << endl;"
   ]
  },
  {
   "cell_type": "markdown",
   "metadata": {},
   "source": [
    "## Pointers\n",
    "1. Pointer Declaration - Just Like C\n",
    "2. Poiter Concepts and Iteration - Just Like C"
   ]
  },
  {
   "cell_type": "markdown",
   "metadata": {},
   "source": [
    "## Dynamic Memory Allocation\n",
    "\n",
    "By using the Operator new\n",
    "The new operator is used to allocate memory. It then can be assigned to a pointer."
   ]
  },
  {
   "cell_type": "code",
   "execution_count": 7,
   "metadata": {
    "vscode": {
     "languageId": "cpp"
    }
   },
   "outputs": [
    {
     "name": "stdout",
     "output_type": "stream",
     "text": [
      "888\n",
      "0\n",
      "1\n",
      "2\n",
      "3\n",
      "4\n",
      "5\n",
      "6\n",
      "7\n"
     ]
    }
   ],
   "source": [
    "int size = 8;\n",
    "\n",
    "int * p = new int[size];\n",
    "\n",
    "p[0] = 128;\n",
    "p[1] = 888;\n",
    "p[2] = 9;\n",
    "\n",
    "cout << *(p+1) << endl;\n",
    "\n",
    "for(int i=0;i<size;i++) {\n",
    "        p[i] = i;\n",
    "    }\n",
    "\n",
    "    for(int i=0;i<size;i++) {\n",
    "       cout << p[i] << endl;\n",
    "    }\n",
    "\n",
    "delete[] p;"
   ]
  },
  {
   "cell_type": "markdown",
   "metadata": {},
   "source": [
    "Now, p hold the address of our newly allocated memory, which can be used to store 8 item, because size = 8;\n",
    "\n",
    "To free up the memory Dynamically allocated use the delete operator\n",
    "This frees up the memory taken by the array p."
   ]
  },
  {
   "cell_type": "markdown",
   "metadata": {},
   "source": [
    "## Fucntions\n",
    "1. Function Calling -> Like C\n",
    "2. Function Parameters -> Like C\n",
    "3. Return fro Function -> Just Like C\n",
    "4. Overloading Funcions - C++ allows you to define a function with the same name but different parameter data types."
   ]
  },
  {
   "cell_type": "code",
   "execution_count": 8,
   "metadata": {
    "vscode": {
     "languageId": "cpp"
    }
   },
   "outputs": [],
   "source": [
    "//Function Overloading Example\n",
    "#include <iostream>"
   ]
  },
  {
   "cell_type": "code",
   "execution_count": 9,
   "metadata": {
    "vscode": {
     "languageId": "cpp"
    }
   },
   "outputs": [],
   "source": [
    "using namespace std;\n"
   ]
  },
  {
   "cell_type": "code",
   "execution_count": 10,
   "metadata": {
    "vscode": {
     "languageId": "cpp"
    }
   },
   "outputs": [],
   "source": [
    "void sum(int x, int y) {\n",
    "    cout << x+y << endl;\n",
    "}\n"
   ]
  },
  {
   "cell_type": "code",
   "execution_count": 11,
   "metadata": {
    "vscode": {
     "languageId": "cpp"
    }
   },
   "outputs": [],
   "source": [
    "void sum(double x, double y) {\n",
    "    cout << x+y << endl;\n",
    "}\n",
    "\n",
    "\n"
   ]
  },
  {
   "cell_type": "code",
   "execution_count": 12,
   "metadata": {
    "vscode": {
     "languageId": "cpp"
    }
   },
   "outputs": [
    {
     "name": "stdout",
     "output_type": "stream",
     "text": [
      "73\n",
      "8.8\n"
     ]
    }
   ],
   "source": [
    "    sum(42, 31);\n",
    "    sum(3.14, 5.66);"
   ]
  },
  {
   "cell_type": "markdown",
   "metadata": {},
   "source": [
    "You cannot overload function declarations that differ only by return type.\n",
    "## Default Arguments\n",
    "When defining a function, you can specify a default value for each of the last parameters.\n",
    "\n",
    "If the corresponding argument is missing when you call a function, it uses the provided default value."
   ]
  },
  {
   "cell_type": "code",
   "execution_count": 13,
   "metadata": {
    "vscode": {
     "languageId": "cpp"
    }
   },
   "outputs": [],
   "source": [
    "int area(int x, int y=1) {\n",
    "  return x*y;\n",
    "}"
   ]
  },
  {
   "cell_type": "code",
   "execution_count": 14,
   "metadata": {
    "vscode": {
     "languageId": "cpp"
    }
   },
   "outputs": [
    {
     "name": "stdout",
     "output_type": "stream",
     "text": [
      "40\n",
      "6\n"
     ]
    }
   ],
   "source": [
    "cout << area(8, 5) << endl;\n",
    "cout << area(6) << endl;"
   ]
  },
  {
   "cell_type": "markdown",
   "metadata": {},
   "source": [
    "## C++ Vectors\n",
    "\n",
    "In C++, vectors are used to store elements of similar data types. However, unlike arrays, the size of a vector can grow dynamically.\n",
    "\n",
    "That is, we can change the size of the vector during the execution of a program as per our requirements.\n",
    "\n",
    "Vectors are part of the C++ Standard Template Library. To use vectors, we need to include the vector header file in our program.\n",
    "![Alt text](https://scaler.com/topics/images/Vector-in-C.webp)\n",
    "\n",
    "Vectors are the same as dynamic arrays with the ability to resize itself automatically when an element is inserted or deleted, with their storage being handled automatically by the container. Vector elements are placed in contiguous storage so that they can be accessed and traversed using iterators. In vectors, data is inserted at the end. Inserting at the end takes differential time, as sometimes the array may need to be extended. Removing the last element takes only constant time because no resizing happens. Inserting and erasing at the beginning or in the middle is linear in time.\n",
    "\n",
    "What is std::vector in C++?\n",
    "std::vector in C++ is the class template that contains the vector container and its member functions. It is defined inside the <vector> header file. The member functions of std::vector class provide various functionalities to vector containers. Some commonly used member functions are written below:\n",
    "\n",
    "+ Iterators\n",
    "- begin() – Returns an iterator pointing to the first element in the vector\n",
    "- end() – Returns an iterator pointing to the theoretical element that follows the last element in the vector\n",
    "- rbegin() – Returns a reverse iterator pointing to the last element in the vector (reverse beginning). It moves from last to first element\n",
    "- rend() – Returns a reverse iterator pointing to the theoretical element preceding the first element in the vector (considered as reverse end)\n",
    "- cbegin() – Returns a constant iterator pointing to the first element in the vector.\n",
    "- cend() – Returns a constant iterator pointing to the theoretical element that follows the last element in the vector.\n",
    "- crbegin() – Returns a constant reverse iterator pointing to the last element in the vector (reverse beginning). It moves from last to first - element\n",
    "- crend() – Returns a constant reverse iterator pointing to the theoretical element preceding the first element in the vector (considered as - reverse end)\n",
    "\n",
    "+ Capacity\n",
    "- size() – Returns the number of elements in the vector.\n",
    "- max_size() – Returns the maximum number of elements that the vector can hold.\n",
    "- capacity() – Returns the size of the storage space currently allocated to the vector expressed as number of elements.\n",
    "- resize(n) – Resizes the container so that it contains ‘n’ elements.\n",
    "- empty() – Returns whether the container is empty.\n",
    "- shrink_to_fit() – Reduces the capacity of the container to fit its size and destroys all elements beyond the capacity.\n",
    "- reserve() – Requests that the vector capacity be at least enough to contain n elements.\n",
    "\n",
    "\n",
    "+ Element access\n",
    "- reference operator [g] – Returns a reference to the element at position ‘g’ in the vector\n",
    "- at(g) – Returns a reference to the element at position ‘g’ in the vector\n",
    "- front() – Returns a reference to the first element in the vector\n",
    "- back() – Returns a reference to the last element in the vector\n",
    "- data() – Returns a direct pointer to the memory array used internally by the vector to store its owned elements.\n",
    "\n",
    "\n",
    "+ Modifiers\n",
    "- assign() – It assigns new value to the vector elements by replacing old ones\n",
    "- push_back() – It push the elements into a vector from the back\n",
    "- pop_back() – It is used to pop or remove elements from a vector from the back.\n",
    "- insert() – It inserts new elements before the element at the specified position\n",
    "- erase() – It is used to remove elements from a container from the specified position or range.\n",
    "- swap() – It is used to swap the contents of one vector with another vector of same type. Sizes may differ.\n",
    "- clear() – It is used to remove all the elements of the vector container\n",
    "- emplace() – It extends the container by inserting new element at position\n",
    "- emplace_back() – It is used to insert a new element into the vector container, the new element is added to the end of the vector\n",
    "\n"
   ]
  },
  {
   "cell_type": "markdown",
   "metadata": {},
   "source": [
    "### When to use Vectors?\n",
    " - We can use Vectors in the following circumstances:\n",
    "\n",
    " + It is advisable to use vectors when data are consistently changing.\n",
    "\n",
    " + If the size of data is unknown then it is advisable to use vectors.\n",
    "\n",
    " + It is advisable to use vectors when elements are not predefined.\n",
    "\n",
    " + Compared to arrays there are more ways to copy vectors.\n",
    "\n",
    "### Advantages of Vectors\n",
    "- Dynamic Nature: Vectors can dynamically resize based on the number of elements.\n",
    "- Easy Insertion and Deletion: Elements can be easily inserted or deleted in vectors.\n",
    "- Storage of Multiple Objects: Vectors can store multiple objects of the same type.\n",
    "- Simple Copying: Copying vectors is straightforward using the assignment operator.\n",
    "\n",
    "### Disadvantages of Vectors\n",
    "- High Memory Consumption: Vectors may consume more memory compared to other data structures.\n",
    "- Lack of Direct Indexing: Vectors do not provide direct indexing, impacting random access efficiency.\n",
    "- Non-Contiguous Memory: The memory allocated for vectors may not be contiguous, affecting cache performance."
   ]
  },
  {
   "cell_type": "code",
   "execution_count": 15,
   "metadata": {
    "vscode": {
     "languageId": "cpp"
    }
   },
   "outputs": [],
   "source": [
    "#include <vector>"
   ]
  },
  {
   "cell_type": "markdown",
   "metadata": {},
   "source": [
    "### C++ Vector Declaration\n",
    "\n",
    "    std::vector<T> vector_name;\n",
    "\n",
    "The type parameter <T> specifies the type of the vector. It can be any primitive data type such as int, char, float, etc. For example,\n",
    "vector<int> num;\n",
    "\n",
    "Notice that we have not specified the size of the vector during the declaration. This is because the size of a vector can grow dynamically so it is not necessary to define it."
   ]
  },
  {
   "cell_type": "markdown",
   "metadata": {},
   "source": [
    "### C++ Vector Initialization\n",
    "Method 1:\n",
    "\n"
   ]
  },
  {
   "cell_type": "code",
   "execution_count": 16,
   "metadata": {
    "vscode": {
     "languageId": "cpp"
    }
   },
   "outputs": [],
   "source": [
    "// Initializer list\n",
    "vector<int> vector1 = {1, 2, 3, 4, 5};\n",
    "\n",
    "// Uniform initialization\n",
    "vector<int> vector2 {1, 2, 3, 4, 5};"
   ]
  },
  {
   "cell_type": "markdown",
   "metadata": {},
   "source": [
    "### Method 2:"
   ]
  },
  {
   "cell_type": "code",
   "execution_count": 17,
   "metadata": {
    "vscode": {
     "languageId": "cpp"
    }
   },
   "outputs": [],
   "source": [
    "vector<int> vector3(5, 12);"
   ]
  },
  {
   "cell_type": "markdown",
   "metadata": {},
   "source": [
    "Here, 5 is the size of the vector and 12 is the value.\n",
    "\n",
    "This code creates an int vector with size 5 and initializes the vector with the value of 12. So, the vector is equivalent to\n",
    "\n",
    "    vector<int> vector3 = {12, 12, 12, 12, 12};"
   ]
  },
  {
   "cell_type": "markdown",
   "metadata": {},
   "source": [
    "#### Method 3\n",
    "using a int array"
   ]
  },
  {
   "cell_type": "code",
   "execution_count": 18,
   "metadata": {
    "vscode": {
     "languageId": "cpp"
    }
   },
   "outputs": [],
   "source": [
    "int arr[] = {1, 4, 6};\n",
    "std::vector<int> vector4(arr, arr + sizeof(arr) / sizeof(int)); // Initialize a vector using the array arr"
   ]
  },
  {
   "cell_type": "markdown",
   "metadata": {},
   "source": [
    "it's saying \"initialize the vector with elements starting from the beginning of the array (arr) up to one element past the end of the array (arr + sizeof(arr) / sizeof(int))\".\n",
    "The use of sizeof(arr) / sizeof(int) calculates the number of elements in the array, ensuring that the vector gets exactly the same number of elements."
   ]
  },
  {
   "cell_type": "markdown",
   "metadata": {},
   "source": [
    "#### Method 4: Using a range-based for loop:\n",
    "A range-based for loop can be used to initialize a vector with values from another container."
   ]
  },
  {
   "cell_type": "code",
   "execution_count": 19,
   "metadata": {
    "vscode": {
     "languageId": "cpp"
    }
   },
   "outputs": [],
   "source": [
    "std::vector<int> vector5;\n",
    "std::list<int> values = {1, 2, 3};\n",
    "\n",
    "\n",
    "for (int value : values) {\n",
    "  vector5.push_back(value);\n",
    "}"
   ]
  },
  {
   "cell_type": "code",
   "execution_count": 20,
   "metadata": {
    "vscode": {
     "languageId": "cpp"
    }
   },
   "outputs": [
    {
     "name": "stdout",
     "output_type": "stream",
     "text": [
      "vector1 = 1  2  3  4  5  \n",
      "vector2 = 1  2  3  4  5  \n",
      "vector3 = 12  12  12  12  12  \n",
      "vector4 = 1  4  6  \n",
      "vector5 = 1  2  3  "
     ]
    }
   ],
   "source": [
    " cout << \"vector1 = \";\n",
    "\n",
    "  // ranged loop\n",
    "  for (const int& i : vector1) {\n",
    "    cout << i << \"  \";\n",
    "  }\n",
    "\n",
    "  cout << \"\\nvector2 = \";\n",
    "\n",
    "  // ranged loop\n",
    "  for (const int& i : vector2) {\n",
    "    cout << i << \"  \";\n",
    "  }\n",
    "\n",
    "   cout << \"\\nvector3 = \";\n",
    "\n",
    "  // ranged loop\n",
    "  for (int i : vector3) {\n",
    "    cout << i << \"  \";\n",
    "  }\n",
    "\n",
    "  cout << \"\\nvector4 = \";\n",
    "  // ranged loop\n",
    "  for (int i : vector4) {\n",
    "    cout << i << \"  \";\n",
    "  }\n",
    "\n",
    "  cout << \"\\nvector5 = \";\n",
    "  // ranged loop\n",
    "  for (int i : vector5) {\n",
    "    cout << i << \"  \";\n",
    "  }"
   ]
  },
  {
   "cell_type": "markdown",
   "metadata": {},
   "source": [
    "#### for Statement:\n",
    "The for keyword starts the loop statement.\n",
    "\n",
    "#### Loop Variable Declaration:\n",
    "const int& i declares a loop variable named i.\n",
    "const int& indicates that i is a constant reference to an integer. The const qualifier means that the value of i cannot be modified within the loop body.\n",
    "Using a reference (&) avoids making a copy of each element, which can be more efficient, especially for large objects.\n",
    "\n",
    "#### Range-Based Syntax:\n",
    ": vector2 specifies the range over which the loop iterates. In this case, it's the elements of vector2.\n",
    "The loop variable i will take on the value of each element in vector2 during each iteration of the loop.\n",
    "\n",
    "#### Loop Body:\n",
    "The code within the curly braces {} following the for statement is the loop body.\n",
    "Inside the loop body, you can perform operations using the loop variable i, which represents the current element of vector2.\n",
    "\n",
    "#### Example Context:\n",
    "Suppose you have a vector declared like this:\n",
    "    std::vector<int> vector2 = {10, 20, 30, 40};\n",
    "The loop will iterate over each element of vector2, and during each iteration, the loop variable i will take on the value of the current element.\n",
    "For example, in the first iteration, i will be 10, in the second iteration, i will be 20, and so on.\n",
    "\n",
    "#### Advantages:\n",
    "Using const int& i ensures that the loop variable i is read-only within the loop, preventing accidental modification.\n",
    "Using a reference (&) avoids unnecessary copying of the vector elements, which can be more efficient, especially for larger objects.\n",
    "In summary, the range-based for loop simplifies the process of iterating over elements in a container, and the syntax for (const int& i : vector2) specifically declares a loop variable (i) that iterates over the elements of vector2, ensuring that the elements are accessed in a read-only manner."
   ]
  },
  {
   "cell_type": "markdown",
   "metadata": {},
   "source": [
    "### Basic Vector Operations\n",
    "\n",
    "1. Add Elements to a Vector\n",
    "To add a single element into a vector, we use the push_back() function. It inserts an element into the end of the vector"
   ]
  },
  {
   "cell_type": "code",
   "execution_count": 21,
   "metadata": {
    "vscode": {
     "languageId": "cpp"
    }
   },
   "outputs": [
    {
     "name": "stdout",
     "output_type": "stream",
     "text": [
      "Initial Vector: 1  2  3  4  5  \n",
      "Updated Vector: 1  2  3  4  5  6  7  "
     ]
    }
   ],
   "source": [
    "vector<int> num {1, 2, 3, 4, 5};\n",
    "\n",
    "  cout << \"Initial Vector: \";\n",
    "\n",
    "  for (const int& i : num) {\n",
    "    cout << i << \"  \";\n",
    "  }\n",
    "  \n",
    "  // add the integers 6 and 7 to the vector\n",
    "  num.push_back(6);\n",
    "  num.push_back(7);\n",
    "\n",
    "  cout << \"\\nUpdated Vector: \";\n",
    "\n",
    "  for (const int& i : num) {\n",
    "    cout << i << \"  \";\n",
    "  }\n"
   ]
  },
  {
   "cell_type": "markdown",
   "metadata": {},
   "source": [
    "Note: We can also use the insert() and emplace() functions to add elements to a vector.\n",
    "\n",
    "2. Access Elements of a Vector\n",
    "\n",
    "In C++, we use the index number to access the vector elements. Here, we use the at() function to access the element from the specified index. For example,"
   ]
  },
  {
   "cell_type": "code",
   "execution_count": 22,
   "metadata": {
    "vscode": {
     "languageId": "cpp"
    }
   },
   "outputs": [
    {
     "name": "stdout",
     "output_type": "stream",
     "text": [
      "Element at Index 0: 1\n",
      "Element at Index 2: 3\n",
      "Element at Index 4: 5"
     ]
    }
   ],
   "source": [
    " cout << \"Element at Index 0: \" << num.at(0) << endl;\n",
    "  cout << \"Element at Index 2: \" << num.at(2) << endl;\n",
    "  cout << \"Element at Index 4: \" << num.at(4);"
   ]
  },
  {
   "cell_type": "markdown",
   "metadata": {},
   "source": [
    "Here,\n",
    "\n",
    "num.at(0) - access element at index 0\n",
    "num.at(2) - access element at index 2\n",
    "num.at(4) - access element at index 4\n",
    "\n",
    "Note: Like an array, we can also use the square brackets [] to access vector elements. For example"
   ]
  },
  {
   "cell_type": "code",
   "execution_count": 23,
   "metadata": {
    "vscode": {
     "languageId": "cpp"
    }
   },
   "outputs": [
    {
     "name": "stdout",
     "output_type": "stream",
     "text": [
      "2"
     ]
    },
    {
     "data": {
      "text/plain": [
       "@0x7f6b295a5de0"
      ]
     },
     "execution_count": 23,
     "metadata": {},
     "output_type": "execute_result"
    }
   ],
   "source": [
    "cout << num[1];  // Output: 2"
   ]
  },
  {
   "cell_type": "markdown",
   "metadata": {},
   "source": [
    "However, the at() function is preferred over [] because at() throws an exception whenever the vector is out of bound, while [] gives a garbage value."
   ]
  },
  {
   "cell_type": "code",
   "execution_count": 24,
   "metadata": {
    "vscode": {
     "languageId": "cpp"
    }
   },
   "outputs": [
    {
     "name": "stdout",
     "output_type": "stream",
     "text": [
      "1501510680"
     ]
    },
    {
     "ename": "Standard Exception",
     "evalue": "vector::_M_range_check: __n (which is 8) >= this->size() (which is 3)",
     "output_type": "error",
     "traceback": [
      "Standard Exception: vector::_M_range_check: __n (which is 8) >= this->size() (which is 3)"
     ]
    }
   ],
   "source": [
    "vector<int> num {1, 2, 3};\n",
    "\n",
    "// gives garbage value\n",
    "cout << num[8];\n",
    "\n",
    "// throws an exception\n",
    "cout << num.at(8);"
   ]
  },
  {
   "cell_type": "markdown",
   "metadata": {},
   "source": [
    "3. Change Vector Element\n",
    "\n",
    "We can change an element of the vector using the same at() function. For example"
   ]
  },
  {
   "cell_type": "code",
   "execution_count": null,
   "metadata": {
    "vscode": {
     "languageId": "cpp"
    }
   },
   "outputs": [
    {
     "name": "stdout",
     "output_type": "stream",
     "text": [
      "Initial Vector: 1  2  3  4  5  \n",
      "Updated Vector: 1  9  3  4  7  "
     ]
    }
   ],
   "source": [
    "vector<int> num {1, 2, 3, 4, 5};\n",
    "cout << \"Initial Vector: \";\n",
    "\n",
    "  for (const int& i : num) {\n",
    "    cout << i << \"  \";\n",
    "  }\n",
    "\n",
    "  // change elements at indexes 1 and 4\n",
    "  num.at(1) = 9;\n",
    "  num.at(4) = 7;\n",
    "\n",
    "  cout << \"\\nUpdated Vector: \";\n",
    "\n",
    "  for (const int& i : num) {\n",
    "    cout << i << \"  \";\n",
    "  }"
   ]
  },
  {
   "cell_type": "markdown",
   "metadata": {},
   "source": [
    "4. Delete Elements from C++ Vectors\n",
    "To delete a single element from a vector, we use the pop_back() function. For example,"
   ]
  },
  {
   "cell_type": "code",
   "execution_count": null,
   "metadata": {
    "vscode": {
     "languageId": "cpp"
    }
   },
   "outputs": [
    {
     "name": "stdout",
     "output_type": "stream",
     "text": [
      "Initial Vector: 2 3 5 7 \n",
      "Updated Vector: 2 3 5 "
     ]
    }
   ],
   "source": [
    "vector<int> prime_numbers{2, 3, 5, 7};\n",
    "  \n",
    "  // initial vector\n",
    "  cout << \"Initial Vector: \";\n",
    "  for (int i : prime_numbers) {\n",
    "    cout << i << \" \";\n",
    "  }\n",
    "\n",
    "  // remove the last element\n",
    "  prime_numbers.pop_back();\n",
    "\n",
    "  // final vector\n",
    "  cout << \"\\nUpdated Vector: \";\n",
    "  for (int i : prime_numbers) {\n",
    "    cout << i << \" \";\n",
    "  }"
   ]
  },
  {
   "cell_type": "markdown",
   "metadata": {},
   "source": [
    "C++ Vector Functions\n",
    "In C++, the vector header file provides various functions that can be used to perform different operations on a vector.\n",
    "\n",
    "| Function   | Description                                          |\n",
    "|------------|------------------------------------------------------|\n",
    "| size()     | returns the number of elements present in the vector |\n",
    "| clear()    | removes all the elements of the vector               |\n",
    "| front()    | returns the first element of the vector              |\n",
    "| back()     | returns the last element of the vector               |\n",
    "| empty()    | returns 1 (true) if the vector is empty              |\n",
    "| capacity() | check the overall size of a vector                   |"
   ]
  },
  {
   "cell_type": "markdown",
   "metadata": {},
   "source": [
    "### C++ Vector Iterators\n",
    "Vector iterators are used to point to the memory address of a vector element. In some ways, they act like pointers in C++.\n",
    "\n",
    "We can create vector iterators with the syntax\n",
    "vector<T>::iterator iteratorName;\n",
    "\n",
    "For example, if we have 2 vectors of int and double types, then we will need 2 different iterators corresponding to their types:"
   ]
  },
  {
   "cell_type": "code",
   "execution_count": null,
   "metadata": {
    "vscode": {
     "languageId": "cpp"
    }
   },
   "outputs": [],
   "source": [
    "// iterator for int vector\n",
    "vector<int>::iterator iter1;\n",
    "\n",
    "// iterator for double vector\n",
    "vector<double>::iterator iter2;"
   ]
  },
  {
   "cell_type": "markdown",
   "metadata": {},
   "source": [
    "#### Initialize Vector Iterators\n",
    "We can initialize vector iterators using the begin() and end() functions.\n",
    "\n",
    "1. begin() function\n",
    "\n",
    "The begin() function returns an iterator that points to the first element of the vector. For example,"
   ]
  },
  {
   "cell_type": "code",
   "execution_count": null,
   "metadata": {
    "vscode": {
     "languageId": "cpp"
    }
   },
   "outputs": [],
   "source": [
    "vector<int> num = {1, 2, 3};\n",
    "vector<int>::iterator iter;\n",
    "\n",
    "// iter points to num[0]\n",
    "iter = num.begin();"
   ]
  },
  {
   "cell_type": "markdown",
   "metadata": {},
   "source": [
    "2. end() function\n",
    "\n",
    "The end() function points to the theoretical element that comes after the final element of the vector. For example,"
   ]
  },
  {
   "cell_type": "code",
   "execution_count": null,
   "metadata": {
    "vscode": {
     "languageId": "cpp"
    }
   },
   "outputs": [],
   "source": [
    "// iter points to the last element of num\n",
    "iter = num.end() - 1;"
   ]
  },
  {
   "cell_type": "markdown",
   "metadata": {},
   "source": [
    "Here, due to the nature of the end() function, we have used the code num.end() - 1 to point to the last element of the num vector i.e. num[2]."
   ]
  },
  {
   "cell_type": "code",
   "execution_count": null,
   "metadata": {
    "vscode": {
     "languageId": "cpp"
    }
   },
   "outputs": [
    {
     "name": "stdout",
     "output_type": "stream",
     "text": [
      "num[0] = 1\n",
      "num[2] = 3\n",
      "num[4] = 5"
     ]
    }
   ],
   "source": [
    "vector<int> num {1, 2, 3, 4, 5};\n",
    "\n",
    "  // declare iterator\n",
    "  vector<int>::iterator iter;\n",
    "\n",
    "  // initialize the iterator with the first element\n",
    "  iter = num.begin();\n",
    "\n",
    "  // print the vector element\n",
    "  cout << \"num[0] = \" << *iter << endl;\n",
    "\n",
    "  // iterator points to the 3rd element\n",
    "  iter = num.begin() + 2;\n",
    "  cout << \"num[2] = \" << *iter << endl;\n",
    "\n",
    "  // iterator points to the last element\n",
    "  iter = num.end() - 1;\n",
    "  cout << \"num[4] = \" << *iter;"
   ]
  },
  {
   "cell_type": "markdown",
   "metadata": {},
   "source": [
    "In this program, we have declared an int vector iterator iter in order to use it with the vector num.\n",
    "\n",
    "// declare iterator\n",
    "vector<int>::iterator iter;\n",
    "Then, we initialized the iterator to the first element of the vector using the begin() function.\n",
    "\n",
    "// initialize the iterator with the first element\n",
    "iter = num.begin();\n",
    "Then, we printed the vector element by dereferencing the iterator:\n",
    "\n",
    "// print the vector element\n",
    "cout << \"num[0] = \" << *iter << endl;\n",
    "Then, we printed the 3rd element of the vector by changing the value of iter to num.begin() + 2.\n",
    "\n",
    "Finally, we printed the last element of the vector using the end() function."
   ]
  },
  {
   "cell_type": "markdown",
   "metadata": {},
   "source": [
    "#### Example: Iterate Through Vector Using Iterators"
   ]
  },
  {
   "cell_type": "code",
   "execution_count": null,
   "metadata": {
    "vscode": {
     "languageId": "cpp"
    }
   },
   "outputs": [
    {
     "name": "stdout",
     "output_type": "stream",
     "text": [
      "1  2  3  4  5  "
     ]
    }
   ],
   "source": [
    "// use iterator with for loop\n",
    "  for (iter = num.begin(); iter != num.end(); ++iter) {\n",
    "    cout << *iter << \"  \";\n",
    "  }"
   ]
  },
  {
   "cell_type": "markdown",
   "metadata": {},
   "source": [
    "### Vector of Vectors in C++ STL\n",
    "In C++ STL, you can create a vector of vectors to represent a two-dimensional array or a matrix. This is often useful when dealing with a grid-like structure or a table. Here's an example of how to create and use a vector of vectors:"
   ]
  },
  {
   "cell_type": "code",
   "execution_count": null,
   "metadata": {
    "vscode": {
     "languageId": "cpp"
    }
   },
   "outputs": [
    {
     "name": "stdout",
     "output_type": "stream",
     "text": [
      "1 2 3 4 \n",
      "5 6 7 8 \n",
      "9 10 11 12 \n"
     ]
    }
   ],
   "source": [
    "// Declare a vector of vectors of integers\n",
    "std::vector<std::vector<int>> matrix;\n",
    "\n",
    "// Define the dimensions of the matrix (rows and columns)\n",
    "int rows = 3;\n",
    "int columns = 4;\n",
    "\n",
    "// Resize the outer vector to the number of rows\n",
    "matrix.resize(rows);\n",
    "\n",
    "// Resize each inner vector to the number of columns\n",
    "for (int i = 0; i < rows; ++i) {\n",
    "    matrix[i].resize(columns);\n",
    "}\n",
    "\n",
    "// Fill the matrix with values (for demonstration purposes)\n",
    "int value = 1;\n",
    "for (int i = 0; i < rows; ++i) {\n",
    "    for (int j = 0; j < columns; ++j) {\n",
    "        matrix[i][j] = value++;\n",
    "    }\n",
    "}\n",
    "\n",
    "// Access and print the elements of the matrix\n",
    "for (int i = 0; i < rows; ++i) {\n",
    "    for (int j = 0; j < columns; ++j) {\n",
    "        std::cout << matrix[i][j] << \" \";\n",
    "    }\n",
    "    std::cout << \"\\n\";\n",
    "}"
   ]
  },
  {
   "cell_type": "markdown",
   "metadata": {},
   "source": [
    "### Initializing a 2D Vector in C++\n",
    "    std::vector<std::vector<int>> v;\n",
    "The above code produces a 2D vector that is empty. Before using it, we must set the vector size and provide space for its components. The fill function constructor (below), the resize() (above) and push_back() methods, and other techniques can all be used to build a two-dimensional vector.\n",
    "\n"
   ]
  },
  {
   "cell_type": "code",
   "execution_count": null,
   "metadata": {
    "vscode": {
     "languageId": "cpp"
    }
   },
   "outputs": [],
   "source": [
    "int m = 2, n = 5;\n",
    "vector<vector<int>> vec(m, vector<int> (n, 0));  //Fill the 2d vector with zero"
   ]
  },
  {
   "cell_type": "markdown",
   "metadata": {},
   "source": [
    "#### Making use of Initializer Lists\n",
    "we can initialize a two-dimensional vector with an assigned default value using initializer lists. "
   ]
  },
  {
   "cell_type": "code",
   "execution_count": null,
   "metadata": {
    "vscode": {
     "languageId": "cpp"
    }
   },
   "outputs": [],
   "source": [
    "// Using an initializer list to initialize a two-dimensional vector.\n",
    "std::vector<std::vector<int>> matrix {\n",
    "    { 1, 1, 1, 1 },\n",
    "    { 1, 1, 1, 1 },\n",
    "    { 1, 1, 1, 1 }\n",
    "};"
   ]
  },
  {
   "cell_type": "markdown",
   "metadata": {},
   "source": [
    "#### Iterators for 2D Vectors\n",
    "\n",
    "##### Method 1: "
   ]
  },
  {
   "cell_type": "code",
   "execution_count": null,
   "metadata": {
    "vscode": {
     "languageId": "cpp"
    }
   },
   "outputs": [
    {
     "name": "stdout",
     "output_type": "stream",
     "text": [
      "1 0 1 \n",
      "0 1 \n",
      "1 0 1 \n"
     ]
    }
   ],
   "source": [
    "vector<vector<int>> v {{1, 0, 1}, {0, 1}, {1, 0, 1}}; \n",
    "// Iterator for the 2-D vector.\n",
    "vector<vector<int>>::iterator it1;\n",
    "// Iterator for each vector inside the 2-D vector.\n",
    "vector<int>::iterator it2;\n",
    "// Traversing a 2-D vector using iterators.\n",
    "for(it1 = v.begin();it1 != v.end();it1++){\n",
    "    for(it2 = it1->begin();it2 != it1->end();it2++){\n",
    "        cout<<*it2<<\" \";\n",
    "    }\n",
    "    cout<<endl;\n",
    "}     "
   ]
  },
  {
   "cell_type": "markdown",
   "metadata": {},
   "source": [
    "##### Method 2: for_each\n",
    " - C++: Iterate over a vector in a single line We can loop over every element of a vector in a single line by using the STL Algorithm for_each(start, end, callback). It will take three arguments: an Iterator pointing to the start of a range, also known as a start iterator, an iterator pointing to the end of a range, known as an end iterator, and a callback function discussed below.\n",
    " + Callback Function: A function that must be applied to each element in the range, starting at the beginning and ending at the end. Between start and end iterators, all the elements are iterated over for_each(), which applies the specified callback to each element. We can supply the for_each method with iterators pointing to the beginning and end of the vector. It goes through every element of the vector and applies the lambda function supplied to each one.\n"
   ]
  },
  {
   "cell_type": "code",
   "execution_count": null,
   "metadata": {
    "vscode": {
     "languageId": "cpp"
    }
   },
   "outputs": [
    {
     "name": "stdout",
     "output_type": "stream",
     "text": [
      "3 6 8 9 1 0 "
     ]
    }
   ],
   "source": [
    "// Create a vector of integers.\n",
    "vector<int> vec_of_num{3, 6, 8, 9, 1, 0};\n",
    "\n",
    "// Iterate over a vector using the STL algorithm\n",
    "// for_each() and Lambda function.\n",
    "for_each(vec_of_num.begin(), vec_of_num.end(),[](const auto & elem){cout<<elem<<\" \";});"
   ]
  },
  {
   "cell_type": "markdown",
   "metadata": {},
   "source": [
    "Here, we applied a lambda function to each vector element and printed each element inside the lambda function.\n",
    "\n",
    "Note:\n",
    "C++ Lambda expression allows us to define anonymous function objects (functors), which can either be used inline or passed as an argument."
   ]
  },
  {
   "cell_type": "markdown",
   "metadata": {},
   "source": [
    "### Adding Elements to a 2-D Vector\n",
    "\n",
    "- push_back()\n",
    "    + Time complexity is O(1)."
   ]
  },
  {
   "cell_type": "code",
   "execution_count": null,
   "metadata": {
    "vscode": {
     "languageId": "cpp"
    }
   },
   "outputs": [
    {
     "name": "stdout",
     "output_type": "stream",
     "text": [
      "2 5 9 \n",
      "7 9 \n",
      "8 7 9 \n"
     ]
    }
   ],
   "source": [
    "vector<vector<int>> v;\n",
    " \n",
    "v.push_back({2, 5, 9});\n",
    "v.push_back({7, 9});\n",
    "v.push_back({8, 7, 9});\n",
    " \n",
    "for(int i=0;i<v.size();i++){\n",
    "    for(int j=0;j<v[i].size();j++)\n",
    "        cout<<v[i][j]<<\" \";\n",
    "    cout<<endl;\n",
    "}                      "
   ]
  },
  {
   "cell_type": "markdown",
   "metadata": {},
   "source": [
    "Since it is a vector of vectors, it would only make sense to push full vectors into our container. Therefore, the\"push_back()\" function requires a vector as an input.\n",
    "\n",
    "Note:\n",
    "\n",
    "'v[i]' represents a single-dimensional vector. Therefore, if the programmer needs to add elements in a certain vector inside the 2-D vector, he may use 'v[i].push_back(value)'"
   ]
  },
  {
   "cell_type": "markdown",
   "metadata": {},
   "source": [
    "- Insert Function: Instead of an integral index, the insert() function requires a positional input as an iterator. A vector meant to be put at the designated point follows it.\n",
    "    + Time complexity is O(N + M) where N is the number of elements inserted and M is the number of elements moved.\n",
    "\n"
   ]
  },
  {
   "cell_type": "code",
   "execution_count": null,
   "metadata": {
    "vscode": {
     "languageId": "cpp"
    }
   },
   "outputs": [
    {
     "name": "stdout",
     "output_type": "stream",
     "text": [
      "1 0 1 \n",
      "1 2 3 \n",
      "0 1 \n",
      "1 0 1 \n"
     ]
    }
   ],
   "source": [
    "// Initializing the 2-D vector.\n",
    "vector<vector<int>> v;\n",
    " \n",
    "v.push_back({1, 0, 1});\n",
    "v.push_back({0, 1});\n",
    "v.push_back({1, 0, 1});\n",
    " \n",
    "// Iterator for the 2-D vector.\n",
    "vector<vector<int>>::iterator it = v.begin();\n",
    " \n",
    "// Inserting the vector = {1, 2, 3} as the second vector.\n",
    "v.insert(it + 1, {1, 2, 3});\n",
    "                   \n",
    "for(int i=0;i<v.size();i++){\n",
    "    for(int j=0;j<v[i].size();j++)\n",
    "        cout<<v[i][j]<<\" \";\n",
    "    cout<<endl;\n",
    "}            "
   ]
  },
  {
   "cell_type": "markdown",
   "metadata": {},
   "source": [
    "### Removing Elements From 2D Vectors in C++\n",
    "-     vector::pop_back()\n",
    "-     vector::pop_front()\n",
    "-     vector::erase()\n",
    "-     vector::clear()\n",
    "-     remove(first,last,val)\n",
    "-     remove_if()\n",
    "-     remove_copy(first,last,result,val)"
   ]
  },
  {
   "cell_type": "markdown",
   "metadata": {},
   "source": [
    "vector::pop back() The method vector::pop back() removes elements from a vector. It eliminates the removed element and shrinks the container by one."
   ]
  },
  {
   "cell_type": "markdown",
   "metadata": {},
   "source": [
    "#### Implemetation of pop_front"
   ]
  },
  {
   "cell_type": "code",
   "execution_count": null,
   "metadata": {
    "vscode": {
     "languageId": "cpp"
    }
   },
   "outputs": [],
   "source": [
    "template<typename T>\n",
    "void pop_front(std::vector<T> &v)\n",
    "{\n",
    "    // If the vector is not empty.\n",
    "    if (v.size() > 0)\n",
    "    {\n",
    "        v.erase(v.begin());\n",
    "    }\n",
    "}\n",
    "\n"
   ]
  },
  {
   "cell_type": "markdown",
   "metadata": {},
   "source": [
    "## Concept of Templates\n",
    "\n",
    "In C++, templates provide a way to write generic code that can work with different data types without sacrificing type safety. The syntax ````template<typename T>```` is a template declaration, where T is a placeholder for a data type.\n",
    "\n",
    "- template Keyword:\n",
    "\n",
    "    + The template keyword indicates the beginning of a template declaration. It tells the compiler that the following code is a template.\n",
    "- typename T or class T:\n",
    "\n",
    "    + typename or class is used to introduce a type parameter. In this case, T is a type parameter that represents a placeholder for a data type. You can use either typename or class interchangeably in this context.\n",
    "- Placeholder (T):\n",
    "\n",
    "    + T is the name of the type parameter. It serves as a placeholder for the actual data type that will be specified when the template is instantiated.\n",
    "- Usage in the Function:\n",
    "\n",
    "    + In the function void pop_front(std::vector<T> &v), the type parameter T is used to specify the data type of the elements in the std::vector. This makes the function generic, allowing it to work with vectors of any data type.\n",
    "\n"
   ]
  },
  {
   "cell_type": "code",
   "execution_count": null,
   "metadata": {
    "vscode": {
     "languageId": "cpp"
    }
   },
   "outputs": [
    {
     "name": "stdout",
     "output_type": "stream",
     "text": [
      "2 3 4 5 "
     ]
    }
   ],
   "source": [
    "std::vector<int> nums = { 1, 2, 3, 4, 5 };\n",
    "    pop_front(nums);  //defined earlier\n",
    " \n",
    "    for (int i: nums) {\n",
    "        std::cout << i << ' ';\n",
    "    }"
   ]
  },
  {
   "cell_type": "markdown",
   "metadata": {},
   "source": [
    "##### ````vector::erase()````: Removes either a single element or a range of elements.\n",
    "\n",
    "- Time Complexity: O(N) - worst case"
   ]
  },
  {
   "cell_type": "code",
   "execution_count": null,
   "metadata": {
    "vscode": {
     "languageId": "cpp"
    }
   },
   "outputs": [
    {
     "name": "stdout",
     "output_type": "stream",
     "text": [
      "4 5 6 8 9 10 "
     ]
    }
   ],
   "source": [
    "vector<int> v;\n",
    "    // Insert values 1 to 10.\n",
    "    for(int i=1;i<=10;i++)\n",
    "        v.push_back(i);\n",
    "    // Vector has [1,2,3,4,5,6,7,8,9,10].\n",
    "\n",
    "    // Erase the 7th element.\n",
    "    v.erase(v.begin()+6);\n",
    "\n",
    "    // Erase first 3 elements.\n",
    "    v.erase(v.begin(),v.begin()+3);\n",
    "\n",
    "    for(int i=0;i<v.size();i++){\n",
    "        cout << v[i] << \" \";\n",
    "    }\n",
    "    // Prints [4 5 6 8 9 10]."
   ]
  },
  {
   "cell_type": "markdown",
   "metadata": {},
   "source": [
    "#### Traversing the Entire Matrix Created Using a 2D Vector\n",
    "\n",
    "There are two ways to move about in a matrix. **Row-wise traversal** goes over each row one at a time, starting with the first row, moving on to the second, and so on till the last row. From index 0 to the last index, elements from the row are returned.\n",
    "\n",
    "Elements are traversed sequentially from the first to the last column using a **column-wise traversal method.**\n",
    "\n",
    "Input −\n",
    "````\n",
    "int arr[MAX][MAX] = { {1,2,3,4,5},{6,7,8,9,0},\n",
    "   {5,4,3,2,1},{0,0,0,0,0},\n",
    "   {8,9,7,6,1}};\n",
    "````\n",
    "\n",
    "Output −\n",
    "````\n",
    "Row Major Traversal\n",
    "1 2 3 4 5\n",
    "6 7 8 9 0\n",
    "5 4 3 2 1\n",
    "0 0 0 0 0\n",
    "8 9 7 6 1\n",
    "Column Major Traversal\n",
    "1 6 5 0 8\n",
    "2 7 4 0 9\n",
    "3 8 3 0 7\n",
    "4 9 2 0 6\n",
    "5 0 1 0 1\n",
    "````"
   ]
  },
  {
   "cell_type": "code",
   "execution_count": null,
   "metadata": {
    "vscode": {
     "languageId": "cpp"
    }
   },
   "outputs": [
    {
     "name": "stdout",
     "output_type": "stream",
     "text": [
      "Row Major Traversal \n",
      "\n",
      " 1 2 3 4 5\n",
      " 6 7 8 9 0\n",
      " 5 4 3 2 1\n",
      " 0 0 0 0 0\n",
      " 8 9 7 6 1\n",
      "\n",
      "Column Major Traversal \n",
      "\n",
      " 1 6 5 0 8\n",
      " 2 7 4 0 9\n",
      " 3 8 3 0 7\n",
      " 4 9 2 0 6\n",
      " 5 0 1 0 1"
     ]
    }
   ],
   "source": [
    "#define MAX 5\n",
    "int arr[MAX][MAX] = { {1,2,3,4,5},{6,7,8,9,0},{5,4,3,2,1},{0,0,0,0,0},{8,9,7,6,1}};\n",
    "   int i, j;\n",
    "   cout<<\"Row Major Traversal \"<<endl;\n",
    "   for(i=0;i<MAX;i++){\n",
    "      cout<<endl;\n",
    "      for(j=0;j<MAX;j++){\n",
    "         cout<<\" \"<<arr[i][j];\n",
    "      }\n",
    "   }\n",
    "   cout<<endl<<endl;\n",
    "   cout<<\"Column Major Traversal \"<<endl;\n",
    "   for(i=0;i<MAX;i++){\n",
    "      cout<<endl;\n",
    "      for(j=0;j<MAX;j++){\n",
    "         cout<<\" \"<<arr[j][i];\n",
    "      }\n",
    "   }"
   ]
  },
  {
   "cell_type": "markdown",
   "metadata": {},
   "source": [
    "##### Traversing diagonally\n",
    "Given a 2D matrix, print all elements of the given matrix in a diagonal order. For example, consider the following 5 X 4 input matrix.\n",
    "![Alt img](https://scaler.com/topics/images/traversing-diagonally.webp)"
   ]
  },
  {
   "cell_type": "code",
   "execution_count": null,
   "metadata": {
    "vscode": {
     "languageId": "cpp"
    }
   },
   "outputs": [
    {
     "name": "stdout",
     "output_type": "stream",
     "text": [
      "1 \n",
      "5 2 \n",
      "9 6 3 \n",
      "13 10 7 4 \n",
      "17 14 11 8 \n",
      "18 15 12 \n",
      "19 16 \n",
      "20 \n"
     ]
    }
   ],
   "source": [
    "//Implementation of Diagonal Traversing\n",
    "#define R 5\n",
    "#define C 4\n",
    "\n",
    "void diagonalOrder(int arr[][C], int n, int m)\n",
    "{\n",
    "   // We will use a 2D vector to store the diagonals of our array; the 2D vector will have (n+m-1) rows equal to the number of diagonals.\n",
    "   vector<vector<int> > ans(n + m - 1);\n",
    "\n",
    "   for (int i = 0; i < m; i++)\n",
    "   {\n",
    "   \tfor (int j = 0; j < n; j++)\n",
    "   \t{\n",
    "   \t\tans[i + j].push_back(arr[j][i]);\n",
    "   \t}\n",
    "   }\n",
    "\n",
    "   for (int i = 0; i < ans.size(); i++)\n",
    "   {\n",
    "   \tfor (int j = 0; j < ans[i].size(); j++)\n",
    "   \t\tcout << ans[i][j] << \" \";\n",
    "\n",
    "   \tcout << endl;\n",
    "   }\n",
    "}\n",
    "\n",
    "// We have a matrix of n rows and m columns.\n",
    "   int n = 5, m = 4;\n",
    "   int arr[][C] = {\n",
    "   \t{ 1, 2, 3, 4 },\n",
    "   \t{ 5, 6, 7, 8 },\n",
    "   \t{ 9, 10, 11, 12 },\n",
    "   \t{ 13, 14, 15, 16 },\n",
    "   \t{ 17, 18, 19, 20 },\n",
    "   };\n",
    "   \n",
    "   // Function call.\n",
    "   diagonalOrder(arr, n, m);\n"
   ]
  },
  {
   "cell_type": "code",
   "execution_count": null,
   "metadata": {
    "vscode": {
     "languageId": "cpp"
    }
   },
   "outputs": [
    {
     "name": "stdout",
     "output_type": "stream",
     "text": [
      "0"
     ]
    },
    {
     "data": {
      "text/plain": [
       "@0x7f0a96349de0"
      ]
     },
     "execution_count": 29,
     "metadata": {},
     "output_type": "execute_result"
    }
   ],
   "source": [
    "cout << 1234/2000"
   ]
  },
  {
   "cell_type": "markdown",
   "metadata": {},
   "source": [
    "## Namespaces\n",
    "\n",
    "In C++, namespaces provide a way to organize code into separate logical units, preventing naming conflicts and providing a mechanism for better code organization. Namespaces allow you to group related elements such as variables, functions, and classes, providing a form of modularization within your codebase.\n",
    "\n",
    "### Syntax:"
   ]
  },
  {
   "cell_type": "code",
   "execution_count": 25,
   "metadata": {
    "vscode": {
     "languageId": "cpp"
    }
   },
   "outputs": [],
   "source": [
    "namespace MyNamespace {\n",
    "    // Declarations and definitions go here\n",
    "    int variable1;\n",
    "    class MyClass {\n",
    "        // Class definition\n",
    "    };\n",
    "}\n",
    "\n",
    " "
   ]
  },
  {
   "cell_type": "code",
   "execution_count": 29,
   "metadata": {
    "vscode": {
     "languageId": "cpp"
    }
   },
   "outputs": [
    {
     "name": "stdout",
     "output_type": "stream",
     "text": [
      "42"
     ]
    }
   ],
   "source": [
    "// Accessing variables and functions in the namespace\n",
    "    MyNamespace::variable1 = 42;\n",
    "\n",
    "//Namespace Aliases\n",
    "namespace NS = MyNamespace;\n",
    "\n",
    "cout << NS::variable1;"
   ]
  },
  {
   "cell_type": "markdown",
   "metadata": {},
   "source": [
    "### Benefits of Namespaces:\n",
    "- Avoiding Naming Conflicts:\n",
    "    + Namespaces help prevent naming conflicts by encapsulating elements within a specific scope. Elements in different namespaces can have the same names without causing conflicts.\n",
    "\n",
    "- Modularization and Organization:\n",
    "    + Namespaces allow you to modularize your code, organizing related elements together. This makes the codebase more maintainable and readable.\n",
    "\n",
    "- Improving Code Reusability:\n",
    "    + Namespaces contribute to code reusability by providing a way to group and encapsulate related functionality, making it easier to reuse components in different parts of the codebase."
   ]
  },
  {
   "cell_type": "code",
   "execution_count": 31,
   "metadata": {
    "vscode": {
     "languageId": "cpp"
    }
   },
   "outputs": [
    {
     "name": "stderr",
     "output_type": "stream",
     "text": [
      "input_line_44:2:9: error: redefinition of 'variable1'\n",
      "    int variable1 = 0;\n",
      "        ^\n",
      "input_line_38:3:9: note: previous definition is here\n",
      "    int variable1;\n",
      "        ^\n"
     ]
    },
    {
     "ename": "Interpreter Error",
     "evalue": "",
     "output_type": "error",
     "traceback": [
      "Interpreter Error: "
     ]
    }
   ],
   "source": []
  }
 ],
 "metadata": {
  "kernelspec": {
   "display_name": "C++17",
   "language": "C++17",
   "name": "xcpp17"
  },
  "language_info": {
   "codemirror_mode": "text/x-c++src",
   "file_extension": ".cpp",
   "mimetype": "text/x-c++src",
   "name": "c++",
   "version": "17"
  },
  "orig_nbformat": 4
 },
 "nbformat": 4,
 "nbformat_minor": 2
}
