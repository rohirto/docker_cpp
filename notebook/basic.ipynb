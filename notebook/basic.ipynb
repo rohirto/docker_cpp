{
 "cells": [
  {
   "cell_type": "code",
   "execution_count": 96,
   "metadata": {
    "vscode": {
     "languageId": "cpp"
    }
   },
   "outputs": [
    {
     "name": "stdout",
     "output_type": "stream",
     "text": [
      "hello world from C++ notebook"
     ]
    },
    {
     "data": {
      "text/plain": [
       "@0x7f38daaadde0"
      ]
     },
     "execution_count": 96,
     "metadata": {},
     "output_type": "execute_result"
    }
   ],
   "source": [
    "#include <iostream>\n",
    "using namespace std;\n",
    "cout << \"hello world from C++ notebook\""
   ]
  },
  {
   "cell_type": "markdown",
   "metadata": {},
   "source": [
    "Above code hello world example "
   ]
  },
  {
   "cell_type": "markdown",
   "metadata": {},
   "source": [
    "Taking Input from User"
   ]
  },
  {
   "cell_type": "code",
   "execution_count": 97,
   "metadata": {
    "vscode": {
     "languageId": "cpp"
    }
   },
   "outputs": [
    {
     "name": "stdout",
     "output_type": "stream",
     "text": [
      "Please enter your name: \n",
      "You entered:\n",
      "0"
     ]
    }
   ],
   "source": [
    "int age;\n",
    "cin >> age;\n",
    "\n",
    "//String IP\n",
    "string name;\n",
    "cout << \"Please enter your name: \"<< endl;\n",
    "cin >> name;\n",
    "cout << \"You entered:\" << name <<endl;\n",
    "\n",
    "//Multiple Inputs\n",
    "int a, b;\n",
    "cin >> a >>b;\n",
    "cout << a + b;"
   ]
  },
  {
   "cell_type": "markdown",
   "metadata": {},
   "source": [
    "Conditional Statements\n",
    "\n",
    "1. If else statements - Just like C\n",
    "2. Switch case - Just Like C\n",
    "3. Combining Conditions - Just like C\n",
    "4. While - Just Like C\n",
    "5. For Loops - Just Like C"
   ]
  },
  {
   "cell_type": "markdown",
   "metadata": {},
   "source": [
    "## Arrays\n",
    "\n",
    "1. Declaration and Assignment - Just Like C\n",
    "2. Looping over an array - Just Like C\n"
   ]
  },
  {
   "cell_type": "markdown",
   "metadata": {},
   "source": [
    "## For Loop alternative in C++: For Each\n"
   ]
  },
  {
   "cell_type": "code",
   "execution_count": 98,
   "metadata": {
    "vscode": {
     "languageId": "cpp"
    }
   },
   "outputs": [
    {
     "name": "stdout",
     "output_type": "stream",
     "text": [
      "5.99\n",
      "3.2\n",
      "9.99\n",
      "29.99\n"
     ]
    }
   ],
   "source": [
    "double prices[] = {5.99, 3.2, 9.99, 29.99};\n",
    "\n",
    "for(double x: prices) {\n",
    "  cout << x << endl;\n",
    "}"
   ]
  },
  {
   "cell_type": "markdown",
   "metadata": {},
   "source": [
    "The loop creates a variable, which is automatically assigned to each value of the array during the loop.\n",
    "\n",
    "We called it x in our example, but you can name it anything you want.\n",
    "Notice the colon after the variable - it reads as \"for each x in prices\".\n",
    "x is not a loop iterator but the value of array at that index itself\n",
    "\n",
    "Below \"auto\" keyword is used -  automatically set the type of a variable based on the value it is assigned to."
   ]
  },
  {
   "cell_type": "code",
   "execution_count": 99,
   "metadata": {
    "vscode": {
     "languageId": "cpp"
    }
   },
   "outputs": [
    {
     "name": "stdout",
     "output_type": "stream",
     "text": [
      "5.99\n",
      "3.2\n",
      "9.99\n",
      "29.99\n"
     ]
    }
   ],
   "source": [
    "for(auto x: prices) {\n",
    "  cout << x << endl;\n",
    "}"
   ]
  },
  {
   "cell_type": "markdown",
   "metadata": {},
   "source": [
    "## Multidimensional Arrays\n",
    "1. Declaration - Just Like C\n",
    "2. Looping over Multidimensional Arrays - Just Like C"
   ]
  },
  {
   "cell_type": "code",
   "execution_count": 100,
   "metadata": {
    "vscode": {
     "languageId": "cpp"
    }
   },
   "outputs": [
    {
     "name": "stdout",
     "output_type": "stream",
     "text": [
      "6\n"
     ]
    }
   ],
   "source": [
    "int seats[2][3] = {\n",
    "    {1, 2, 3}, \n",
    "    {4, 5, 6}\n",
    "    };\n",
    "\n",
    "cout << seats[1][2] << endl;"
   ]
  },
  {
   "cell_type": "markdown",
   "metadata": {},
   "source": [
    "## Pointers\n",
    "1. Pointer Declaration - Just Like C\n",
    "2. Poiter Concepts and Iteration - Just Like C"
   ]
  },
  {
   "cell_type": "markdown",
   "metadata": {},
   "source": [
    "## Dynamic Memory Allocation\n",
    "\n",
    "By using the Operator new\n",
    "The new operator is used to allocate memory. It then can be assigned to a pointer."
   ]
  },
  {
   "cell_type": "code",
   "execution_count": 101,
   "metadata": {
    "vscode": {
     "languageId": "cpp"
    }
   },
   "outputs": [
    {
     "name": "stdout",
     "output_type": "stream",
     "text": [
      "888\n",
      "0\n",
      "1\n",
      "2\n",
      "3\n",
      "4\n",
      "5\n",
      "6\n",
      "7\n"
     ]
    }
   ],
   "source": [
    "int size = 8;\n",
    "\n",
    "int * p = new int[size];\n",
    "\n",
    "p[0] = 128;\n",
    "p[1] = 888;\n",
    "p[2] = 9;\n",
    "\n",
    "cout << *(p+1) << endl;\n",
    "\n",
    "for(int i=0;i<size;i++) {\n",
    "        p[i] = i;\n",
    "    }\n",
    "\n",
    "    for(int i=0;i<size;i++) {\n",
    "       cout << p[i] << endl;\n",
    "    }\n",
    "\n",
    "delete[] p;"
   ]
  },
  {
   "cell_type": "markdown",
   "metadata": {},
   "source": [
    "Now, p hold the address of our newly allocated memory, which can be used to store 8 item, because size = 8;\n",
    "\n",
    "To free up the memory Dynamically allocated use the delete operator\n",
    "This frees up the memory taken by the array p."
   ]
  },
  {
   "cell_type": "markdown",
   "metadata": {},
   "source": [
    "## Fucntions\n",
    "1. Function Calling -> Like C\n",
    "2. Function Parameters -> Like C\n",
    "3. Return fro Function -> Just Like C\n",
    "4. Overloading Funcions - C++ allows you to define a function with the same name but different parameter data types."
   ]
  },
  {
   "cell_type": "code",
   "execution_count": 102,
   "metadata": {
    "vscode": {
     "languageId": "cpp"
    }
   },
   "outputs": [],
   "source": [
    "//Function Overloading Example\n",
    "#include <iostream>"
   ]
  },
  {
   "cell_type": "code",
   "execution_count": 103,
   "metadata": {
    "vscode": {
     "languageId": "cpp"
    }
   },
   "outputs": [],
   "source": [
    "using namespace std;\n"
   ]
  },
  {
   "cell_type": "code",
   "execution_count": 104,
   "metadata": {
    "vscode": {
     "languageId": "cpp"
    }
   },
   "outputs": [],
   "source": [
    "void sum(int x, int y) {\n",
    "    cout << x+y << endl;\n",
    "}\n"
   ]
  },
  {
   "cell_type": "code",
   "execution_count": 105,
   "metadata": {
    "vscode": {
     "languageId": "cpp"
    }
   },
   "outputs": [],
   "source": [
    "void sum(double x, double y) {\n",
    "    cout << x+y << endl;\n",
    "}\n",
    "\n",
    "\n"
   ]
  },
  {
   "cell_type": "code",
   "execution_count": 106,
   "metadata": {
    "vscode": {
     "languageId": "cpp"
    }
   },
   "outputs": [
    {
     "name": "stdout",
     "output_type": "stream",
     "text": [
      "73\n",
      "8.8\n"
     ]
    }
   ],
   "source": [
    "    sum(42, 31);\n",
    "    sum(3.14, 5.66);"
   ]
  },
  {
   "cell_type": "markdown",
   "metadata": {},
   "source": [
    "You cannot overload function declarations that differ only by return type.\n",
    "## Default Arguments\n",
    "When defining a function, you can specify a default value for each of the last parameters.\n",
    "\n",
    "If the corresponding argument is missing when you call a function, it uses the provided default value."
   ]
  },
  {
   "cell_type": "code",
   "execution_count": 107,
   "metadata": {
    "vscode": {
     "languageId": "cpp"
    }
   },
   "outputs": [],
   "source": [
    "int area(int x, int y=1) {\n",
    "  return x*y;\n",
    "}"
   ]
  },
  {
   "cell_type": "code",
   "execution_count": 108,
   "metadata": {
    "vscode": {
     "languageId": "cpp"
    }
   },
   "outputs": [
    {
     "name": "stdout",
     "output_type": "stream",
     "text": [
      "40\n",
      "6\n"
     ]
    }
   ],
   "source": [
    "cout << area(8, 5) << endl;\n",
    "cout << area(6) << endl;"
   ]
  },
  {
   "cell_type": "markdown",
   "metadata": {},
   "source": [
    "## C++ Vectors\n",
    "\n",
    "In C++, vectors are used to store elements of similar data types. However, unlike arrays, the size of a vector can grow dynamically.\n",
    "\n",
    "That is, we can change the size of the vector during the execution of a program as per our requirements.\n",
    "\n",
    "Vectors are part of the C++ Standard Template Library. To use vectors, we need to include the vector header file in our program.\n",
    "\n",
    "Vectors are the same as dynamic arrays with the ability to resize itself automatically when an element is inserted or deleted, with their storage being handled automatically by the container. Vector elements are placed in contiguous storage so that they can be accessed and traversed using iterators. In vectors, data is inserted at the end. Inserting at the end takes differential time, as sometimes the array may need to be extended. Removing the last element takes only constant time because no resizing happens. Inserting and erasing at the beginning or in the middle is linear in time.\n",
    "\n",
    "What is std::vector in C++?\n",
    "std::vector in C++ is the class template that contains the vector container and its member functions. It is defined inside the <vector> header file. The member functions of std::vector class provide various functionalities to vector containers. Some commonly used member functions are written below:\n",
    "\n",
    "+ Iterators\n",
    "- begin() – Returns an iterator pointing to the first element in the vector\n",
    "- end() – Returns an iterator pointing to the theoretical element that follows the last element in the vector\n",
    "- rbegin() – Returns a reverse iterator pointing to the last element in the vector (reverse beginning). It moves from last to first element\n",
    "- rend() – Returns a reverse iterator pointing to the theoretical element preceding the first element in the vector (considered as reverse end)\n",
    "- cbegin() – Returns a constant iterator pointing to the first element in the vector.\n",
    "- cend() – Returns a constant iterator pointing to the theoretical element that follows the last element in the vector.\n",
    "- crbegin() – Returns a constant reverse iterator pointing to the last element in the vector (reverse beginning). It moves from last to first - element\n",
    "- crend() – Returns a constant reverse iterator pointing to the theoretical element preceding the first element in the vector (considered as - reverse end)\n",
    "\n",
    "+ Capacity\n",
    "- size() – Returns the number of elements in the vector.\n",
    "- max_size() – Returns the maximum number of elements that the vector can hold.\n",
    "- capacity() – Returns the size of the storage space currently allocated to the vector expressed as number of elements.\n",
    "- resize(n) – Resizes the container so that it contains ‘n’ elements.\n",
    "- empty() – Returns whether the container is empty.\n",
    "- shrink_to_fit() – Reduces the capacity of the container to fit its size and destroys all elements beyond the capacity.\n",
    "- reserve() – Requests that the vector capacity be at least enough to contain n elements.\n",
    "\n",
    "\n",
    "+ Element access\n",
    "- reference operator [g] – Returns a reference to the element at position ‘g’ in the vector\n",
    "- at(g) – Returns a reference to the element at position ‘g’ in the vector\n",
    "- front() – Returns a reference to the first element in the vector\n",
    "- back() – Returns a reference to the last element in the vector\n",
    "- data() – Returns a direct pointer to the memory array used internally by the vector to store its owned elements.\n",
    "\n",
    "\n",
    "+ Modifiers\n",
    "- assign() – It assigns new value to the vector elements by replacing old ones\n",
    "- push_back() – It push the elements into a vector from the back\n",
    "- pop_back() – It is used to pop or remove elements from a vector from the back.\n",
    "- insert() – It inserts new elements before the element at the specified position\n",
    "- erase() – It is used to remove elements from a container from the specified position or range.\n",
    "- swap() – It is used to swap the contents of one vector with another vector of same type. Sizes may differ.\n",
    "- clear() – It is used to remove all the elements of the vector container\n",
    "- emplace() – It extends the container by inserting new element at position\n",
    "- emplace_back() – It is used to insert a new element into the vector container, the new element is added to the end of the vector\n",
    "\n"
   ]
  },
  {
   "cell_type": "code",
   "execution_count": 109,
   "metadata": {
    "vscode": {
     "languageId": "cpp"
    }
   },
   "outputs": [],
   "source": [
    "#include <vector>"
   ]
  },
  {
   "cell_type": "markdown",
   "metadata": {},
   "source": [
    "### C++ Vector Declaration\n",
    "\n",
    "std::vector<T> vector_name;\n",
    "\n",
    "The type parameter <T> specifies the type of the vector. It can be any primitive data type such as int, char, float, etc. For example,\n",
    "vector<int> num;\n",
    "\n",
    "Notice that we have not specified the size of the vector during the declaration. This is because the size of a vector can grow dynamically so it is not necessary to define it."
   ]
  },
  {
   "cell_type": "markdown",
   "metadata": {},
   "source": [
    "### C++ Vector Initialization\n",
    "Method 1:\n",
    "\n"
   ]
  },
  {
   "cell_type": "code",
   "execution_count": 110,
   "metadata": {
    "vscode": {
     "languageId": "cpp"
    }
   },
   "outputs": [],
   "source": [
    "// Initializer list\n",
    "vector<int> vector1 = {1, 2, 3, 4, 5};\n",
    "\n",
    "// Uniform initialization\n",
    "vector<int> vector2 {1, 2, 3, 4, 5};"
   ]
  },
  {
   "cell_type": "markdown",
   "metadata": {},
   "source": [
    "### Method 2:"
   ]
  },
  {
   "cell_type": "code",
   "execution_count": 111,
   "metadata": {
    "vscode": {
     "languageId": "cpp"
    }
   },
   "outputs": [],
   "source": [
    "vector<int> vector3(5, 12);"
   ]
  },
  {
   "cell_type": "markdown",
   "metadata": {},
   "source": [
    "Here, 5 is the size of the vector and 12 is the value.\n",
    "\n",
    "This code creates an int vector with size 5 and initializes the vector with the value of 12. So, the vector is equivalent to\n",
    "\n",
    "vector<int> vector3 = {12, 12, 12, 12, 12};"
   ]
  },
  {
   "cell_type": "code",
   "execution_count": 112,
   "metadata": {
    "vscode": {
     "languageId": "cpp"
    }
   },
   "outputs": [
    {
     "name": "stdout",
     "output_type": "stream",
     "text": [
      "vector1 = 1  2  3  4  5  \n",
      "vector2 = 1  2  3  4  5  \n",
      "vector3 = 12  12  12  12  12  "
     ]
    }
   ],
   "source": [
    " cout << \"vector1 = \";\n",
    "\n",
    "  // ranged loop\n",
    "  for (const int& i : vector1) {\n",
    "    cout << i << \"  \";\n",
    "  }\n",
    "\n",
    "  cout << \"\\nvector2 = \";\n",
    "\n",
    "  // ranged loop\n",
    "  for (const int& i : vector2) {\n",
    "    cout << i << \"  \";\n",
    "  }\n",
    "\n",
    "   cout << \"\\nvector3 = \";\n",
    "\n",
    "  // ranged loop\n",
    "  for (int i : vector3) {\n",
    "    cout << i << \"  \";\n",
    "  }"
   ]
  },
  {
   "cell_type": "markdown",
   "metadata": {},
   "source": [
    "#### for Statement:\n",
    "The for keyword starts the loop statement.\n",
    "\n",
    "#### Loop Variable Declaration:\n",
    "const int& i declares a loop variable named i.\n",
    "const int& indicates that i is a constant reference to an integer. The const qualifier means that the value of i cannot be modified within the loop body.\n",
    "Using a reference (&) avoids making a copy of each element, which can be more efficient, especially for large objects.\n",
    "\n",
    "#### Range-Based Syntax:\n",
    ": vector2 specifies the range over which the loop iterates. In this case, it's the elements of vector2.\n",
    "The loop variable i will take on the value of each element in vector2 during each iteration of the loop.\n",
    "\n",
    "#### Loop Body:\n",
    "The code within the curly braces {} following the for statement is the loop body.\n",
    "Inside the loop body, you can perform operations using the loop variable i, which represents the current element of vector2.\n",
    "\n",
    "#### Example Context:\n",
    "Suppose you have a vector declared like this: std::vector<int> vector2 = {10, 20, 30, 40};\n",
    "The loop will iterate over each element of vector2, and during each iteration, the loop variable i will take on the value of the current element.\n",
    "For example, in the first iteration, i will be 10, in the second iteration, i will be 20, and so on.\n",
    "\n",
    "#### Advantages:\n",
    "Using const int& i ensures that the loop variable i is read-only within the loop, preventing accidental modification.\n",
    "Using a reference (&) avoids unnecessary copying of the vector elements, which can be more efficient, especially for larger objects.\n",
    "In summary, the range-based for loop simplifies the process of iterating over elements in a container, and the syntax for (const int& i : vector2) specifically declares a loop variable (i) that iterates over the elements of vector2, ensuring that the elements are accessed in a read-only manner."
   ]
  },
  {
   "cell_type": "markdown",
   "metadata": {},
   "source": [
    "### Basic Vector Operations\n",
    "\n",
    "1. Add Elements to a Vector\n",
    "To add a single element into a vector, we use the push_back() function. It inserts an element into the end of the vector"
   ]
  },
  {
   "cell_type": "code",
   "execution_count": 113,
   "metadata": {
    "vscode": {
     "languageId": "cpp"
    }
   },
   "outputs": [
    {
     "name": "stdout",
     "output_type": "stream",
     "text": [
      "Initial Vector: 1  2  3  4  5  \n",
      "Updated Vector: 1  2  3  4  5  6  7  "
     ]
    }
   ],
   "source": [
    "vector<int> num {1, 2, 3, 4, 5};\n",
    "\n",
    "  cout << \"Initial Vector: \";\n",
    "\n",
    "  for (const int& i : num) {\n",
    "    cout << i << \"  \";\n",
    "  }\n",
    "  \n",
    "  // add the integers 6 and 7 to the vector\n",
    "  num.push_back(6);\n",
    "  num.push_back(7);\n",
    "\n",
    "  cout << \"\\nUpdated Vector: \";\n",
    "\n",
    "  for (const int& i : num) {\n",
    "    cout << i << \"  \";\n",
    "  }\n"
   ]
  },
  {
   "cell_type": "markdown",
   "metadata": {},
   "source": [
    "Note: We can also use the insert() and emplace() functions to add elements to a vector.\n",
    "\n",
    "2. Access Elements of a Vector\n",
    "\n",
    "In C++, we use the index number to access the vector elements. Here, we use the at() function to access the element from the specified index. For example,"
   ]
  },
  {
   "cell_type": "code",
   "execution_count": 114,
   "metadata": {
    "vscode": {
     "languageId": "cpp"
    }
   },
   "outputs": [
    {
     "name": "stdout",
     "output_type": "stream",
     "text": [
      "Element at Index 0: 1\n",
      "Element at Index 2: 3\n",
      "Element at Index 4: 5"
     ]
    }
   ],
   "source": [
    " cout << \"Element at Index 0: \" << num.at(0) << endl;\n",
    "  cout << \"Element at Index 2: \" << num.at(2) << endl;\n",
    "  cout << \"Element at Index 4: \" << num.at(4);"
   ]
  },
  {
   "cell_type": "markdown",
   "metadata": {},
   "source": [
    "Here,\n",
    "\n",
    "num.at(0) - access element at index 0\n",
    "num.at(2) - access element at index 2\n",
    "num.at(4) - access element at index 4\n",
    "\n",
    "Note: Like an array, we can also use the square brackets [] to access vector elements. For example"
   ]
  },
  {
   "cell_type": "code",
   "execution_count": 115,
   "metadata": {
    "vscode": {
     "languageId": "cpp"
    }
   },
   "outputs": [
    {
     "name": "stdout",
     "output_type": "stream",
     "text": [
      "2"
     ]
    },
    {
     "data": {
      "text/plain": [
       "@0x7f38daaadde0"
      ]
     },
     "execution_count": 115,
     "metadata": {},
     "output_type": "execute_result"
    }
   ],
   "source": [
    "cout << num[1];  // Output: 2"
   ]
  },
  {
   "cell_type": "markdown",
   "metadata": {},
   "source": [
    "However, the at() function is preferred over [] because at() throws an exception whenever the vector is out of bound, while [] gives a garbage value."
   ]
  },
  {
   "cell_type": "code",
   "execution_count": 116,
   "metadata": {
    "vscode": {
     "languageId": "cpp"
    }
   },
   "outputs": [
    {
     "name": "stdout",
     "output_type": "stream",
     "text": [
      "-105367592"
     ]
    },
    {
     "ename": "Standard Exception",
     "evalue": "vector::_M_range_check: __n (which is 8) >= this->size() (which is 3)",
     "output_type": "error",
     "traceback": [
      "Standard Exception: vector::_M_range_check: __n (which is 8) >= this->size() (which is 3)"
     ]
    }
   ],
   "source": [
    "vector<int> num {1, 2, 3};\n",
    "\n",
    "// gives garbage value\n",
    "cout << num[8];\n",
    "\n",
    "// throws an exception\n",
    "cout << num.at(8);"
   ]
  },
  {
   "cell_type": "markdown",
   "metadata": {},
   "source": [
    "3. Change Vector Element\n",
    "\n",
    "We can change an element of the vector using the same at() function. For example"
   ]
  },
  {
   "cell_type": "code",
   "execution_count": null,
   "metadata": {
    "vscode": {
     "languageId": "cpp"
    }
   },
   "outputs": [
    {
     "name": "stdout",
     "output_type": "stream",
     "text": [
      "Initial Vector: 1  2  3  4  5  \n",
      "Updated Vector: 1  9  3  4  7  "
     ]
    }
   ],
   "source": [
    "vector<int> num {1, 2, 3, 4, 5};\n",
    "cout << \"Initial Vector: \";\n",
    "\n",
    "  for (const int& i : num) {\n",
    "    cout << i << \"  \";\n",
    "  }\n",
    "\n",
    "  // change elements at indexes 1 and 4\n",
    "  num.at(1) = 9;\n",
    "  num.at(4) = 7;\n",
    "\n",
    "  cout << \"\\nUpdated Vector: \";\n",
    "\n",
    "  for (const int& i : num) {\n",
    "    cout << i << \"  \";\n",
    "  }"
   ]
  },
  {
   "cell_type": "markdown",
   "metadata": {},
   "source": [
    "4. Delete Elements from C++ Vectors\n",
    "To delete a single element from a vector, we use the pop_back() function. For example,"
   ]
  },
  {
   "cell_type": "code",
   "execution_count": null,
   "metadata": {
    "vscode": {
     "languageId": "cpp"
    }
   },
   "outputs": [
    {
     "name": "stdout",
     "output_type": "stream",
     "text": [
      "Initial Vector: 2 3 5 7 \n",
      "Updated Vector: 2 3 5 "
     ]
    }
   ],
   "source": [
    "vector<int> prime_numbers{2, 3, 5, 7};\n",
    "  \n",
    "  // initial vector\n",
    "  cout << \"Initial Vector: \";\n",
    "  for (int i : prime_numbers) {\n",
    "    cout << i << \" \";\n",
    "  }\n",
    "\n",
    "  // remove the last element\n",
    "  prime_numbers.pop_back();\n",
    "\n",
    "  // final vector\n",
    "  cout << \"\\nUpdated Vector: \";\n",
    "  for (int i : prime_numbers) {\n",
    "    cout << i << \" \";\n",
    "  }"
   ]
  },
  {
   "cell_type": "markdown",
   "metadata": {},
   "source": [
    "C++ Vector Functions\n",
    "In C++, the vector header file provides various functions that can be used to perform different operations on a vector.\n",
    "\n",
    "| Function   | Description                                          |\n",
    "|------------|------------------------------------------------------|\n",
    "| size()     | returns the number of elements present in the vector |\n",
    "| clear()    | removes all the elements of the vector               |\n",
    "| front()    | returns the first element of the vector              |\n",
    "| back()     | returns the last element of the vector               |\n",
    "| empty()    | returns 1 (true) if the vector is empty              |\n",
    "| capacity() | check the overall size of a vector                   |"
   ]
  },
  {
   "cell_type": "markdown",
   "metadata": {},
   "source": [
    "### C++ Vector Iterators\n",
    "Vector iterators are used to point to the memory address of a vector element. In some ways, they act like pointers in C++.\n",
    "\n",
    "We can create vector iterators with the syntax\n",
    "vector<T>::iterator iteratorName;\n",
    "\n",
    "For example, if we have 2 vectors of int and double types, then we will need 2 different iterators corresponding to their types:"
   ]
  },
  {
   "cell_type": "code",
   "execution_count": null,
   "metadata": {
    "vscode": {
     "languageId": "cpp"
    }
   },
   "outputs": [],
   "source": [
    "// iterator for int vector\n",
    "vector<int>::iterator iter1;\n",
    "\n",
    "// iterator for double vector\n",
    "vector<double>::iterator iter2;"
   ]
  },
  {
   "cell_type": "markdown",
   "metadata": {},
   "source": [
    "#### Initialize Vector Iterators\n",
    "We can initialize vector iterators using the begin() and end() functions.\n",
    "\n",
    "1. begin() function\n",
    "\n",
    "The begin() function returns an iterator that points to the first element of the vector. For example,"
   ]
  },
  {
   "cell_type": "code",
   "execution_count": null,
   "metadata": {
    "vscode": {
     "languageId": "cpp"
    }
   },
   "outputs": [],
   "source": [
    "vector<int> num = {1, 2, 3};\n",
    "vector<int>::iterator iter;\n",
    "\n",
    "// iter points to num[0]\n",
    "iter = num.begin();"
   ]
  },
  {
   "cell_type": "markdown",
   "metadata": {},
   "source": [
    "2. end() function\n",
    "\n",
    "The end() function points to the theoretical element that comes after the final element of the vector. For example,"
   ]
  },
  {
   "cell_type": "code",
   "execution_count": null,
   "metadata": {
    "vscode": {
     "languageId": "cpp"
    }
   },
   "outputs": [],
   "source": [
    "// iter points to the last element of num\n",
    "iter = num.end() - 1;"
   ]
  },
  {
   "cell_type": "markdown",
   "metadata": {},
   "source": [
    "Here, due to the nature of the end() function, we have used the code num.end() - 1 to point to the last element of the num vector i.e. num[2]."
   ]
  },
  {
   "cell_type": "code",
   "execution_count": null,
   "metadata": {
    "vscode": {
     "languageId": "cpp"
    }
   },
   "outputs": [
    {
     "name": "stdout",
     "output_type": "stream",
     "text": [
      "num[0] = 1\n",
      "num[2] = 3\n",
      "num[4] = 5"
     ]
    }
   ],
   "source": [
    "vector<int> num {1, 2, 3, 4, 5};\n",
    "\n",
    "  // declare iterator\n",
    "  vector<int>::iterator iter;\n",
    "\n",
    "  // initialize the iterator with the first element\n",
    "  iter = num.begin();\n",
    "\n",
    "  // print the vector element\n",
    "  cout << \"num[0] = \" << *iter << endl;\n",
    "\n",
    "  // iterator points to the 3rd element\n",
    "  iter = num.begin() + 2;\n",
    "  cout << \"num[2] = \" << *iter << endl;\n",
    "\n",
    "  // iterator points to the last element\n",
    "  iter = num.end() - 1;\n",
    "  cout << \"num[4] = \" << *iter;"
   ]
  },
  {
   "cell_type": "markdown",
   "metadata": {},
   "source": [
    "In this program, we have declared an int vector iterator iter in order to use it with the vector num.\n",
    "\n",
    "// declare iterator\n",
    "vector<int>::iterator iter;\n",
    "Then, we initialized the iterator to the first element of the vector using the begin() function.\n",
    "\n",
    "// initialize the iterator with the first element\n",
    "iter = num.begin();\n",
    "Then, we printed the vector element by dereferencing the iterator:\n",
    "\n",
    "// print the vector element\n",
    "cout << \"num[0] = \" << *iter << endl;\n",
    "Then, we printed the 3rd element of the vector by changing the value of iter to num.begin() + 2.\n",
    "\n",
    "Finally, we printed the last element of the vector using the end() function."
   ]
  },
  {
   "cell_type": "markdown",
   "metadata": {},
   "source": [
    "#### Example: Iterate Through Vector Using Iterators"
   ]
  },
  {
   "cell_type": "code",
   "execution_count": null,
   "metadata": {
    "vscode": {
     "languageId": "cpp"
    }
   },
   "outputs": [
    {
     "name": "stdout",
     "output_type": "stream",
     "text": [
      "1  2  3  4  5  "
     ]
    }
   ],
   "source": [
    "// use iterator with for loop\n",
    "  for (iter = num.begin(); iter != num.end(); ++iter) {\n",
    "    cout << *iter << \"  \";\n",
    "  }"
   ]
  }
 ],
 "metadata": {
  "kernelspec": {
   "display_name": "C++17",
   "language": "C++17",
   "name": "xcpp17"
  },
  "language_info": {
   "codemirror_mode": "text/x-c++src",
   "file_extension": ".cpp",
   "mimetype": "text/x-c++src",
   "name": "c++",
   "version": "17"
  },
  "orig_nbformat": 4
 },
 "nbformat": 4,
 "nbformat_minor": 2
}
