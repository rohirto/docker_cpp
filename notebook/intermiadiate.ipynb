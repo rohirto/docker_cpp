{
 "cells": [
  {
   "cell_type": "code",
   "execution_count": 1,
   "metadata": {
    "vscode": {
     "languageId": "python"
    }
   },
   "outputs": [],
   "source": [
    "#include <iostream>\n",
    "using namespace std;\n"
   ]
  },
  {
   "cell_type": "markdown",
   "metadata": {},
   "source": [
    "# Cpp Intermediate Course"
   ]
  },
  {
   "cell_type": "markdown",
   "metadata": {},
   "source": [
    "## What is an Object\n",
    "In programming, objects are independent units, and each has its own identity, just as objects in the real world do.\n",
    "\n",
    "Objects also have characteristics that are used to describe them\n",
    "These characteristics are also called attributes\n",
    "\n",
    "An attribute describes the current state of an object.\n",
    "Objects can have multiple attributes (the mug can be empty, red and large).\n",
    "\n",
    "behavior is specific to the object's type.\n",
    "\n",
    "So, the following three dimensions describe any object in object oriented programming: identity, attributes, behavior.\n",
    "In programming, an object is self-contained, with its own identity. It is separate from other objects.\n",
    "\n",
    "Each object has its own attributes, which describe its current state. Each exhibits its own behavior, which demonstrates what they can do. "
   ]
  },
  {
   "cell_type": "markdown",
   "metadata": {},
   "source": [
    "## What is a Class\n",
    "Objects are created using classes, which are actually the focal point of OOP.\n",
    "\n",
    "The class describes what the object will be, but is separate from the object itself.\n",
    "\n",
    "In other words, a class can be described as an object's blueprint, description, or definition.\n",
    "\n",
    "You can use the same class as a blueprint for creating multiple different objects. For example, in preparation to creating a new building, the architect creates a blueprint, which is used as a basis for actually building the structure. That same blueprint can be used to create multiple buildings.\n",
    "\n",
    "Programming works in the same fashion. We first define a class, which becomes the blueprint for creating objects.\n",
    "\n",
    "Each class has a name, and describes attributes and behavior.\n",
    "\n",
    "In programming, the term type is used to refer to a class name: We're creating an object of a particular type.\n",
    "\n",
    "Attributes are also referred to as properties or data.\n",
    "\n",
    "### Methods \n",
    "\n",
    "Method is another term for a class' behavior. A method is basically a function that belongs to a class.\n",
    "\n",
    "Methods are similar to functions - they are blocks of code that are called, and they can also perform actions and return values.\n",
    "\n",
    "\n",
    "Each object is called an instance of a class. The process of creating objects is called instantiation.\n"
   ]
  },
  {
   "cell_type": "markdown",
   "metadata": {},
   "source": [
    "## Declaring a Class \n",
    "Define all attributes and behavior (or members) in the body of the class, within curly braces.\n",
    "\n",
    "You can also define an access specifier for members of the class.\n",
    "\n",
    "A member that has been defined using the public keyword can be accessed from outside the class, as long as it's anywhere within the scope of the class object.\n",
    "\n",
    "You can also designate a class' members as private or protected. This will be discussed in greater detail later in the course.\n"
   ]
  },
  {
   "cell_type": "code",
   "execution_count": 2,
   "metadata": {
    "vscode": {
     "languageId": "python"
    }
   },
   "outputs": [],
   "source": [
    "class BankAccount \n",
    "{\n",
    "    public:\n",
    "        void sayHi()\n",
    "        {\n",
    "            cout << \"Hi\" << endl;\n",
    "        }\n",
    "    \n",
    "};"
   ]
  },
  {
   "cell_type": "code",
   "execution_count": 3,
   "metadata": {
    "vscode": {
     "languageId": "python"
    }
   },
   "outputs": [
    {
     "name": "stdout",
     "output_type": "stream",
     "text": [
      "Hi\n"
     ]
    }
   ],
   "source": [
    "BankAccount test;\n",
    "test.sayHi();"
   ]
  },
  {
   "cell_type": "markdown",
   "metadata": {},
   "source": [
    "## Abstraction\n",
    "Data abstraction is the concept of providing only essential information to the outside world. It's a process of representing essential features without including implementation details.\n",
    "\n",
    "A good real-world example is a book: When you hear the term book, you don't know the exact specifics, i.e.: the page count, the color, the size, but you understand the idea of a book - the abstraction of the book.\n",
    "\n",
    "The concept of abstraction is that we focus on essential qualities, rather than the specific characteristics of one particular example.\n",
    "\n",
    "Abstraction means, that we can have an idea or a concept that is completely separate from any specific instance.\n",
    "\n",
    "It is one of the fundamental building blocks of object oriented programming.\n",
    "\n",
    "For example, when you use cout, you're actually using the cout object of the class ostream. This streams data to result in standard output.\n",
    "\n",
    "In this example, there is no need to understand how cout will display the text on the user's screen. The only thing you need to know to be able to use it is the public interface.\n",
    "\n",
    "Abstraction allows us to write a single bank account class, and then create different objects based on the class, for individual bank accounts, rather than creating a separate class for each bank account. \n",
    "\n",
    "Abstraction acts as a foundation for the other object orientation fundamentals, such as inheritance and polymorphism. These will be discussed later in the course.\n"
   ]
  },
  {
   "cell_type": "markdown",
   "metadata": {},
   "source": [
    "## Encapsulation \n",
    "\n",
    "Part of the meaning of the word encapsulation is the idea of \"surrounding\" an entity, not just to keep what's inside together, but also to protect it.\n",
    "\n",
    "In object orientation, encapsulation means more than simply combining attributes and behavior together within a class; it also means restricting access to the inner workings of that class.\n",
    "\n",
    "The key principle here is that an object only reveals what the other application components require to effectively run the application. All else is kept out of view\n",
    "\n",
    "This is called data hiding.\n",
    "\n",
    "For example, if we take our BankAccount class, we do not want some other part of our program to reach in and change the balance of any object, without going through the deposit() or withdraw() behaviors.\n",
    "\n",
    "We should hide that attribute, control access to it, so it is accessible only by the object itself.\n",
    "\n",
    "This way, the balance cannot be directly changed from outside of the object and is accessible only using its methods.\n",
    "\n",
    "This is also known as \"black boxing\", which refers to closing the inner working zones of the object, except of the pieces that we want to make public.\n",
    "\n",
    "This allows us to change attributes and implementation of methods without altering the overall program. For example, we can come back later and change the data type of the balance attribute.\n",
    "\n",
    "In summary the benefits of encapsulation are:\n",
    "\n",
    "- Control the way data is accessed or modified.\n",
    "\n",
    "- Code is more flexible and easy to change with new requirements.\n",
    "\n",
    "- Change one part of code without affecting other part of code."
   ]
  },
  {
   "cell_type": "markdown",
   "metadata": {},
   "source": [
    "## Example of Encapsulation\n",
    "\n",
    "### Access Specifiers\n",
    "\n",
    "Access specifiers are used to set access levels to particular members of the class.\n",
    "\n",
    "The three levels of access specifiers are public, protected, and private.\n",
    "\n",
    "A public member is accessible from outside the class, and anywhere within the scope of the class object."
   ]
  },
  {
   "cell_type": "code",
   "execution_count": 4,
   "metadata": {
    "vscode": {
     "languageId": "python"
    }
   },
   "outputs": [],
   "source": [
    "class myClass {\n",
    "  public:\n",
    "    string name;\n",
    "};"
   ]
  },
  {
   "cell_type": "code",
   "execution_count": 5,
   "metadata": {
    "vscode": {
     "languageId": "python"
    }
   },
   "outputs": [
    {
     "name": "stdout",
     "output_type": "stream",
     "text": [
      "SoloLearn"
     ]
    }
   ],
   "source": [
    "myClass myObj;\n",
    "  myObj.name = \"SoloLearn\";\n",
    "  cout << myObj.name;"
   ]
  },
  {
   "cell_type": "markdown",
   "metadata": {},
   "source": [
    "The name attribute is public; it can be accessed and modified from outside the code.\n",
    "\n",
    "Access modifiers only need to be declared once; multiple members can follow a single access modifier.\n",
    "\n",
    "Notice the colon (:) that follows the public keyword."
   ]
  },
  {
   "cell_type": "markdown",
   "metadata": {},
   "source": [
    "### Private\n",
    "\n",
    "A private member cannot be accessed, or even viewed, from outside the class; it can be accessed only from within the class.\n",
    "\n",
    "A public member function may be used to access the private members. For example: "
   ]
  },
  {
   "cell_type": "code",
   "execution_count": 7,
   "metadata": {
    "vscode": {
     "languageId": "python"
    }
   },
   "outputs": [],
   "source": [
    "class myClass_Private {\n",
    "  public:\n",
    "    void setName(string x) {\n",
    "      name = x;\n",
    "    }\n",
    "    \n",
    "    string getName() {\n",
    "      return name;\n",
    "    }\n",
    "  private:\n",
    "    string name;\n",
    "};"
   ]
  },
  {
   "cell_type": "code",
   "execution_count": 8,
   "metadata": {
    "vscode": {
     "languageId": "python"
    }
   },
   "outputs": [
    {
     "name": "stdout",
     "output_type": "stream",
     "text": [
      "John\n"
     ]
    }
   ],
   "source": [
    "myClass_Private myObj;\n",
    "  myObj.setName(\"John\");\n",
    "  \n",
    "  cout << myObj.getName() <<endl;"
   ]
  },
  {
   "cell_type": "markdown",
   "metadata": {},
   "source": [
    "The name attribute is private and not accessible from the outside.\n",
    "\n",
    "The public setName() method is used to set the name attribute.\n",
    "\n",
    "If no access specifier is defined, all members of a class are set to private by default.\n",
    "\n",
    "We used encapsulation to hide the name attribute from the outside code. Then we provided access to it using public methods. Our class data can be read and modified only through those methods.\n",
    "\n",
    "This allows for changes to the implementation of the methods and attributes, without affecting the outside code."
   ]
  },
  {
   "cell_type": "markdown",
   "metadata": {},
   "source": [
    "## Constrcutors\n",
    "\n",
    "Class constructors are special member functions of a class. They are executed whenever new objects are created within that class.\n",
    "\n",
    "The constructor's name is identical to that of the class. It has no return type, not even void.\n",
    "\n"
   ]
  },
  {
   "cell_type": "code",
   "execution_count": 9,
   "metadata": {
    "vscode": {
     "languageId": "python"
    }
   },
   "outputs": [],
   "source": [
    "class myClass_c {\n",
    "  public:\n",
    "    myClass_c() {\n",
    "      cout <<\"Hey\";\n",
    "    }\n",
    "    void setName(string x) {\n",
    "      name = x;\n",
    "    }\n",
    "    string getName() {\n",
    "      return name;\n",
    "    }\n",
    "  private:\n",
    "    string name;\n",
    "};\n",
    "\n",
    "\n"
   ]
  },
  {
   "cell_type": "markdown",
   "metadata": {},
   "source": [
    "Now, upon the creation of an object of type myClass, the constructor is automatically called."
   ]
  },
  {
   "cell_type": "code",
   "execution_count": 11,
   "metadata": {
    "vscode": {
     "languageId": "python"
    }
   },
   "outputs": [
    {
     "name": "stdout",
     "output_type": "stream",
     "text": [
      "Hey"
     ]
    }
   ],
   "source": [
    "  myClass_c myObj;"
   ]
  },
  {
   "cell_type": "markdown",
   "metadata": {},
   "source": [
    "Constructors can be very useful for setting initial values for certain member variables.\n",
    "\n",
    "A default constructor has no parameters. However, when needed, parameters can be added to a constructor. This makes it possible to assign an initial value to an object when it's created, as shown in the following example:"
   ]
  },
  {
   "cell_type": "code",
   "execution_count": 13,
   "metadata": {
    "vscode": {
     "languageId": "python"
    }
   },
   "outputs": [],
   "source": [
    "class myClass_v {\n",
    "  public:\n",
    "    myClass_v(string nm) {\n",
    "      setName(nm);\n",
    "    }\n",
    "    void setName(string x) {\n",
    "      name = x;\n",
    "    }\n",
    "    string getName() {\n",
    "      return name;\n",
    "    }\n",
    "  private:\n",
    "    string name;\n",
    "};"
   ]
  },
  {
   "cell_type": "code",
   "execution_count": 16,
   "metadata": {
    "vscode": {
     "languageId": "python"
    }
   },
   "outputs": [
    {
     "name": "stdout",
     "output_type": "stream",
     "text": [
      "Yo\n"
     ]
    }
   ],
   "source": [
    "myClass_v myob1(\"Yo\");\n",
    "cout << myob1.getName() << endl;"
   ]
  }
 ],
 "metadata": {
  "kernelspec": {
   "display_name": "C++17",
   "language": "C++17",
   "name": "xcpp17"
  },
  "language_info": {
   "codemirror_mode": "text/x-c++src",
   "file_extension": ".cpp",
   "mimetype": "text/x-c++src",
   "name": "c++",
   "version": "17"
  }
 },
 "nbformat": 4,
 "nbformat_minor": 2
}
