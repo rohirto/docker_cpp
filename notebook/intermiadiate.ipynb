{
 "cells": [
  {
   "cell_type": "code",
   "execution_count": 1,
   "metadata": {
    "vscode": {
     "languageId": "python"
    }
   },
   "outputs": [],
   "source": [
    "#include <iostream>\n",
    "using namespace std;\n"
   ]
  },
  {
   "cell_type": "markdown",
   "metadata": {},
   "source": [
    "# Cpp Intermediate Course"
   ]
  },
  {
   "cell_type": "markdown",
   "metadata": {},
   "source": [
    "## What is an Object\n",
    "In programming, objects are independent units, and each has its own identity, just as objects in the real world do.\n",
    "\n",
    "Objects also have characteristics that are used to describe them\n",
    "These characteristics are also called attributes\n",
    "\n",
    "An attribute describes the current state of an object.\n",
    "Objects can have multiple attributes (the mug can be empty, red and large).\n",
    "\n",
    "behavior is specific to the object's type.\n",
    "\n",
    "So, the following three dimensions describe any object in object oriented programming: identity, attributes, behavior.\n",
    "In programming, an object is self-contained, with its own identity. It is separate from other objects.\n",
    "\n",
    "Each object has its own attributes, which describe its current state. Each exhibits its own behavior, which demonstrates what they can do. "
   ]
  },
  {
   "cell_type": "markdown",
   "metadata": {},
   "source": [
    "## What is a Class\n",
    "Objects are created using classes, which are actually the focal point of OOP.\n",
    "\n",
    "The class describes what the object will be, but is separate from the object itself.\n",
    "\n",
    "In other words, a class can be described as an object's blueprint, description, or definition.\n",
    "\n",
    "You can use the same class as a blueprint for creating multiple different objects. For example, in preparation to creating a new building, the architect creates a blueprint, which is used as a basis for actually building the structure. That same blueprint can be used to create multiple buildings.\n",
    "\n",
    "Programming works in the same fashion. We first define a class, which becomes the blueprint for creating objects.\n",
    "\n",
    "Each class has a name, and describes attributes and behavior.\n",
    "\n",
    "In programming, the term type is used to refer to a class name: We're creating an object of a particular type.\n",
    "\n",
    "Attributes are also referred to as properties or data.\n",
    "\n",
    "### Methods \n",
    "\n",
    "Method is another term for a class' behavior. A method is basically a function that belongs to a class.\n",
    "\n",
    "Methods are similar to functions - they are blocks of code that are called, and they can also perform actions and return values.\n",
    "\n",
    "\n",
    "Each object is called an instance of a class. The process of creating objects is called instantiation.\n"
   ]
  },
  {
   "cell_type": "markdown",
   "metadata": {},
   "source": [
    "## Declaring a Class \n",
    "Define all attributes and behavior (or members) in the body of the class, within curly braces.\n",
    "\n",
    "You can also define an access specifier for members of the class.\n",
    "\n",
    "A member that has been defined using the public keyword can be accessed from outside the class, as long as it's anywhere within the scope of the class object.\n",
    "\n",
    "You can also designate a class' members as private or protected. This will be discussed in greater detail later in the course.\n"
   ]
  },
  {
   "cell_type": "code",
   "execution_count": 1,
   "metadata": {
    "vscode": {
     "languageId": "python"
    }
   },
   "outputs": [],
   "source": [
    "class BankAccount \n",
    "{\n",
    "    public:\n",
    "        void sayHi()\n",
    "        {\n",
    "            cout << \"Hi\" << endl;\n",
    "        }\n",
    "    \n",
    "};"
   ]
  }
 ],
 "metadata": {
  "kernelspec": {
   "display_name": "C++17",
   "language": "C++17",
   "name": "xcpp17"
  },
  "language_info": {
   "codemirror_mode": "text/x-c++src",
   "file_extension": ".cpp",
   "mimetype": "text/x-c++src",
   "name": "c++",
   "version": "17"
  }
 },
 "nbformat": 4,
 "nbformat_minor": 2
}
