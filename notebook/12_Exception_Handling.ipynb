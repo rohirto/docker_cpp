{
 "cells": [
  {
   "cell_type": "code",
   "execution_count": 1,
   "metadata": {
    "vscode": {
     "languageId": "cpp"
    }
   },
   "outputs": [],
   "source": [
    "#include <iostream>\n",
    "using namespace std;"
   ]
  },
  {
   "cell_type": "markdown",
   "metadata": {},
   "source": [
    "# Exception Handling in C++\n",
    "\n",
    "Exceptions are runtime anomalies or abnormal conditions that a program encounters during its execution. \n",
    "\n",
    "There are two types of exceptions: \n",
    "1) Synchronous\n",
    "2) Asynchronous (i.e., exceptions which are beyond the program’s control, such as disc failure, keyboard interrupts etc.). \n",
    "\n",
    "C++ provides the following specialized keywords for this purpose:\n",
    "- try: Represents a block of code that can throw an exception.\n",
    "- catch: Represents a block of code that is executed when a particular exception is thrown.\n",
    "- throw: Used to throw an exception. Also used to list the exceptions that a function throws but doesn’t handle itself.\n",
    "\n",
    "#### Why Exception Handling? \n",
    "\n",
    "The following are the main advantages of exception handling over traditional error handling:\n",
    "\n",
    "1) Separation of Error Handling code from Normal Code: In traditional error handling codes, there are always if-else conditions to handle errors. These conditions and the code to handle errors get mixed up with the normal flow. This makes the code less readable and maintainable. With try/catch blocks, the code for error handling becomes separate from the normal flow.\n",
    "\n",
    "2) Functions/Methods can handle only the exceptions they choose: A function can throw many exceptions, but may choose to handle some of them. The other exceptions, which are thrown but not caught, can be handled by the caller. If the caller chooses not to catch them, then the exceptions are handled by the caller of the caller. \n",
    "In C++, a function can specify the exceptions that it throws using the throw keyword. The caller of this function must handle the exception in some way (either by specifying it again or catching it).\n",
    "\n",
    "3) Grouping of Error Types: In C++, both basic types and objects can be thrown as exceptions. We can create a hierarchy of exception objects, group exceptions in namespaces or classes and categorize them according to their types.\n",
    "\n",
    "#### C++ Exceptions:\n",
    "\n",
    "When executing C++ code, different errors can occur: coding errors made by the programmer, errors due to wrong input, or other unforeseeable things.\n",
    "\n",
    "When an error occurs, C++ will normally stop and generate an error message. The technical term for this is: C++ will throw an exception (error).\n",
    "\n",
    "#### C++ try and catch:\n",
    "Exception handling in C++ consists of three keywords: try, throw and catch:\n",
    "\n",
    "The try statement allows you to define a block of code to be tested for errors while it is being executed.\n",
    "\n",
    "The throw keyword throws an exception when a problem is detected, which lets us create a custom error.\n",
    "\n",
    "The catch statement allows you to define a block of code to be executed if an error occurs in the try block.\n",
    "\n",
    "**The try and catch keywords come in pairs:**\n",
    "\n",
    "We use the try block to test some code: If the value of a variable “age” is less than 18, we will throw an exception, and handle it in our catch block.\n",
    "\n",
    "In the catch block, we catch the error if it occurs and do something about it. The catch statement takes a single parameter\n",
    "\n",
    "Example: "
   ]
  },
  {
   "cell_type": "code",
   "execution_count": 2,
   "metadata": {
    "vscode": {
     "languageId": "cpp"
    }
   },
   "outputs": [
    {
     "name": "stdout",
     "output_type": "stream",
     "text": [
      "Before try \n",
      "Inside try \n",
      "Exception Caught \n",
      "After catch (Will be executed) \n"
     ]
    },
    {
     "data": {
      "text/plain": [
       "@0x7f7f1e1a9de0"
      ]
     },
     "execution_count": 2,
     "metadata": {},
     "output_type": "execute_result"
    }
   ],
   "source": [
    "\n",
    "\n",
    "int x = -1;\n",
    "\n",
    "// Some code\n",
    "cout << \"Before try \\n\";\n",
    "try {\n",
    "\tcout << \"Inside try \\n\";\n",
    "\tif (x < 0)\n",
    "\t{\n",
    "\t\tthrow x;\n",
    "\t\tcout << \"After throw (Never executed) \\n\";\n",
    "\t}\n",
    "}\n",
    "catch (int x ) {\n",
    "\tcout << \"Exception Caught \\n\";\n",
    "}\n",
    "\n",
    "cout << \"After catch (Will be executed) \\n\";\n",
    "\n"
   ]
  },
  {
   "cell_type": "markdown",
   "metadata": {},
   "source": [
    "#### catch all\n",
    "\n",
    "There is a special catch block called the ‘catch all’ block, written as catch(…), that can be used to catch all types of exceptions. For example, in the following program, an int is thrown as an exception, but there is no catch block for int, so the catch(…) block will be executed. "
   ]
  },
  {
   "cell_type": "code",
   "execution_count": 3,
   "metadata": {
    "vscode": {
     "languageId": "cpp"
    }
   },
   "outputs": [
    {
     "name": "stdout",
     "output_type": "stream",
     "text": [
      "Default Exception\n"
     ]
    }
   ],
   "source": [
    "\n",
    "    try  {\n",
    "       throw 10;\n",
    "    }\n",
    "    catch (char *excp)  {\n",
    "        cout << \"Caught \" << excp;\n",
    "    }\n",
    "    catch (...)  {\n",
    "        cout << \"Default Exception\\n\";\n",
    "    }"
   ]
  },
  {
   "cell_type": "markdown",
   "metadata": {},
   "source": [
    "## Catching Base and Derived Classes as Exceptions in C++ \n",
    "\n",
    "- If both base and derived classes are caught as exceptions, then the catch block of the derived class must appear before the base class. \n",
    "- If we put the base class first then the derived class catch block will never be reached. For example, the following C++ code prints “Caught Base Exception“ ."
   ]
  },
  {
   "cell_type": "code",
   "execution_count": 4,
   "metadata": {
    "vscode": {
     "languageId": "cpp"
    }
   },
   "outputs": [
    {
     "name": "stderr",
     "output_type": "stream",
     "text": [
      "input_line_14:15:12: warning: exception of type 'Derived' will be caught by earlier handler [-Wexceptions]\n",
      "    catch (Derived d) {\n",
      "           ^\n",
      "input_line_14:12:12: note: for type '__cling_N55::Base'\n",
      "    catch (Base b) {\n",
      "           ^\n"
     ]
    },
    {
     "name": "stdout",
     "output_type": "stream",
     "text": [
      "Caught Base Exception"
     ]
    }
   ],
   "source": [
    "class Base {\n",
    "};\n",
    "class Derived : public Base {\n",
    "};\n",
    "Derived d;\n",
    "// Some other functionalities\n",
    "try {\n",
    "    // Monitored code\n",
    "    throw d;\n",
    "}\n",
    "catch (Base b) {\n",
    "    cout << \"Caught Base Exception\";\n",
    "}\n",
    "catch (Derived d) {\n",
    "    // This 'catch' block is NEVER executed\n",
    "    cout << \"Caught Derived Exception\";\n",
    "}"
   ]
  },
  {
   "cell_type": "code",
   "execution_count": 5,
   "metadata": {
    "vscode": {
     "languageId": "cpp"
    }
   },
   "outputs": [
    {
     "name": "stdout",
     "output_type": "stream",
     "text": [
      "Caught Derived Exception"
     ]
    }
   ],
   "source": [
    "//if we change the order of catch statements then both catch statements become reachable. \n",
    "Derived d;\n",
    "// Some other functionalities\n",
    "try {\n",
    "    // Monitored code\n",
    "    throw d;\n",
    "}\n",
    "catch (Derived d) {\n",
    "    cout << \"Caught Derived Exception\";\n",
    "}\n",
    "catch (Base b) {\n",
    "    cout << \"Caught Base Exception\";\n",
    "}"
   ]
  },
  {
   "cell_type": "markdown",
   "metadata": {},
   "source": [
    "In both C++ you can catch both base and derived classes as exceptions. This is useful when you want to catch multiple exceptions that may have a common base class.\n",
    "\n",
    "In C++, you can catch base and derived classes as exceptions using the catch block. When you catch a base class, it will also catch any derived classes of that base class. Here’s an example:\n",
    "\n"
   ]
  },
  {
   "cell_type": "code",
   "execution_count": 9,
   "metadata": {
    "vscode": {
     "languageId": "cpp"
    }
   },
   "outputs": [
    {
     "ename": "Standard Exception",
     "evalue": "Derived exception",
     "output_type": "error",
     "traceback": [
      "Standard Exception: Derived exception"
     ]
    }
   ],
   "source": [
    "#include <exception>\n",
    "\n",
    "\n",
    "//a BaseException class is defined and a DerivedException class is derived from it\n",
    "class BaseException : public exception {\n",
    "public:\n",
    "    virtual const char* what() const throw() {\n",
    "        return \"Base exception\";\n",
    "    }\n",
    "};\n",
    " \n",
    "class DerivedException : public BaseException {\n",
    "public:\n",
    "    virtual const char* what() const throw() {\n",
    "        return \"Derived exception\";\n",
    "    }\n",
    "};\n",
    "\n",
    "try {\n",
    "    // code that might throw exceptions\n",
    "    throw DerivedException(); //a DerivedException object is thrown.\n",
    "    //throw BaseException();\n",
    "} catch (BaseException& e) {\n",
    "    cout << \"Caught exception: \" << e.what() << endl;\n",
    "}"
   ]
  },
  {
   "cell_type": "markdown",
   "metadata": {},
   "source": [
    "the C++ library has a standard exception class which is the base class for all standard exceptions. All objects thrown by the components of the standard library are derived from this class. Therefore, all standard exceptions can be caught by catching this type\n",
    "\n",
    "```#include <exception>```\n",
    "\n",
    "C++, all exceptions are unchecked, i.e., the compiler doesn’t check whether an exception is caught or not (Some other exceptions might go unnoticed, See the example below). So, it is not necessary to specify all uncaught exceptions in a function declaration. Although it’s a recommended practice to do so. For example, the following program compiles fine, but ideally the signature of fun() should list the unchecked exceptions. "
   ]
  },
  {
   "cell_type": "code",
   "execution_count": 10,
   "metadata": {
    "vscode": {
     "languageId": "cpp"
    }
   },
   "outputs": [
    {
     "name": "stdout",
     "output_type": "stream",
     "text": [
      "Caught exception from fun()"
     ]
    }
   ],
   "source": [
    "void fun(int *ptr, int x)\n",
    "{\n",
    "    if (ptr == NULL)\n",
    "        throw ptr;\n",
    "    if (x == 0)  //This exception will be unchecked\n",
    "        throw x;\n",
    "    /* Some functionality */\n",
    "}\n",
    "\n",
    "try {\n",
    "    fun(NULL, 0);\n",
    "}\n",
    "catch(...) {\n",
    "    cout << \"Caught exception from fun()\";\n",
    "}"
   ]
  },
  {
   "cell_type": "markdown",
   "metadata": {},
   "source": [
    "A better way to write the above code: \n",
    "\n",
    "```\n",
    "// Here we specify the exceptions that this function \n",
    "// throws.\n",
    "void fun(int *ptr, int x) throw (int *, int) // Dynamic Exception specification\n",
    "{\n",
    "    if (ptr == NULL)\n",
    "        throw ptr;\n",
    "    if (x == 0)\n",
    "        throw x;\n",
    "    /* Some functionality */\n",
    "}\n",
    "\n",
    "try {\n",
    "    fun(NULL, 0);\n",
    "}\n",
    "catch(...) {\n",
    "    cout << \"Caught exception from fun()\";\n",
    "}\n",
    "```\n",
    "\n",
    "Note : The use of Dynamic Exception Specification has been deprecated since C++11. One of the reasons for it may be that it can randomly abort your program. This can happen when you throw an exception of another type which is not mentioned in the dynamic exception specification. Your program will abort itself because in that scenario, it calls (indirectly) terminate(), which by default calls abort()."
   ]
  },
  {
   "cell_type": "markdown",
   "metadata": {},
   "source": [
    "In C++, try/catch blocks can be nested. Also, an exception can be re-thrown using “throw; “"
   ]
  },
  {
   "cell_type": "code",
   "execution_count": 12,
   "metadata": {
    "vscode": {
     "languageId": "cpp"
    }
   },
   "outputs": [
    {
     "name": "stdout",
     "output_type": "stream",
     "text": [
      "Handle Partially Handle remaining "
     ]
    }
   ],
   "source": [
    "try {\n",
    "    try {\n",
    "        throw 20;\n",
    "    }\n",
    "    catch (int n) {\n",
    "        cout << \"Handle Partially \";\n",
    "        throw; // Re-throwing an exception\n",
    "    }\n",
    "}\n",
    "catch (int n) {\n",
    "    cout << \"Handle remaining \";\n",
    "}"
   ]
  },
  {
   "cell_type": "markdown",
   "metadata": {},
   "source": [
    "When an exception is thrown, all objects created inside the enclosing try block are destroyed before the control is transferred to the catch block.\n"
   ]
  },
  {
   "cell_type": "code",
   "execution_count": 13,
   "metadata": {
    "vscode": {
     "languageId": "cpp"
    }
   },
   "outputs": [
    {
     "name": "stdout",
     "output_type": "stream",
     "text": [
      "Constructor of Test \n",
      "Destructor of Test \n",
      "Caught 10\n"
     ]
    }
   ],
   "source": [
    "class Test {\n",
    "public:\n",
    "    Test() { cout << \"Constructor of Test \" << endl; }\n",
    "    ~Test() { cout << \"Destructor of Test \" << endl; }\n",
    "};\n",
    "\n",
    "try {\n",
    "    Test t1;\n",
    "    throw 10;\n",
    "}\n",
    "catch (int i) {\n",
    "    cout << \"Caught \" << i << endl;\n",
    "}"
   ]
  },
  {
   "cell_type": "markdown",
   "metadata": {},
   "source": [
    "# Handling the Divide by Zero Exception in C++\n",
    "\n",
    "Below code w/o any handling"
   ]
  },
  {
   "cell_type": "code",
   "execution_count": 14,
   "metadata": {
    "vscode": {
     "languageId": "cpp"
    }
   },
   "outputs": [
    {
     "name": "stdout",
     "output_type": "stream",
     "text": [
      "The quotient of 12.5/0 is inf\n"
     ]
    }
   ],
   "source": [
    "// Defining function Division \n",
    "float Division(float num, float den) \n",
    "{ \n",
    "    // return the result of division \n",
    "    return (num / den); \n",
    "  \n",
    "} // end Division \n",
    "\n",
    "// storing 12.5 in numerator \n",
    "    // and 0 in denominator \n",
    "    float numerator = 12.5; \n",
    "    float denominator = 0; \n",
    "    float result; \n",
    "  \n",
    "    // calls Division function \n",
    "    result = Division(numerator, denominator); \n",
    "  \n",
    "    // display the value stored in result \n",
    "    cout << \"The quotient of 12.5/0 is \"\n",
    "         << result << endl; "
   ]
  },
  {
   "cell_type": "markdown",
   "metadata": {},
   "source": [
    "We can handle this exception in a number of different ways, some of which are listed below\n",
    "\n",
    "1) Using the runtime_error class:\n",
    "The runtime_error class is a derived class of Standard Library class exception, defined in exception header file for representing runtime errors.\n",
    "\n",
    "[Runtime_Error](../volansys_cpp_advanced/15_Exception_Handling/runtime_error.cpp)\n",
    "\n",
    "2) Using User defined exception handling:\n",
    "Here we define a class Exception that publicly inherits from runtime_error class. Inside the class Exception, we define only a constructor that will display the message “Math error: Attempted to divide by Zero” when called using the class object\n",
    "\n",
    "[User_defined_Exception](../volansys_cpp_advanced/15_Exception_Handling/userdefined_exception_handling.cpp)\n",
    "\n",
    "3) Using Stack Unwinding:\n",
    "Have an additional function call made\n",
    "\n",
    "[User_Stack_Unwinding](../volansys_cpp_advanced/15_Exception_Handling/userdefined_exception_handling.cpp)\n",
    "\n",
    "4) Using try and catch(…)\n",
    "To catch any type of exception\n",
    "\n",
    "[Try_and_Catch](../volansys_cpp_advanced/15_Exception_Handling/Try_and_Catch.cpp)\n",
    "\n"
   ]
  },
  {
   "cell_type": "markdown",
   "metadata": {},
   "source": [
    "# Common Exceptions And Their Causes\n",
    "\n",
    "**Standard Library Exceptions**\n",
    "Here's a brief list of prevalent exceptions and their triggers:\n",
    "\n",
    "- std::exception: Base class for all standard C++ exceptions.\n",
    "- std::runtime_error: Generic exception thrown for runtime errors.\n",
    "- std::out_of_range: Thrown when trying to access an element outside the bounds of a container.\n",
    "- std::invalid_argument: Raised when an invalid argument is provided to a function.\n",
    "- std::bad_alloc: Triggered when memory allocation fails.\n",
    "\n",
    "**User-Defined Exceptions**\n",
    "\n",
    "A simple user-defined exception might look like:\n",
    "\n",
    "```\n",
    "class MyException : public std::exception {\n",
    "    virtual const char* what() const throw() {\n",
    "        return \"My custom exception occurred!\";\n",
    "    }\n",
    "};\n",
    "\n",
    "// Later in the code\n",
    "throw MyException();  // Throws our custom exception\n",
    "```\n"
   ]
  },
  {
   "cell_type": "markdown",
   "metadata": {},
   "source": [
    "# Best Practices In C++ Exception Handling\n",
    "\n",
    "- Avoid Generic Catches\n",
    "\n",
    "- Throw Exceptions By Value, Catch By Reference\n",
    "Always throw exceptions by value and catch them by reference. This approach prevents potential slicing issues and is more efficient.\n",
    "\n",
    "```\n",
    "throw std::runtime_error(\"Error message\");  // Throw by value\n",
    "\n",
    "// Catch by reference\n",
    "catch (const std::runtime_error& e) {\n",
    "    std::cerr << e.what() << std::endl;\n",
    "}\n",
    "```\n",
    "\n",
    "- Use RAII For Resource Management\n",
    "Resource Acquisition Is Initialization (RAII) is a C++ idiom that ensures resource management through object lifetimes. By employing RAII, resources like files or memory are managed automatically, making exception handling cleaner.\n",
    "\n",
    "```\n",
    "class FileWrapper {\n",
    "    std::ofstream file;\n",
    "public:\n",
    "    FileWrapper(const std::string& filename) : file(filename) {}\n",
    "    ~FileWrapper() { if (file.is_open()) file.close(); }\n",
    "    // Other methods here\n",
    "};\n",
    "\n",
    "{\n",
    "    FileWrapper fw(\"data.txt\");\n",
    "    // If an exception is thrown here, the file will be closed gracefully due to RAII.\n",
    "}\n",
    "```\n",
    "\n",
    "- Avoid Exceptions In Destructors\n",
    "- Prefer The Noexcept Specifier\n",
    "For functions that are not expected to throw exceptions, use the noexcept specifier. This informs the compiler and other developers about the non-throwing intent.\n",
    "```\n",
    "void MyFunction() noexcept {\n",
    "    // Code that doesn't throw exceptions\n",
    "}\n",
    "```\n",
    "\n",
    "- Prioritizing Catch Blocks\n",
    "When handling both types, the order of catch blocks matters. Always place more specific exceptions (like user-defined) before generic ones to ensure the right catch block gets triggered."
   ]
  },
  {
   "cell_type": "markdown",
   "metadata": {},
   "source": [
    "# Exception Safety And Design Principles\n",
    "\n",
    "Achieving exception safety in C++ goes beyond merely handling errors. It's rooted in designing your code to remain consistent and robust even when exceptions are thrown. Exception safety is categorized into different guarantees, each ensuring a specific level of safety.\n",
    "\n",
    "1. Basic Guarantee: \n",
    "The basic guarantee promises that no resources are leaked, and all objects remain in a valid state even after an exception. Though the exact state might be unpredictable, it ensures the object's consistency.\n",
    "```\n",
    "class BasicGuarantee {\n",
    "    int* data;\n",
    "\n",
    "public:\n",
    "    void setData(int value) {\n",
    "        int* temp = new int(value);  // Allocate new memory\n",
    "        delete data;                 // Delete old memory\n",
    "        data = temp;                 // Assign new memory\n",
    "    }\n",
    "    // Other members and destructor\n",
    "};\n",
    "```\n",
    "\n",
    "2. Strong Guarantee: \n",
    "The strong guarantee takes it a step further. It ensures that operations either complete successfully or have no observable side effects, preserving object state.\n",
    "\n",
    "```\n",
    "class StrongGuarantee {\n",
    "    std::vector<int> data;\n",
    "\n",
    "public:\n",
    "    void addElement(int value) {\n",
    "        std::vector<int> temp = data;\n",
    "        temp.push_back(value);\n",
    "        data = temp;\n",
    "    }\n",
    "};\n",
    "```\n",
    "\n",
    "In this example, if pushing back to the temp vector throws an exception, the main data vector remains unaffected.\n",
    "\n",
    "3. No-Throw Guarantee\n",
    "As the pinnacle of exception safety, the no-throw guarantee asserts that a function will never throw any exceptions.\n",
    "```\n",
    "void NoThrowFunction() noexcept {\n",
    "    // Code that is guaranteed not to throw\n",
    "}\n",
    "```\n",
    "\n",
    "\n",
    "By adhering to this principle, you ensure utmost stability, especially in performance-critical scenarios.\n",
    "\n",
    "4. Leveraging Smart Pointers\n",
    "\n",
    "Using smart pointers like std::unique_ptr and std::shared_ptr greatly improves exception safety. They manage resource ownership, ensuring no leaks, even when exceptions arise.\n",
    "\n",
    "\n",
    "Incorporating smart pointers removes manual memory management, reducing the risk of leaks due to unexpected exceptions.\n",
    "\n",
    "\n",
    "\n"
   ]
  },
  {
   "cell_type": "markdown",
   "metadata": {},
   "source": [
    "# Stack Unwinding in C++\n",
    "\n",
    "Stack Unwinding is the process of removing function entries from function call stack at run time. The local objects are destroyed in reverse order in which they were constructed. \n",
    "\n",
    "Stack Unwinding is generally related to Exception Handling. \n",
    "In C++, when an exception occurs, the function call stack is linearly searched for the exception handler, and all the entries before the function with exception handler are removed from the function call stack. \n",
    "So, exception handling involves Stack Unwinding if an exception is not handled in the same function (where it is thrown). \n",
    "Basically, Stack unwinding is a process of calling the destructors (whenever an exception is thrown) for all the automatic objects constructed at run time. \n",
    "\n",
    "Example: [LINK](../volansys_cpp_advanced/15_Exception_Handling/Stack_Unwinding.cpp)\n",
    "\n"
   ]
  },
  {
   "cell_type": "markdown",
   "metadata": {},
   "source": [
    "# User-defined Custom Exception with class in C++\n",
    "\n",
    "Example: [LINK](../volansys_cpp_advanced/15_Exception_Handling/exception_constructor.cpp)"
   ]
  },
  {
   "cell_type": "markdown",
   "metadata": {},
   "source": [
    "# How to Handle exception at C++ constructor using Boost's Shared Ptr\n",
    "\n",
    "Its a very common problem in C++ that if a class's constructor throws an exception (say memory allocation exception) how we should handle it. \n",
    "\n",
    "suppose we need to allocate some dynamic memory in the constructor... and while doing that the constructor throws a memory exception... so the stack based pointer which was referencing the heap based memory will be destroyed because of the stack unwinding... so we will have some memory which is referenced by no pointer and hence we cannot access that... so obviously its a memory leak... so, how can we handle that...\n",
    "\n",
    "the best way to handle this kind of situation in modern C++ is to use auto_ptr/shared_ptr... so the solution will look something as the following:\n",
    "\n",
    "Example: [LINK](../volansys_cpp_advanced/15_Exception_Handling/exception_handling_smart_ptrs.cpp)"
   ]
  },
  {
   "cell_type": "markdown",
   "metadata": {},
   "source": [
    "# C++ : THROWING EXCEPTIONS FROM A DESTRUCTOR\n",
    "\n",
    "Throwning exceptions from a destructor\n",
    "- From C++11 onwards, the destructor defaults to ’noexcept’. i.e The destructor will not throw.\n",
    "   Writing a destructor without noexcept (false) would generate a compilation error\n",
    "- If an exception still needs to be throw in the destructor make ’noexcept’ false.\n",
    "- An exception should never escape from a destructor if at all it is thrown in the destructor.\n",
    "- A program would certainly crash if an exception thrown from the destructor leaves (not caught) the destructor.\n",
    "\n",
    "Possible Exception in destructor: Exception thrown in destructor should never leave the destructor: [LINK](../volansys_cpp_advanced/15_Exception_Handling/exception_in_destructor.cpp)"
   ]
  }
 ],
 "metadata": {
  "kernelspec": {
   "display_name": "C++17",
   "language": "C++17",
   "name": "xcpp17"
  },
  "language_info": {
   "codemirror_mode": "text/x-c++src",
   "file_extension": ".cpp",
   "mimetype": "text/x-c++src",
   "name": "C++17",
   "version": "17"
  }
 },
 "nbformat": 4,
 "nbformat_minor": 2
}
