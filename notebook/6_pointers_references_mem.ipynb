{
 "cells": [
  {
   "cell_type": "markdown",
   "metadata": {},
   "source": [
    "# Pointers\n",
    "\n",
    "As just seen, a variable which stores the address of another variable is called a pointer. Pointers are said to \"point to\" the variable whose address they store.\n",
    "\n",
    "## Address-of operator (&)\n",
    "The address of a variable can be obtained by preceding the name of a variable with an ampersand sign (&), known as address-of operator.\n",
    "\n",
    "## Dereference operator (*)\n",
    "An interesting property of pointers is that they can be used to access the variable they point to directly. This is done by preceding the pointer name with the dereference operator (*). The operator itself can be read as \"value pointed to by\".\n",
    "\n",
    "The reference and dereference operators are thus complementary:\n",
    " - & is the address-of operator, and can be read simply as \"address of\"\n",
    " - \\* is the dereference operator, and can be read as \"value pointed to by\"\n",
    "\n",
    "## Pointers and arrays\n",
    "The concept of arrays is related to that of pointers. In fact, arrays work very much like pointers to their first elements, and, actually, an array can always be implicitly converted to the pointer of the proper type. For example, consider these two declarations:\n",
    "\n",
    "```\n",
    "int myarray [20];\n",
    "int * mypointer;\n",
    "```\n",
    "\n",
    "The following assignment operation would be valid:\n",
    "\n",
    "```mypointer = myarray;```\n",
    "\n",
    "*The main difference being that mypointer can be assigned a different address, whereas myarray can never be assigned anything, and will always represent the same block of 20 elements of type int*\n",
    "\n",
    "In the chapter about arrays, brackets ([]) were explained as specifying the index of an element of the array. Well, in fact these brackets are a dereferencing operator known as offset operator. They dereference the variable they follow just as * does, but they also add the number between brackets to the address being dereferenced. For example:\n",
    "\n",
    "```\n",
    "a[5] = 0;       // a [offset of 5] = 0\n",
    "*(a+5) = 0;     // pointed to by (a+5) = 0  \n",
    "```\n",
    "\n",
    "These two expressions are equivalent and valid, not only if a is a pointer, but also if a is an array. Remember that if an array, its name can be used just like a pointer to its first element.\n",
    "\n",
    "### Pointer arithmetics\n",
    "\n",
    "![Alt text](https://cplusplus.com/doc/tutorial/pointers/pointer_arithmetics.png)\n",
    "\n",
    "```\n",
    "*p++   // same as *(p++): increment pointer, and dereference unincremented address\n",
    "*++p   // same as *(++p): increment pointer, and dereference incremented address\n",
    "++*p   // same as ++(*p): dereference pointer, and increment the value it points to\n",
    "(*p)++ // dereference pointer, and post-increment the value it points to \n",
    "```\n",
    "\n",
    "A typical -but not so simple- statement involving these operators is:\n",
    "\n",
    "\n",
    "```*p++ = *q++;```\n",
    "\n",
    "Because ++ has a higher precedence than *, both p and q are incremented, but because both increment operators (++) are used as postfix and not prefix, the value assigned to *p is *q before both p and q are incremented. And then both are incremented. It would be roughly equivalent to:\n",
    "\n",
    "```\n",
    "*p = *q;\n",
    "++p;\n",
    "++q;\n",
    "```\n",
    "Like always, parentheses reduce confusion by adding legibility to expressions.\n",
    "\n",
    "### Pointers and const\n",
    "\n",
    " it is also possible to declare pointers that can access the pointed value to read it, but not to modify it. For this, it is enough with qualifying the type pointed to by the pointer as const. For example:"
   ]
  },
  {
   "cell_type": "code",
   "execution_count": 1,
   "metadata": {
    "vscode": {
     "languageId": "cpp"
    }
   },
   "outputs": [],
   "source": [
    "#include <iostream>\n",
    "#include <vector>\n",
    "using namespace std;"
   ]
  },
  {
   "cell_type": "code",
   "execution_count": 2,
   "metadata": {
    "vscode": {
     "languageId": "cpp"
    }
   },
   "outputs": [
    {
     "data": {
      "text/plain": [
       "10"
      ]
     },
     "execution_count": 2,
     "metadata": {},
     "output_type": "execute_result"
    }
   ],
   "source": [
    "int x;\n",
    "int y = 10;\n",
    "const int * p = &y;  \n",
    "x = *p;          // ok: reading p\n",
    "//*p = x;          // error: modifying p, which is const-qualified \n"
   ]
  },
  {
   "cell_type": "markdown",
   "metadata": {},
   "source": [
    "Here p points to a variable, but points to it in a const-qualified manner, meaning that it can read the value pointed, but it cannot modify it. Note also, that the expression &y is of type int*, but this is assigned to a pointer of type const int*. This is allowed: a pointer to non-const can be implicitly converted to a pointer to const. As a safety feature, pointers to const are not implicitly convertible to pointers to non-const.\n",
    "\n",
    "One of the use cases of pointers to const elements is as function parameters: a function that takes a pointer to non-const as parameter can modify the value passed as argument, while a function that takes a pointer to const as parameter cannot."
   ]
  },
  {
   "cell_type": "code",
   "execution_count": 3,
   "metadata": {
    "vscode": {
     "languageId": "cpp"
    }
   },
   "outputs": [],
   "source": [
    "//This is bad practice when you dont want func to modify params, function params can get modfied inside the functions\n",
    "void increment_all (int* start, int* stop)\n",
    "{\n",
    "  int * current = start;\n",
    "  while (current != stop) {\n",
    "    ++(*current);  // increment value pointed\n",
    "    ++current;     // increment pointer\n",
    "  }\n",
    "}\n",
    "\n"
   ]
  },
  {
   "cell_type": "code",
   "execution_count": 4,
   "metadata": {
    "vscode": {
     "languageId": "cpp"
    }
   },
   "outputs": [
    {
     "name": "stdout",
     "output_type": "stream",
     "text": [
      "11\n",
      "21\n",
      "31\n"
     ]
    }
   ],
   "source": [
    "//This is a good practice when you dont want fucntion to modify the referenceed params\n",
    "void print_all (const int* start, const int* stop)\n",
    "{\n",
    "  const int * current = start;\n",
    "  while (current != stop) {\n",
    "    cout << *current << '\\n';\n",
    "    ++current;     // increment pointer\n",
    "  }\n",
    "}\n",
    "\n",
    "int numbers[] = {10,20,30};\n",
    "increment_all (numbers,numbers+3);\n",
    "print_all (numbers,numbers+3);"
   ]
  },
  {
   "cell_type": "markdown",
   "metadata": {},
   "source": [
    "### Various types of Pointer declarations\n",
    "```\n",
    "int x;\n",
    "      int *       p1 = &x;  // non-const pointer to non-const int\n",
    "const int *       p2 = &x;  // non-const pointer to const int\n",
    "      int * const p3 = &x;  // const pointer to non-const int\n",
    "const int * const p4 = &x;  // const pointer to const int \n",
    "```\n",
    "\n",
    "the const qualifier can either precede or follow the pointed type, with the exact same meaning:\n",
    "\n",
    "```\n",
    "const int * p2a = &x;  //      non-const pointer to const int\n",
    "int const * p2b = &x;  // also non-const pointer to const int \n",
    "```\n",
    "\n",
    "## Pointers to pointers\n",
    "\n",
    "C++ allows the use of pointers that point to pointers, that these, in its turn, point to data (or even to other pointers). The syntax simply requires an asterisk (*) for each level of indirection in the declaration of the pointer:\n",
    "\n",
    "```\n",
    "char a;\n",
    "char * b;\n",
    "char ** c;\n",
    "a = 'z';\n",
    "b = &a;\n",
    "c = &b;\n",
    "```\n",
    "\n",
    "This, assuming the randomly chosen memory locations for each variable of 7230, 8092, and 10502, could be represented as:\n",
    "\n",
    "![Alt text](https://cplusplus.com/doc/tutorial/pointers/pointer_to_pointer.png)\n",
    "\n",
    "The new thing in this example is variable c, which is a pointer to a pointer, and can be used in three different levels of indirection, each one of them would correspond to a different value:\n",
    "\n",
    "- c is of type char\\*\\* and a value of 8092\n",
    "- \\*c is of type char\\* and a value of 7230\n",
    "- \\*\\*c is of type char and a value of 'z'\n",
    "\n",
    "## void pointers\n",
    "\n",
    "The void type of pointer is a special type of pointer. In C++, void represents the absence of type. Therefore, void pointers are pointers that point to a value that has no type (and thus also an undetermined length and undetermined dereferencing properties).\n",
    "\n",
    "This gives void pointers a great flexibility, \n",
    "- by being able to point to any data type, from an integer value or a float to a string of characters. \n",
    "\n",
    "In exchange, they have a great limitation: \n",
    "- the data pointed to by them cannot be directly dereferenced (which is logical, since we have no type to dereference to), and for that reason, any address in a void pointer needs to be transformed into some other pointer type that points to a concrete data type before being dereferenced.\n",
    "\n",
    "possible uses may be to pass generic parameters to a function.\n"
   ]
  },
  {
   "cell_type": "code",
   "execution_count": 5,
   "metadata": {
    "vscode": {
     "languageId": "cpp"
    }
   },
   "outputs": [
    {
     "name": "stdout",
     "output_type": "stream",
     "text": [
      "y, 1603\n"
     ]
    }
   ],
   "source": [
    "void increase (void* data, int psize)\n",
    "{\n",
    "  if ( psize == sizeof(char) )\n",
    "  { char* pchar; pchar=(char*)data; ++(*pchar); }\n",
    "  else if (psize == sizeof(int) )\n",
    "  { int* pint; pint=(int*)data; ++(*pint); }\n",
    "}\n",
    "\n",
    "char a = 'x';\n",
    "int b = 1602;\n",
    "increase (&a,sizeof(a));\n",
    "increase (&b,sizeof(b));\n",
    "cout << a << \", \" << b << '\\n';"
   ]
  },
  {
   "cell_type": "markdown",
   "metadata": {},
   "source": [
    "## Invalid pointers and null pointers\n",
    "\n",
    "there exists a special value that any pointer type can take: the null pointer value. This value can be expressed in C++ in two ways: either with an integer value of zero, or with the nullptr keyword:\n",
    "\n",
    "```\n",
    "int * p = 0;\n",
    "int * q = nullptr;\n",
    "```\n",
    "\n",
    "Here, both p and q are null pointers, meaning that they explicitly point to nowhere, and they both actually compare equal: all null pointers compare equal to other null pointers. It is also quite usual to see the defined constant NULL be used in older code to refer to the null pointer value:\n",
    "\n",
    "```int * r = NULL;```\n",
    "\n",
    "NULL is defined in several headers of the standard library, and is defined as an alias of some null pointer constant value (such as 0 or nullptr).\n",
    "\n"
   ]
  },
  {
   "cell_type": "markdown",
   "metadata": {},
   "source": [
    "# References in C++\n",
    "\n",
    "When a variable is declared as a reference, it becomes an alternative name for an existing variable. A variable can be declared as a reference by putting ‘&’ in the declaration. \n",
    "\n",
    "Also, we can define a reference variable as a type of variable that can act as a reference to another variable. ‘&’ is used for signifying the address of a variable or any memory. Variables associated with reference variables can be accessed either by its name or by the reference variable associated with it.\n",
    "\n",
    "Syntax:\n",
    "\n",
    "```data_type &ref = variable;```"
   ]
  },
  {
   "cell_type": "code",
   "execution_count": 6,
   "metadata": {
    "vscode": {
     "languageId": "cpp"
    }
   },
   "outputs": [
    {
     "name": "stdout",
     "output_type": "stream",
     "text": [
      "x = 20\n",
      "ref = 30\n"
     ]
    }
   ],
   "source": [
    "//Example:\n",
    "\n",
    "int x = 10;\n",
    " \n",
    "// ref is a reference to x.\n",
    "int& ref = x;\n",
    " \n",
    "// Value of x is now changed to 20\n",
    "ref = 20;\n",
    "cout << \"x = \" << x << '\\n';\n",
    " \n",
    "// Value of x is now changed to 30\n",
    "x = 30;\n",
    "cout << \"ref = \" << ref << '\\n';"
   ]
  },
  {
   "cell_type": "markdown",
   "metadata": {},
   "source": [
    "### Applications of Reference in C++\n",
    "There are multiple applications for references in C++, a few of them are mentioned below:\n",
    "\n",
    "1. Modify the passed parameters in a function\n",
    "2. Avoiding a copy of large structures\n",
    "3. In For Each Loop to modify all objects\n",
    "4. For Each Loop to avoid the copy of objects"
   ]
  },
  {
   "cell_type": "markdown",
   "metadata": {},
   "source": [
    "#### 1. Modify the passed parameters in a function: \n",
    "If a function receives a reference to a variable, it can modify the value of the variable. For example, the following program variables are swapped using references. "
   ]
  },
  {
   "cell_type": "code",
   "execution_count": 7,
   "metadata": {
    "vscode": {
     "languageId": "cpp"
    }
   },
   "outputs": [
    {
     "name": "stdout",
     "output_type": "stream",
     "text": [
      "3 2"
     ]
    }
   ],
   "source": [
    "// C++ Program to demonstrate\n",
    "// Passing of references as parameters\n",
    "\n",
    "// Function having parameters as\n",
    "// references\n",
    "void swap(int& first, int& second)\n",
    "{\n",
    "    int temp = first;\n",
    "    first = second;\n",
    "    second = temp;\n",
    "}\n",
    "\n",
    " // Variables declared\n",
    "int a = 2, b = 3;\n",
    " \n",
    "// function called\n",
    "swap(a, b);\n",
    " \n",
    "// changes can be seen\n",
    "// printing both variables\n",
    "cout << a << \" \" << b;"
   ]
  },
  {
   "cell_type": "markdown",
   "metadata": {},
   "source": [
    "### 2. Avoiding a copy of large structures: \n",
    "Imagine a function that has to receive a large object. If we pass it without reference, a new copy of it is created which causes a waste of CPU time and memory. We can use references to avoid this. \n",
    "\n",
    "Example:"
   ]
  },
  {
   "cell_type": "code",
   "execution_count": 8,
   "metadata": {
    "vscode": {
     "languageId": "cpp"
    }
   },
   "outputs": [],
   "source": [
    "struct Student {\n",
    "    string name;\n",
    "    string address;\n",
    "    int rollNo;\n",
    "};"
   ]
  },
  {
   "cell_type": "code",
   "execution_count": 9,
   "metadata": {
    "vscode": {
     "languageId": "cpp"
    }
   },
   "outputs": [
    {
     "name": "stdout",
     "output_type": "stream",
     "text": [
      "rohit  xyz  10\n"
     ]
    }
   ],
   "source": [
    "\n",
    "\n",
    "// If we remove & in below function, a new\n",
    "// copy of the student object is created. \n",
    "// We use const to avoid accidental updates\n",
    "// in the function as the purpose of the function\n",
    "// is to print s only.\n",
    "void print(const struct Student &s)\n",
    "{\n",
    "    cout << s.name << \"  \" << s.address << \"  \" << s.rollNo\n",
    "         << '\\n';\n",
    "}\n",
    "\n",
    "struct Student s;\n",
    "s.name = \"rohit\";\n",
    "s.address = \"xyz\";\n",
    "s.rollNo=10;\n",
    "\n",
    "print(s);"
   ]
  },
  {
   "cell_type": "markdown",
   "metadata": {},
   "source": [
    "### 3. In For Each Loop to modify all objects:\n",
    " We can use references for each loop to modify all elements.\n",
    "\n",
    "Example:"
   ]
  },
  {
   "cell_type": "code",
   "execution_count": 10,
   "metadata": {
    "vscode": {
     "languageId": "cpp"
    }
   },
   "outputs": [
    {
     "name": "stdout",
     "output_type": "stream",
     "text": [
      "15 25 35 45 \n"
     ]
    },
    {
     "data": {
      "text/plain": [
       "@0x7f6edf41ade0"
      ]
     },
     "execution_count": 10,
     "metadata": {},
     "output_type": "execute_result"
    }
   ],
   "source": [
    "vector<int> vect{ 10, 20, 30, 40 };\n",
    " \n",
    "// We can modify elements if we\n",
    "// use reference\n",
    "for (int& x : vect) {\n",
    "    x = x + 5;\n",
    "}\n",
    " \n",
    "// Printing elements\n",
    "for (int x : vect) {\n",
    "    cout << x << \" \";\n",
    "}\n",
    "cout << '\\n';\n",
    " "
   ]
  },
  {
   "cell_type": "markdown",
   "metadata": {},
   "source": [
    "###  4. For Each Loop to avoid the copy of objects: \n",
    "We can use references in each loop to avoid a copy of individual objects when objects are large.  \n",
    "\n",
    "Example:"
   ]
  },
  {
   "cell_type": "code",
   "execution_count": 11,
   "metadata": {
    "vscode": {
     "languageId": "cpp"
    }
   },
   "outputs": [
    {
     "name": "stdout",
     "output_type": "stream",
     "text": [
      "geeksforgeeks practice\n",
      "geeksforgeeks write\n",
      "geeksforgeeks ide\n"
     ]
    }
   ],
   "source": [
    "\n",
    "// C++ Program to use references\n",
    "// For Each Loop to avoid the\n",
    "// copy of objects\n",
    "\n",
    "// Declaring vector\n",
    "vector<string> vect{ \"geeksforgeeks practice\",\n",
    "                    \"geeksforgeeks write\",\n",
    "                    \"geeksforgeeks ide\" };\n",
    " \n",
    "// We avoid copy of the whole string\n",
    "// object by using reference.\n",
    "for (const auto& x : vect) {\n",
    "    cout << x << '\\n';\n",
    "}"
   ]
  },
  {
   "cell_type": "markdown",
   "metadata": {},
   "source": [
    "## References vs Pointers\n",
    "\n",
    "Both references and pointers can be used to change the local variables of one function inside another function. Both of them can also be used to save copying of big objects when passed as arguments to functions or returned from functions, to get efficiency gain. Despite the above similarities, there are the following differences between references and pointers.\n",
    "\n",
    "1. A pointer can be declared as void but a reference can never be void For example\n",
    "```\n",
    "int a = 10;\n",
    "void* aa = &a; // it is valid\n",
    "void& ar = a;  // it is not valid\n",
    "```\n",
    "\n",
    "2. The pointer variable has n-levels/multiple levels of indirection i.e. single-pointer, double-pointer, triple-pointer. Whereas, the reference variable has only one/single level of indirection."
   ]
  },
  {
   "cell_type": "code",
   "execution_count": 12,
   "metadata": {
    "vscode": {
     "languageId": "cpp"
    }
   },
   "outputs": [
    {
     "name": "stdout",
     "output_type": "stream",
     "text": [
      "i = 10\tp = 0x7f6edf21e108\tpt = 0x7f6edf21e110\tptr = 0x7f6edf21e118\n",
      "a = 5\tS = 5\tS0 = 5\tS1 = 5\n"
     ]
    },
    {
     "data": {
      "text/plain": [
       "@0x7f6edf41ade0"
      ]
     },
     "execution_count": 12,
     "metadata": {},
     "output_type": "execute_result"
    }
   ],
   "source": [
    "// simple or ordinary variable.\n",
    "int i = 10;\n",
    " \n",
    "// single pointer\n",
    "int* p = &i;\n",
    " \n",
    "// double pointer\n",
    "int** pt = &p;\n",
    " \n",
    "// triple pointer\n",
    "int*** ptr = &pt;\n",
    " \n",
    "// All the above pointers differ in the value they store\n",
    "// or point to.\n",
    "cout << \"i = \" << i << \"\\t\"\n",
    "    << \"p = \" << p << \"\\t\"\n",
    "    << \"pt = \" << pt << \"\\t\"\n",
    "    << \"ptr = \" << ptr << '\\n';\n",
    " \n",
    "// simple or ordinary variable\n",
    "int a = 5;\n",
    "int& S = a;\n",
    "int& S0 = S;\n",
    "int& S1 = S0;\n",
    " \n",
    "// All the references do not differ in their\n",
    "// values as they all refer to the same variable.\n",
    "cout << \"a = \" << a << \"\\t\"\n",
    "    << \"S = \" << S << \"\\t\"\n",
    "    << \"S0 = \" << S0 << \"\\t\"\n",
    "    << \"S1 = \" << S1 << '\\n';\n",
    " "
   ]
  },
  {
   "cell_type": "markdown",
   "metadata": {},
   "source": [
    "## Limitations of References\n",
    "1. Once a reference is created, it cannot be later made to reference another object; it cannot be reset. This is often done with pointers. \n",
    "2. References cannot be NULL. Pointers are often made NULL to indicate that they are not pointing to any valid thing. \n",
    "3. A reference must be initialized when declared. There is no such restriction with pointers.\n",
    "\n",
    "\n",
    "Due to the above limitations, references in C++ cannot be used for implementing data structures like Linked List, Tree, etc. In Java, references don’t have the above restrictions and can be used to implement all data structures. References being more powerful in Java is the main reason Java doesn’t need pointers."
   ]
  },
  {
   "cell_type": "markdown",
   "metadata": {},
   "source": [
    "## Advantages of using References\n",
    "1. Safer: Since references must be initialized, wild references like wild pointers are unlikely to exist. It is still possible to have references that don’t refer to a valid location (See questions 5 and 6 in the below exercise) \n",
    "2. Easier to use: References don’t need a dereferencing operator to access the value. They can be used like normal variables. The ‘&’ operator is needed only at the time of declaration. Also, members of an object reference can be accessed with the dot operator (‘.’), unlike pointers where the arrow operator (->) is needed to access members.\n",
    "\n",
    "\n",
    "Together with the above reasons, there are a few places like the copy constructor argument where a pointer cannot be used. Reference must be used to pass the argument in the copy constructor. Similarly, references must be used for overloading some operators like ++.\n",
    "\n"
   ]
  },
  {
   "cell_type": "markdown",
   "metadata": {},
   "source": [
    "# C++ Memory Management: new and delete\n",
    "\n",
    "C++ allows us to allocate the memory of a variable or an array in run time. This is known as dynamic memory allocation.\n",
    "\n",
    "## C++ new Operator\n",
    "\n",
    "The new operator allocates memory to a variable. For example,"
   ]
  },
  {
   "cell_type": "code",
   "execution_count": 13,
   "metadata": {
    "vscode": {
     "languageId": "cpp"
    }
   },
   "outputs": [],
   "source": [
    "// declare an int pointer\n",
    "int* pointVar;\n",
    "\n",
    "// dynamically allocate memory\n",
    "// using the new keyword \n",
    "pointVar = new int;  //the new operator returns the address of the first element of the array.\n",
    "\n",
    "// assign value to allocated memory\n",
    "*pointVar = 45;"
   ]
  },
  {
   "cell_type": "markdown",
   "metadata": {},
   "source": [
    "## delete Operator\n",
    "It returns the memory to the operating system. This is known as memory deallocation.\n",
    "\n",
    "The syntax for this operator is\n",
    "\n",
    "```delete pointerVariable;```"
   ]
  },
  {
   "cell_type": "code",
   "execution_count": 14,
   "metadata": {
    "vscode": {
     "languageId": "cpp"
    }
   },
   "outputs": [
    {
     "name": "stdout",
     "output_type": "stream",
     "text": [
      "45"
     ]
    }
   ],
   "source": [
    "// Continuing above example\n",
    "\n",
    "// print the value stored in memory\n",
    "cout << *pointVar; // Output: 45\n",
    "\n",
    "// deallocate the memory\n",
    "delete pointVar;"
   ]
  },
  {
   "cell_type": "markdown",
   "metadata": {},
   "source": [
    "#### C++ new and delete Operator for Arrays"
   ]
  },
  {
   "cell_type": "code",
   "execution_count": 15,
   "metadata": {
    "vscode": {
     "languageId": "cpp"
    }
   },
   "outputs": [
    {
     "name": "stdout",
     "output_type": "stream",
     "text": [
      "Enter number: Enter number: Enter number: Enter number: Enter number: Entry1: 1\n",
      "Entry2: 2\n",
      "Entry3: 3\n",
      "Entry4: 4\n",
      "Entry5: 5\n"
     ]
    }
   ],
   "source": [
    "float* ptr;\n",
    "int num = 5;\n",
    "\n",
    "// memory allocation of num number of floats\n",
    "ptr = new float[num];\n",
    "\n",
    "for (int i = 0; i < num; ++i) {\n",
    "    cout << \"Enter number: \";\n",
    "    cin >> *(ptr + i);\n",
    "}\n",
    "\n",
    "for (int i = 0; i < num; ++i) {\n",
    "    cout << \"Entry\" << i + 1 << \": \" << *(ptr + i) << endl;\n",
    "  }\n",
    "\n",
    "  // ptr memory is released\n",
    "  delete[] ptr;"
   ]
  }
 ],
 "metadata": {
  "kernelspec": {
   "display_name": "C++17",
   "language": "C++17",
   "name": "xcpp17"
  },
  "language_info": {
   "codemirror_mode": "text/x-c++src",
   "file_extension": ".cpp",
   "mimetype": "text/x-c++src",
   "name": "C++17",
   "version": "17"
  }
 },
 "nbformat": 4,
 "nbformat_minor": 2
}
