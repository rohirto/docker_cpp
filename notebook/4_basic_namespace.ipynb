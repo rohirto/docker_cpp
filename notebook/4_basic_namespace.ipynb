{
 "cells": [
  {
   "cell_type": "code",
   "execution_count": 1,
   "metadata": {
    "vscode": {
     "languageId": "cpp"
    }
   },
   "outputs": [],
   "source": [
    "#include <iostream>\n",
    "using namespace std;"
   ]
  },
  {
   "cell_type": "markdown",
   "metadata": {},
   "source": [
    "## Namespaces\n",
    "\n",
    "In C++, namespaces provide a way to organize code into separate logical units, preventing naming conflicts and providing a mechanism for better code organization. Namespaces allow you to group related elements such as variables, functions, and classes, providing a form of modularization within your codebase.\n",
    "\n",
    "A namespace is designed to overcome this difficulty and is used as additional information to differentiate similar functions, classes, variables etc. with the same name available in different libraries. Using namespace, you can define the context in which names are defined. In essence, a namespace defines a scope.\n",
    "\n",
    "### Syntax:"
   ]
  },
  {
   "cell_type": "code",
   "execution_count": 2,
   "metadata": {
    "vscode": {
     "languageId": "cpp"
    }
   },
   "outputs": [],
   "source": [
    "namespace MyNamespace {\n",
    "    // Declarations and definitions go here\n",
    "    int variable1;\n",
    "    class MyClass {\n",
    "        // Class definition\n",
    "    };\n",
    "}\n",
    "\n",
    " "
   ]
  },
  {
   "cell_type": "code",
   "execution_count": 3,
   "metadata": {
    "vscode": {
     "languageId": "cpp"
    }
   },
   "outputs": [
    {
     "name": "stdout",
     "output_type": "stream",
     "text": [
      "42"
     ]
    }
   ],
   "source": [
    "// Accessing variables and functions in the namespace\n",
    "    MyNamespace::variable1 = 42;\n",
    "\n",
    "//Namespace Aliases\n",
    "namespace NS = MyNamespace;\n",
    "\n",
    "cout << NS::variable1;"
   ]
  },
  {
   "cell_type": "code",
   "execution_count": 4,
   "metadata": {
    "vscode": {
     "languageId": "cpp"
    }
   },
   "outputs": [],
   "source": [
    "// first name space\n",
    "namespace first_space {\n",
    "   void func() {\n",
    "      cout << \"Inside first_space\" << endl;\n",
    "   }\n",
    "}\n",
    "\n",
    "// second name space\n",
    "namespace second_space {\n",
    "   void func() {\n",
    "      cout << \"Inside second_space\" << endl;\n",
    "   }\n",
    "}\n",
    "\n"
   ]
  },
  {
   "cell_type": "code",
   "execution_count": 5,
   "metadata": {
    "vscode": {
     "languageId": "cpp"
    }
   },
   "outputs": [
    {
     "name": "stdout",
     "output_type": "stream",
     "text": [
      "Inside first_space\n",
      "Inside second_space\n"
     ]
    }
   ],
   "source": [
    "// Calls function from first name space.\n",
    "   first_space::func();\n",
    "   \n",
    "   // Calls function from second name space.\n",
    "   second_space::func(); "
   ]
  },
  {
   "cell_type": "markdown",
   "metadata": {},
   "source": [
    "### Using a Namespace in C++\n",
    " - There are three ways to use a namespace in C++:\n",
    "\n",
    "    + Using Scope Resolution Operator (::)\n",
    "    + Using Directive (using namespace xyz)\n",
    "    + Using Declaration (using xyz::abc)"
   ]
  },
  {
   "cell_type": "markdown",
   "metadata": {},
   "source": [
    "### Benefits of Namespaces:\n",
    "- Avoiding Naming Conflicts:\n",
    "    + Namespaces help prevent naming conflicts by encapsulating elements within a specific scope. Elements in different namespaces can have the same names without causing conflicts.\n",
    "\n",
    "- Modularization and Organization:\n",
    "    + Namespaces allow you to modularize your code, organizing related elements together. This makes the codebase more maintainable and readable.\n",
    "\n",
    "- Improving Code Reusability:\n",
    "    + Namespaces contribute to code reusability by providing a way to group and encapsulate related functionality, making it easier to reuse components in different parts of the codebase."
   ]
  },
  {
   "cell_type": "markdown",
   "metadata": {},
   "source": [
    "##### The using directive\n",
    "You can also avoid prepending of namespaces with the using namespace directive. This directive tells the compiler that the subsequent code is making use of names in the specified namespace. The namespace is thus implied for the following code −\n",
    "\n",
    "``` using namespace std```"
   ]
  },
  {
   "cell_type": "markdown",
   "metadata": {},
   "source": [
    "The ‘using’ directive can also be used to refer to a particular item within a namespace. For example, if the only part of the std namespace that you intend to use is cout, you can refer to it as follows −\n",
    "\n",
    "```using std::cout;```\n",
    "\n",
    "Subsequent code can refer to cout without prepending the namespace, but other items in the std namespace will still need to be explicit as follows −\n",
    "\n",
    "```\n",
    "#include <iostream>\n",
    "using std::cout;\n",
    "\n",
    "int main () {\n",
    "   cout << \"std::endl is used with std!\" << std::endl;\n",
    "   \n",
    "   return 0;\n",
    "}\n",
    "```"
   ]
  },
  {
   "cell_type": "markdown",
   "metadata": {},
   "source": [
    "#### Discontiguous Namespaces in C++\n",
    "\n",
    "We can define namespaces in various program parts that can even be spread over multiple files. This is known as a Discontiguous namespace. The entire namespace is considered as the sum of its separately defined parts.\n",
    "Let us take an example to understand discontiguous namespaces:\n",
    "\n"
   ]
  },
  {
   "cell_type": "code",
   "execution_count": 6,
   "metadata": {
    "vscode": {
     "languageId": "cpp"
    }
   },
   "outputs": [],
   "source": [
    "// 1st part of the namespace\n",
    "namespace ns {\n",
    "    int\n",
    "    var = 20;\n",
    "}\n",
    "\n",
    "// 2nd part of the namespace ns.\n",
    "namespace ns {\n",
    "    void func() {\n",
    "        cout << \"The value of var is: \" <<\n",
    "            var << endl;\n",
    "    }\n",
    "}"
   ]
  },
  {
   "cell_type": "code",
   "execution_count": 7,
   "metadata": {
    "vscode": {
     "languageId": "cpp"
    }
   },
   "outputs": [
    {
     "name": "stdout",
     "output_type": "stream",
     "text": [
      "The value of var is: 20\n"
     ]
    }
   ],
   "source": [
    "ns::func();"
   ]
  },
  {
   "cell_type": "markdown",
   "metadata": {},
   "source": [
    "#### Nested Namespaces \n",
    "```\n",
    "namespace OuterNamespace {\n",
    "    namespace InnerNamespace {\n",
    "        // Code elements go here\n",
    "    }\n",
    "}\n",
    "```"
   ]
  },
  {
   "cell_type": "markdown",
   "metadata": {},
   "source": [
    "#### Inline Namespaces\n",
    "\n",
    "In C++, an inline namespace is a feature introduced in C++11 to provide versioning and to make certain changes to a namespace without affecting its clients. It allows for more flexibility in managing changes to library interfaces. Here's an explanation of inline namespaces:\n",
    "\n",
    "- Syntax:\n",
    "\n",
    "    + An inline namespace is declared using the inline keyword in its original-namespace-definition.\n",
    "```\n",
    "inline namespace ns-name {\n",
    "    // declarations\n",
    "}\n",
    "```\n",
    "\n",
    "- Purpose:\n",
    "\n",
    "    + The primary purpose of an inline namespace is to allow changes to a namespace without breaking existing code.\n",
    "- Versioning:\n",
    "\n",
    "    + Inline namespaces are often used for versioning. When a new version of a library is introduced, it can be placed in an inline namespace. Existing code continues to use the older version, while new code or code explicitly updated to use the new version can refer to it without explicitly using the namespace.\n",
    "```\n",
    "// Old version\n",
    "namespace mylib {\n",
    "    int foo();  // Version 1\n",
    "}\n",
    "\n",
    "// New version\n",
    "inline namespace mylib_v2 {\n",
    "    int foo();  // Version 2\n",
    "}\n",
    "```\n",
    "- Transitivity:\n",
    "\n",
    "    + The members of an inline namespace are treated as if they are part of the enclosing namespace in many situations. This transitivity simplifies the syntax for using the members.\n",
    "- ADL (Argument-Dependent Lookup):\n",
    "\n",
    "    + When a namespace is added to the set of associated namespaces during ADL, its inline namespaces are also added. This makes it easier to find functions or operators associated with the types involved in function calls.\n",
    "- Partial Specialization and Explicit Instantiation:\n",
    "\n",
    "    + Each member of an inline namespace can be partially specialized, explicitly instantiated, or explicitly specialized, just like members of the enclosing namespace.\n",
    "    + Example:\n",
    "```\n",
    "// Old version\n",
    "namespace math {\n",
    "    int add(int a, int b);\n",
    "}\n",
    "\n",
    "// New version\n",
    "inline namespace math_v2 {\n",
    "    int add(int a, int b, int c);  // Function added in version 2\n",
    "}\n",
    "```\n",
    "In this example, the add function is extended in the new version, but existing code using the old version is not affected.\n",
    "\n",
    "- Benefits:\n",
    "\n",
    "    + Inline namespaces provide a way to evolve libraries without breaking existing code.\n",
    "    + They simplify versioning by allowing the coexistence of different versions in the same program.\n",
    "    + Inline namespaces are a powerful tool for library developers who want to introduce changes incrementally and maintain compatibility with existing code. They contribute to the overall flexibility and adaptability of C++ libraries."
   ]
  },
  {
   "cell_type": "markdown",
   "metadata": {},
   "source": [
    "A member of an inline namespace is treated as if it was a member of the surrounding namespace. Such a member can be partially specialized, explicitly instantiated, or explicitly specialized. This is a transitive property, which means that if a namespace A contains an inline namespace B that contains an inline namespace C, then the members of C appear as they were members of both B and A and the members of B appear as they were members of A."
   ]
  },
  {
   "cell_type": "markdown",
   "metadata": {},
   "source": [
    "##### Using Declarations\n",
    "A using declaration provides access to a specific namespace member. This is accomplished by applying the using keyword to a namespace name with its corresponding namespace member."
   ]
  },
  {
   "cell_type": "code",
   "execution_count": 8,
   "metadata": {
    "vscode": {
     "languageId": "cpp"
    }
   },
   "outputs": [],
   "source": [
    "namespace A\n",
    "{\n",
    "    int f(int){return 1;}\n",
    "}\n",
    "using A::f; // ::f is now a synonym for A::f(int)\n",
    " \n",
    "namespace A       // namespace extension\n",
    "{\n",
    "    int f(char){return 2;} // does not change what ::f means\n",
    "}\n",
    " \n",
    "void foo()\n",
    "{\n",
    "    cout << f('a') << endl; // calls f(int), even though f(char) exists.\n",
    "}\n",
    " \n",
    "void bar()\n",
    "{\n",
    "    using A::f; // this f is a synonym for both A::f(int) and A::f(char)\n",
    "    cout << f('a') << endl;     // calls f(char)\n",
    "}"
   ]
  },
  {
   "cell_type": "code",
   "execution_count": 9,
   "metadata": {
    "vscode": {
     "languageId": "cpp"
    }
   },
   "outputs": [
    {
     "name": "stdout",
     "output_type": "stream",
     "text": [
      "1\n",
      "2\n"
     ]
    }
   ],
   "source": [
    "foo();\n",
    "bar();"
   ]
  },
  {
   "cell_type": "code",
   "execution_count": 10,
   "metadata": {
    "vscode": {
     "languageId": "cpp"
    }
   },
   "outputs": [],
   "source": [
    "namespace A\n",
    "{\n",
    "    int x;\n",
    "}\n",
    " \n",
    "namespace B\n",
    "{\n",
    "    int i;\n",
    "    struct g {};\n",
    "    struct x {};\n",
    " \n",
    "    void f(int){};\n",
    "    void f(double){};\n",
    "    void g(char){}; // OK: function name g hides struct g\n",
    "}\n",
    " \n",
    "void func()\n",
    "{\n",
    "    int i;\n",
    "    //using B::i;   // error: i declared twice\n",
    " \n",
    "    void f(char);\n",
    "    using B::f;   // OK: f(char), f(int), f(double) are overloads\n",
    "    f(3.5);       // calls B::f(double)\n",
    " \n",
    "    using B::g;\n",
    "    g('a');       // calls B::g(char)\n",
    "    struct g g1;  // declares g1 to have type struct B::g\n",
    " \n",
    "    using B::x;\n",
    "    using A::x;   // OK: hides struct B::x\n",
    "    x = 99;       // assigns to A::x\n",
    "    struct x x1;  // declares x1 to have type struct B::x\n",
    "}"
   ]
  }
 ],
 "metadata": {
  "kernelspec": {
   "display_name": "C++17",
   "language": "C++17",
   "name": "xcpp17"
  },
  "language_info": {
   "codemirror_mode": "text/x-c++src",
   "file_extension": ".cpp",
   "mimetype": "text/x-c++src",
   "name": "c++",
   "version": "17"
  }
 },
 "nbformat": 4,
 "nbformat_minor": 2
}
