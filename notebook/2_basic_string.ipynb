{
 "cells": [
  {
   "cell_type": "markdown",
   "metadata": {},
   "source": [
    "# Introduction to std::string\n",
    "C++ has introduced two additional string types (**WHICH ARE DIFFERENT FROM C-STYLED STRINGS**) into the language that are much easier and safer to work with: \n",
    "```\n",
    "- std::string \n",
    "- std::string_view (C++17). \n",
    "```\n",
    "\n",
    "Although std::string and std::string_view aren’t fundamental types, they’re straightforward and useful enough that we’ll introduce them here."
   ]
  },
  {
   "cell_type": "code",
   "execution_count": 1,
   "metadata": {
    "vscode": {
     "languageId": "cpp"
    }
   },
   "outputs": [
    {
     "name": "stdout",
     "output_type": "stream",
     "text": [
      "My name is: Alex\n",
      "My name is: John\n"
     ]
    }
   ],
   "source": [
    "#include <iostream>\n",
    "#include <string> // allows use of std::string\n",
    "\n",
    "std::string name { \"Alex\" }; // initialize name with string literal \"Alex\"\n",
    "// The use of braces ({}) for initialization is a feature introduced in C++11, known as uniform initialization.\n",
    "std::cout << \"My name is: \" << name << '\\n';\n",
    "name = \"John\";               // change name to \"John\"\n",
    "std::cout << \"My name is: \" << name << '\\n';\n"
   ]
  },
  {
   "cell_type": "markdown",
   "metadata": {},
   "source": [
    "### Uniform Initialization\n",
    " - The use of braces ({}) for initialization is a feature introduced in C++11, known as uniform initialization.\n",
    " - The use of braces for initialization (int x { 5 };) is recommended in modern C++ because it provides more consistent and less error-prone initialization syntax compared to traditional methods. It also helps prevent narrowing conversions and allows the use of the auto keyword for type inference. "
   ]
  },
  {
   "cell_type": "markdown",
   "metadata": {},
   "source": [
    "### std::string can handle strings of different lengths\n",
    "One of the neatest things that std::string can do is hold strings of different sizes:"
   ]
  },
  {
   "cell_type": "code",
   "execution_count": 2,
   "metadata": {
    "vscode": {
     "languageId": "cpp"
    }
   },
   "outputs": [
    {
     "name": "stdout",
     "output_type": "stream",
     "text": [
      "Alex\n",
      "Jason\n",
      "Jay\n"
     ]
    }
   ],
   "source": [
    "std::string name { \"Alex\" }; // initialize name with string literal \"Alex\"\n",
    "std::cout << name << '\\n';\n",
    "\n",
    "name = \"Jason\";              // change name to a longer string\n",
    "std::cout << name << '\\n';\n",
    "\n",
    "name = \"Jay\";                // change name to a shorter string\n",
    "std::cout << name << '\\n';"
   ]
  },
  {
   "cell_type": "markdown",
   "metadata": {},
   "source": [
    "In the above example, name is initialized with the string \"Alex\", which contains five characters (four explicit characters and a null-terminator). We then set name to a larger string, and then a smaller string. std::string has no problem handling this!"
   ]
  },
  {
   "cell_type": "markdown",
   "metadata": {},
   "source": [
    "### String input with std::cin\n",
    "```\n",
    "std::cout << \"Enter your full name: \";\n",
    "std::string name{};\n",
    "std::cin >> name; // this won't work as expected since std::cin breaks on whitespace\n",
    "```\n",
    "\n",
    "### Use std::getline() to input text\n",
    "\n",
    "```\n",
    "std::cout << \"Enter your full name: \";\n",
    "std::string name{};\n",
    "std::getline(std::cin >> std::ws, name); // read a full line of text into name\n",
    "```\n",
    "\n",
    "### What the heck is std::ws? (In above line)\n",
    "C++ has output manipulators, which allow us to alter the way output is displayed. \n",
    "\n",
    "C++ also supports input manipulators, which alter the way that input is accepted. The std::ws input manipulator tells std::cin to ignore any leading whitespace before extraction. Leading whitespace is any whitespace character (spaces, tabs, newlines) that occur at the start of the string.\n",
    "\n",
    "#### Why is std::ws needed?\n",
    "When you enter a value using operator>>, std::cin not only captures the value, it also captures the newline character ('\\n') that occurs when you hit the enter key. So when we type 2 and then hit enter, std::cin captures the string \"2\\n\" as input. It then extracts the value 2 to variable choice, leaving the newline character behind for later. Then, when std::getline() goes to extract text to name, it sees \"\\n\" is already waiting in std::cin, and figures we must have previously entered an empty string! Definitely not what was intended."
   ]
  },
  {
   "cell_type": "code",
   "execution_count": 3,
   "metadata": {
    "vscode": {
     "languageId": "cpp"
    }
   },
   "outputs": [
    {
     "name": "stdout",
     "output_type": "stream",
     "text": [
      "Pick 1 or 2: Now enter your name: Hello, rohirto, you picked 2\n"
     ]
    }
   ],
   "source": [
    "    std::cout << \"Pick 1 or 2: \";\n",
    "    int choice{};\n",
    "    std::cin >> choice;\n",
    "\n",
    "    std::cout << \"Now enter your name: \";\n",
    "    std::string name{};\n",
    "    std::getline(std::cin >> std::ws, name); // note: added std::ws here, if not then \\n would be your name as explained earlier\n",
    "\n",
    "    std::cout << \"Hello, \" << name << \", you picked \" << choice << '\\n';\n",
    "\n",
    "    return 0;"
   ]
  },
  {
   "cell_type": "markdown",
   "metadata": {},
   "source": [
    "#### Best practice\n",
    "\n",
    "If using std::getline() to read strings, use std::cin >> std::ws input manipulator to ignore leading whitespace. This needs to be done for each std::getline() call, as std::ws is not preserved across calls."
   ]
  },
  {
   "cell_type": "markdown",
   "metadata": {},
   "source": [
    "### The length of a std::string"
   ]
  },
  {
   "cell_type": "code",
   "execution_count": 4,
   "metadata": {
    "vscode": {
     "languageId": "cpp"
    }
   },
   "outputs": [
    {
     "name": "stdout",
     "output_type": "stream",
     "text": [
      "Alex has 4 characters\n"
     ]
    }
   ],
   "source": [
    "std::string name{ \"Alex\" };\n",
    "std::cout << name << \" has \" << name.length() << \" characters\\n\";"
   ]
  },
  {
   "cell_type": "markdown",
   "metadata": {},
   "source": [
    "The length() function isn’t a normal standalone function -- it’s a special type of function that is nested within std::string called a member function. Because the length() member function is declared inside of std::string, it is sometimes written as \n",
    "```std::string::length()``` in documentation.\n",
    "\n",
    "Also note that std::string::length() returns an unsigned integral value (most likely of type size_t). If you want to assign the length to an int variable, you should static_cast it to avoid compiler warnings about signed/unsigned conversions:\n",
    "```\n",
    "int length { static_cast<int>(name.length()) };\n",
    "```\n",
    "\n",
    "In C++20, you can also use the ```std::ssize()``` function to get the length of a std::string as a signed integral value\n",
    "\n",
    "#### Initializing a std::string is expensive\n",
    "\n",
    "Whenever a std::string is initialized, a copy of the string used to initialize it is made. Making copies of strings is expensive, so care should be taken to minimize the number of copies made.\n",
    "\n",
    "#### Do not pass std::string by value\n",
    "\n",
    "When a std::string is passed to a function by value, the std::string function parameter must be instantiated and initialized with the argument. This results in an expensive copy. We’ll discuss what to do instead (use std::string_view) \n",
    "\n",
    "\n",
    "#### Returning a std::string\n",
    "\n",
    "However, as a rule of thumb, it is okay to return a std::string by value when the expression of the return statement resolves to any of the following:\n",
    "\n",
    "- A local variable of type std::string.\n",
    "- A std::string that has been returned by value from a function call or operator.\n",
    "- A std::string that is created as part of the return statement.\n",
    "\n",
    "If returning a C-style string literal, use a std::string_view return type instead\n",
    "\n",
    "#### Literals for std::string\n",
    "We can create string literals with type std::string by using a s suffix after the double-quoted string literal. (Thus such literals are not c-styled strings)"
   ]
  },
  {
   "cell_type": "code",
   "execution_count": 5,
   "metadata": {
    "vscode": {
     "languageId": "cpp"
    }
   },
   "outputs": [
    {
     "name": "stdout",
     "output_type": "stream",
     "text": [
      "foo\n",
      "goo\n"
     ]
    },
    {
     "data": {
      "text/plain": [
       "@0x7f1102661de0"
      ]
     },
     "execution_count": 5,
     "metadata": {},
     "output_type": "execute_result"
    }
   ],
   "source": [
    "using namespace std::string_literals; // easy access to the s suffix\n",
    "\n",
    "std::cout << \"foo\\n\";   // no suffix is a C-style string literal\n",
    "std::cout << \"goo\\n\"s;  // s suffix is a std::string literal"
   ]
  },
  {
   "cell_type": "markdown",
   "metadata": {},
   "source": [
    "#### Constexpr strings\n",
    "constexpr std::string isn’t supported at all in C++17 or earlier, and only works in very limited cases in C++20/23. If you need constexpr strings, use std::string_view instead\n",
    "\n",
    "### But what is consexpr string??\n",
    "```\n",
    "constexpr const char* hello = \"Hello, World!\";\n",
    "```\n",
    "A string of Constant characters.\n",
    "\n",
    "the constexpr specifier is used to declare a compile-time string named hello. The variable is then used in the main function, and it will be evaluated at compile-time."
   ]
  },
  {
   "cell_type": "markdown",
   "metadata": {},
   "source": [
    "## Introduction to std::string_view\n",
    "Unlike fundamental types, initializing and copying a std::string is slow.\n",
    "\n",
    "To address the issue with std::string being expensive to initialize (or copy), C++17 introduced std::string_view (which lives in the ```<string_view>``` header). std::string_view provides read-only access to an existing string (a C-style string, a std::string, or another std::string_view) without making a copy. Read-only means that we can access and use the value being viewed, but we can not modify it.\n"
   ]
  },
  {
   "cell_type": "code",
   "execution_count": 6,
   "metadata": {
    "vscode": {
     "languageId": "cpp"
    }
   },
   "outputs": [
    {
     "name": "stdout",
     "output_type": "stream",
     "text": [
      "Hello, world!\n"
     ]
    }
   ],
   "source": [
    "#include <string_view>\n",
    "\n",
    "// str provides read-only access to whatever argument is passed in\n",
    "void printSV(std::string_view str) // now a std::string_view\n",
    "{\n",
    "    std::cout << str << '\\n';\n",
    "}\n",
    "\n",
    "std::string_view s{ \"Hello, world!\" }; // now a std::string_view\n",
    "printSV(s);"
   ]
  },
  {
   "cell_type": "markdown",
   "metadata": {},
   "source": [
    "When we initialize std::string_view s with C-style string literal \"Hello, world!\", s provides read-only access to “Hello, world!” without making a copy of the string. When we pass s to printSV(), parameter str is initialized from s. This allows us to access “Hello, world!” through str, again without making a copy of the string.\n",
    "\n",
    "Prefer std::string_view over std::string when you need a read-only string, especially for function parameters.\n",
    "\n",
    "#### std::string_view can be initialized with many different types of strings\n",
    "\n",
    "A std::string_view object can be initialized with a C-style string, a std::string, or another std::string_view:"
   ]
  },
  {
   "cell_type": "code",
   "execution_count": 7,
   "metadata": {
    "vscode": {
     "languageId": "cpp"
    }
   },
   "outputs": [
    {
     "name": "stdout",
     "output_type": "stream",
     "text": [
      "Hello, world!\n",
      "Hello, world!\n",
      "Hello, world!\n"
     ]
    }
   ],
   "source": [
    "std::string_view s1 { \"Hello, world!\" }; // initialize with C-style string literal\n",
    "std::cout << s1 << '\\n';\n",
    "\n",
    "std::string s{ \"Hello, world!\" };\n",
    "std::string_view s2 { s };  // initialize with std::string\n",
    "std::cout << s2 << '\\n';\n",
    "\n",
    "std::string_view s3 { s2 }; // initialize with std::string_view\n",
    "std::cout << s3 << '\\n';"
   ]
  },
  {
   "cell_type": "markdown",
   "metadata": {},
   "source": [
    "#### std::string_view parameters will accept many different types of string arguments\n",
    "\n",
    " a std::string_view parameter will accept arguments of type C-style string, a std::string, or std::string_view"
   ]
  },
  {
   "cell_type": "code",
   "execution_count": 8,
   "metadata": {
    "vscode": {
     "languageId": "cpp"
    }
   },
   "outputs": [
    {
     "name": "stdout",
     "output_type": "stream",
     "text": [
      "Hello, world!\n",
      "Hello, world!\n",
      "Hello, world!\n"
     ]
    }
   ],
   "source": [
    "printSV(\"Hello, world!\"); // call with C-style string literal\n",
    "\n",
    "std::string s2{ \"Hello, world!\" };\n",
    "printSV(s2); // call with std::string\n",
    "\n",
    "std::string_view s3 { s2 };\n",
    "printSV(s3); // call with std::string_view"
   ]
  },
  {
   "cell_type": "markdown",
   "metadata": {},
   "source": [
    "#### std::string_view will not implicitly convert to std::string\n",
    "\n",
    "Because std::string makes a copy of its initializer (which is expensive), C++ won’t allow implicit conversion of a std::string_view to a std::string. This is to prevent accidentally passing a std::string_view argument to a std::string parameter, and inadvertently making an expensive copy where such a copy may not be required.\n",
    "\n",
    "However, if this is desired, we have two options:\n",
    "\n",
    "- Explicitly create a std::string with a std::string_view initializer (which is allowed, since this will rarely be done unintentionally)\n",
    "- Convert an existing std::string_view to a std::string using static_cast\n",
    "\n",
    "The following example shows both options:"
   ]
  },
  {
   "cell_type": "code",
   "execution_count": 9,
   "metadata": {
    "vscode": {
     "languageId": "cpp"
    }
   },
   "outputs": [
    {
     "name": "stdout",
     "output_type": "stream",
     "text": [
      "Hello, world!\n",
      "Hello, world!\n"
     ]
    }
   ],
   "source": [
    "void printString(std::string str)\n",
    "{\n",
    "\tstd::cout << str << '\\n';\n",
    "}\n",
    "\n",
    "std::string_view sv{ \"Hello, world!\" };\n",
    "//printString(sv);   // compile error: won't implicitly convert std::string_view to a std::string\n",
    "\n",
    "std::string s{ sv }; // okay: we can create std::string using std::string_view initializer\n",
    "printString(s);      // and call the function with the std::string\n",
    "\n",
    "printString(static_cast<std::string>(sv)); // okay: we can explicitly cast a std::string_view to a std::string"
   ]
  },
  {
   "cell_type": "markdown",
   "metadata": {},
   "source": [
    "#### Assignment changes what the std::string_view is viewing\n",
    "Assigning a new string to a std::string_view causes the std::string_view to view the new string. It does not modify the prior string being viewed in any way.\n",
    "\n",
    "#### Literals for std::string_view\n",
    "Double-quoted string literals are C-style string literals by default. We can create string literals with type std::string_view by using a sv suffix after the double-quoted string literal.\n",
    "\n"
   ]
  },
  {
   "cell_type": "code",
   "execution_count": 10,
   "metadata": {
    "vscode": {
     "languageId": "cpp"
    }
   },
   "outputs": [
    {
     "name": "stdout",
     "output_type": "stream",
     "text": [
      "foo\n",
      "goo\n",
      "moo\n"
     ]
    },
    {
     "data": {
      "text/plain": [
       "@0x7f1102661de0"
      ]
     },
     "execution_count": 10,
     "metadata": {},
     "output_type": "execute_result"
    }
   ],
   "source": [
    "using namespace std::string_literals;      // access the s suffix\n",
    "using namespace std::string_view_literals; // access the sv suffix\n",
    "\n",
    "std::cout << \"foo\\n\";   // no suffix is a C-style string literal\n",
    "std::cout << \"goo\\n\"s;  // s suffix is a std::string literal\n",
    "std::cout << \"moo\\n\"sv; // sv suffix is a std::string_view literal"
   ]
  },
  {
   "cell_type": "markdown",
   "metadata": {},
   "source": [
    "#### constexpr std::string_view\n",
    "\n",
    "Unlike std::string, std::string_view has full support for constexpr\n",
    "This makes constexpr std::string_view the preferred choice when string symbolic constants are needed."
   ]
  },
  {
   "cell_type": "code",
   "execution_count": 11,
   "metadata": {
    "vscode": {
     "languageId": "cpp"
    }
   },
   "outputs": [
    {
     "name": "stdout",
     "output_type": "stream",
     "text": [
      "Hello, world!\n"
     ]
    },
    {
     "data": {
      "text/plain": [
       "@0x7f1102661de0"
      ]
     },
     "execution_count": 11,
     "metadata": {},
     "output_type": "execute_result"
    }
   ],
   "source": [
    "constexpr std::string_view s{ \"Hello, world!\" }; // s is a string symbolic constant\n",
    "std::cout << s << '\\n'; // s will be replaced with \"Hello, world!\" at compile-time"
   ]
  },
  {
   "cell_type": "markdown",
   "metadata": {},
   "source": [
    "#### std::string vs std::string_view\n",
    " - Ownership can be expensive. As an owner, it is your responsibility to acquire, manage, and properly dispose of the objects you own. std::string is an owner\n",
    " - Viewing is inexpensive. As a viewer, you have no responsibility for the objects you are viewing, but you also have no control over those objects. std::string_view is a viewer\n",
    "\n",
    "\n",
    "#### std::string_view is best used as a read-only function parameter\n",
    "This allows us to pass in a C-style string, std::string, or std::string_view argument without making a copy, as the std::string_view will create a view to the argument.\n",
    "\n",
    "#### Should I prefer std::string_view or const std::string& function parameters?” Advanced\n",
    "\n",
    "Prefer std::string_view in most cases\n",
    "\n",
    "#### Modifying a std::string invalidates all views into that std::string.\n",
    "\n"
   ]
  },
  {
   "cell_type": "code",
   "execution_count": 12,
   "metadata": {
    "vscode": {
     "languageId": "cpp"
    }
   },
   "outputs": [
    {
     "name": "stdout",
     "output_type": "stream",
     "text": [
      "\u001e\u0000\u0000\u0000\u0000\u0000\u0000\u0000orld!\n"
     ]
    }
   ],
   "source": [
    "std::string s { \"Hello, world!\" };\n",
    "std::string_view sv { s }; // sv is now viewing s\n",
    "\n",
    "s = \"Hello, universe!\";    // modifies s, which invalidates sv (s is still valid)\n",
    "std::cout << sv << '\\n';   // undefined behavior\n",
    "\n",
    "return 0;"
   ]
  },
  {
   "cell_type": "markdown",
   "metadata": {},
   "source": [
    "#### Revalidating an invalid std::string_view\n",
    "Invalidated objects can often be revalidated (made valid again) by setting them back to a known good state. For an invalidated std::string_view, we can do this by assigning the invalidated std::string_view object a valid string to view."
   ]
  },
  {
   "cell_type": "code",
   "execution_count": 13,
   "metadata": {
    "vscode": {
     "languageId": "cpp"
    }
   },
   "outputs": [
    {
     "name": "stdout",
     "output_type": "stream",
     "text": [
      "\u001e\u0000\u0000\u0000\u0000\u0000\u0000\u0000orld!\n",
      "Hello, universe!\n"
     ]
    },
    {
     "data": {
      "text/plain": [
       "@0x7f1102661de0"
      ]
     },
     "execution_count": 13,
     "metadata": {},
     "output_type": "execute_result"
    }
   ],
   "source": [
    "std::string s { \"Hello, world!\" };\n",
    "std::string_view sv { s }; // sv is now viewing s\n",
    "\n",
    "s = \"Hello, universe!\";    // modifies s, which invalidates sv (s is still valid)\n",
    "std::cout << sv << '\\n';   // undefined behavior\n",
    "\n",
    "sv = s;                    // revalidate sv: sv is now viewing s again\n",
    "std::cout << sv << '\\n';   // prints \"Hello, universe!\""
   ]
  },
  {
   "cell_type": "markdown",
   "metadata": {},
   "source": [
    "#### Be careful returning a std::string_view\n",
    "std::string_view can be used as the return value of a function. However, this is often dangerous.\n",
    "\n",
    "Because local variables are destroyed at the end of the function, returning a std::string_view to a local variable will result in the returned std::string_view being invalid, and further use of that std::string_view will result in undefined behavior. For example:\n",
    "```\n",
    "std::string_view getBoolName(bool b)\n",
    "{\n",
    "    std::string t { \"true\" };  // local variable\n",
    "    std::string f { \"false\" }; // local variable\n",
    "\n",
    "    if (b)\n",
    "        return t;  // return a std::string_view viewing t\n",
    "\n",
    "    return f; // return a std::string_view viewing f\n",
    "} // t and f are destroyed at the end of the function\n",
    "\n",
    "std::cout << getBoolName(true) << ' ' << getBoolName(false) << '\\n'; // undefined behavior\n",
    "```\n",
    "\n",
    "There are two main cases where a std::string_view can be returned safely. First, because C-style string literals exist for the entire program, it’s fine to return C-style string literals from a function that has a return type of std::string_view.\n",
    "\n",
    "```\n",
    "std::string_view getBoolName_C(bool b)\n",
    "{\n",
    "    if (b)\n",
    "        return \"true\";  // return a std::string_view viewing \"true\"\n",
    "\n",
    "    return \"false\"; // return a std::string_view viewing \"false\"\n",
    "} // \"true\" and \"false\" are not destroyed at the end of the function\n",
    "\n",
    "std::cout << getBoolName_C(true) << ' ' << getBoolName_C(false) << '\\n'; // ok\n",
    "```\n",
    "\n",
    "Second, it is generally okay to return a function parameter of type std::string_view:\n",
    "```\n",
    "std::string_view firstAlphabetical(std::string_view s1, std::string_view s2)\n",
    "{\n",
    "    if (s1 < s2)\n",
    "        return s1;\n",
    "    return s2;\n",
    "}\n",
    "\n",
    "int main()\n",
    "{\n",
    "    std::string a { \"World\" };\n",
    "    std::string b { \"Hello\" };\n",
    "\n",
    "    std::cout << firstAlphabetical(a, b) << '\\n'; // prints \"Hello\"\n",
    "\n",
    "    return 0;\n",
    "}\n",
    "```"
   ]
  },
  {
   "cell_type": "markdown",
   "metadata": {},
   "source": [
    "#### View modification functions\n",
    "\n",
    "Because std::string_view is a view, it contains functions that let us modify our view by “closing the curtains”. This does not modify the string being viewed in any way, just the view itself.\n",
    "\n",
    "- The remove_prefix() member function removes characters from the left side of the view.\n",
    "- The remove_suffix() member function removes characters from the right side of the view.\n",
    "\n",
    "\n"
   ]
  },
  {
   "cell_type": "code",
   "execution_count": 14,
   "metadata": {
    "vscode": {
     "languageId": "cpp"
    }
   },
   "outputs": [
    {
     "name": "stdout",
     "output_type": "stream",
     "text": [
      "Peach\n",
      "each\n",
      "ea\n",
      "Peach\n"
     ]
    }
   ],
   "source": [
    "std::string_view st{ \"Peach\" };\n",
    "std::cout << st << '\\n';\n",
    "\n",
    "// Remove 1 character from the left side of the view\n",
    "st.remove_prefix(1);\n",
    "std::cout << st << '\\n';\n",
    "\n",
    "// Remove 2 characters from the right side of the view\n",
    "st.remove_suffix(2);\n",
    "std::cout << st << '\\n';\n",
    "\n",
    "st = \"Peach\"; // reset the view\n",
    "std::cout << st << '\\n';\n"
   ]
  },
  {
   "cell_type": "markdown",
   "metadata": {},
   "source": [
    "#### std::string_view can view a substring\n",
    "#### std::string_view may or may not be null-terminated\n",
    "- A C-style string literal and a std::string are always null-terminated.\n",
    "- A std::string_view may or may not be null-terminated.\n",
    "- In almost all cases, this doesn’t matter -- a std::string_view keeps track of the length of the string or substring it is viewing, so it doesn’t need the null-terminator. Converting a std::string_view to a std::string will work regardless of whether or not the std::string_view is null-terminated."
   ]
  }
 ],
 "metadata": {
  "kernelspec": {
   "display_name": "C++17",
   "language": "C++17",
   "name": "xcpp17"
  },
  "language_info": {
   "codemirror_mode": "text/x-c++src",
   "file_extension": ".cpp",
   "mimetype": "text/x-c++src",
   "name": "c++",
   "version": "17"
  }
 },
 "nbformat": 4,
 "nbformat_minor": 2
}
