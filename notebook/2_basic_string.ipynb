{
 "cells": [
  {
   "cell_type": "markdown",
   "metadata": {},
   "source": [
    "# Introduction to std::string\n",
    "C++ has introduced two additional string types (**WHICH ARE DIFFERENT FROM C-STYLED STRINGS**) into the language that are much easier and safer to work with: \n",
    "```\n",
    "- std::string \n",
    "- std::string_view (C++17). \n",
    "```\n",
    "\n",
    "Although std::string and std::string_view aren’t fundamental types, they’re straightforward and useful enough that we’ll introduce them here."
   ]
  },
  {
   "cell_type": "code",
   "execution_count": 1,
   "metadata": {
    "vscode": {
     "languageId": "cpp"
    }
   },
   "outputs": [
    {
     "name": "stdout",
     "output_type": "stream",
     "text": [
      "My name is: Alex\n",
      "My name is: John\n"
     ]
    }
   ],
   "source": [
    "#include <iostream>\n",
    "#include <string> // allows use of std::string\n",
    "\n",
    "std::string name { \"Alex\" }; // initialize name with string literal \"Alex\"\n",
    "std::cout << \"My name is: \" << name << '\\n';\n",
    "name = \"John\";               // change name to \"John\"\n",
    "std::cout << \"My name is: \" << name << '\\n';\n"
   ]
  },
  {
   "cell_type": "markdown",
   "metadata": {},
   "source": [
    "### std::string can handle strings of different lengths\n",
    "One of the neatest things that std::string can do is hold strings of different sizes:"
   ]
  },
  {
   "cell_type": "code",
   "execution_count": 2,
   "metadata": {
    "vscode": {
     "languageId": "cpp"
    }
   },
   "outputs": [
    {
     "name": "stdout",
     "output_type": "stream",
     "text": [
      "Alex\n",
      "Jason\n",
      "Jay\n"
     ]
    }
   ],
   "source": [
    "std::string name { \"Alex\" }; // initialize name with string literal \"Alex\"\n",
    "std::cout << name << '\\n';\n",
    "\n",
    "name = \"Jason\";              // change name to a longer string\n",
    "std::cout << name << '\\n';\n",
    "\n",
    "name = \"Jay\";                // change name to a shorter string\n",
    "std::cout << name << '\\n';"
   ]
  },
  {
   "cell_type": "markdown",
   "metadata": {},
   "source": [
    "In the above example, name is initialized with the string \"Alex\", which contains five characters (four explicit characters and a null-terminator). We then set name to a larger string, and then a smaller string. std::string has no problem handling this!"
   ]
  },
  {
   "cell_type": "markdown",
   "metadata": {},
   "source": [
    "### String input with std::cin\n",
    "```\n",
    "std::cout << \"Enter your full name: \";\n",
    "std::string name{};\n",
    "std::cin >> name; // this won't work as expected since std::cin breaks on whitespace\n",
    "```\n",
    "\n",
    "### Use std::getline() to input text\n",
    "\n",
    "```\n",
    "std::cout << \"Enter your full name: \";\n",
    "std::string name{};\n",
    "std::getline(std::cin >> std::ws, name); // read a full line of text into name\n",
    "```\n",
    "\n",
    "### What the heck is std::ws? (In above line)\n",
    "C++ has output manipulators, which allow us to alter the way output is displayed. \n",
    "\n",
    "C++ also supports input manipulators, which alter the way that input is accepted. The std::ws input manipulator tells std::cin to ignore any leading whitespace before extraction. Leading whitespace is any whitespace character (spaces, tabs, newlines) that occur at the start of the string.\n",
    "\n",
    "#### Why is std::ws needed?\n",
    "When you enter a value using operator>>, std::cin not only captures the value, it also captures the newline character ('\\n') that occurs when you hit the enter key. So when we type 2 and then hit enter, std::cin captures the string \"2\\n\" as input. It then extracts the value 2 to variable choice, leaving the newline character behind for later. Then, when std::getline() goes to extract text to name, it sees \"\\n\" is already waiting in std::cin, and figures we must have previously entered an empty string! Definitely not what was intended."
   ]
  },
  {
   "cell_type": "code",
   "execution_count": 3,
   "metadata": {
    "vscode": {
     "languageId": "cpp"
    }
   },
   "outputs": [
    {
     "name": "stdout",
     "output_type": "stream",
     "text": [
      "Pick 1 or 2: Now enter your name: Hello, rr, you picked 1\n"
     ]
    }
   ],
   "source": [
    "    std::cout << \"Pick 1 or 2: \";\n",
    "    int choice{};\n",
    "    std::cin >> choice;\n",
    "\n",
    "    std::cout << \"Now enter your name: \";\n",
    "    std::string name{};\n",
    "    std::getline(std::cin >> std::ws, name); // note: added std::ws here, if not then \\n would be your name as explained earlier\n",
    "\n",
    "    std::cout << \"Hello, \" << name << \", you picked \" << choice << '\\n';\n",
    "\n",
    "    return 0;"
   ]
  },
  {
   "cell_type": "markdown",
   "metadata": {},
   "source": [
    "#### Best practice\n",
    "\n",
    "If using std::getline() to read strings, use std::cin >> std::ws input manipulator to ignore leading whitespace. This needs to be done for each std::getline() call, as std::ws is not preserved across calls."
   ]
  },
  {
   "cell_type": "markdown",
   "metadata": {},
   "source": [
    "### The length of a std::string"
   ]
  },
  {
   "cell_type": "code",
   "execution_count": 4,
   "metadata": {
    "vscode": {
     "languageId": "cpp"
    }
   },
   "outputs": [
    {
     "name": "stdout",
     "output_type": "stream",
     "text": [
      "Alex has 4 characters\n"
     ]
    }
   ],
   "source": [
    "std::string name{ \"Alex\" };\n",
    "std::cout << name << \" has \" << name.length() << \" characters\\n\";"
   ]
  },
  {
   "cell_type": "markdown",
   "metadata": {},
   "source": [
    "The length() function isn’t a normal standalone function -- it’s a special type of function that is nested within std::string called a member function. Because the length() member function is declared inside of std::string, it is sometimes written as \n",
    "```std::string::length()``` in documentation.\n",
    "\n",
    "Also note that std::string::length() returns an unsigned integral value (most likely of type size_t). If you want to assign the length to an int variable, you should static_cast it to avoid compiler warnings about signed/unsigned conversions:\n",
    "```\n",
    "int length { static_cast<int>(name.length()) };\n",
    "```\n",
    "\n",
    "In C++20, you can also use the ```std::ssize()``` function to get the length of a std::string as a signed integral value\n",
    "\n",
    "#### Initializing a std::string is expensive\n",
    "\n",
    "Whenever a std::string is initialized, a copy of the string used to initialize it is made. Making copies of strings is expensive, so care should be taken to minimize the number of copies made.\n",
    "\n",
    "#### Do not pass std::string by value\n",
    "\n",
    "When a std::string is passed to a function by value, the std::string function parameter must be instantiated and initialized with the argument. This results in an expensive copy. We’ll discuss what to do instead (use std::string_view) \n",
    "\n",
    "\n",
    "#### Returning a std::string\n",
    "\n",
    "However, as a rule of thumb, it is okay to return a std::string by value when the expression of the return statement resolves to any of the following:\n",
    "\n",
    "- A local variable of type std::string.\n",
    "- A std::string that has been returned by value from a function call or operator.\n",
    "- A std::string that is created as part of the return statement.\n",
    "\n",
    "If returning a C-style string literal, use a std::string_view return type instead\n",
    "\n",
    "#### Literals for std::string\n",
    "We can create string literals with type std::string by using a s suffix after the double-quoted string literal. (Thus such literals are not c-styled strings)"
   ]
  },
  {
   "cell_type": "code",
   "execution_count": 8,
   "metadata": {
    "vscode": {
     "languageId": "cpp"
    }
   },
   "outputs": [
    {
     "name": "stdout",
     "output_type": "stream",
     "text": [
      "foo\n",
      "goo\n"
     ]
    },
    {
     "data": {
      "text/plain": [
       "@0x7f3697bf1de0"
      ]
     },
     "execution_count": 8,
     "metadata": {},
     "output_type": "execute_result"
    }
   ],
   "source": [
    "using namespace std::string_literals; // easy access to the s suffix\n",
    "\n",
    "std::cout << \"foo\\n\";   // no suffix is a C-style string literal\n",
    "std::cout << \"goo\\n\"s;  // s suffix is a std::string literal"
   ]
  },
  {
   "cell_type": "markdown",
   "metadata": {},
   "source": [
    "#### Constexpr strings\n",
    "constexpr std::string isn’t supported at all in C++17 or earlier, and only works in very limited cases in C++20/23. If you need constexpr strings, use std::string_view instead\n",
    "\n",
    "### But what is consexpr string??\n",
    "```\n",
    "constexpr const char* hello = \"Hello, World!\";\n",
    "```\n",
    "A string of Constant characters.\n",
    "\n",
    "the constexpr specifier is used to declare a compile-time string named hello. The variable is then used in the main function, and it will be evaluated at compile-time."
   ]
  }
 ],
 "metadata": {
  "kernelspec": {
   "display_name": "C++17",
   "language": "C++17",
   "name": "xcpp17"
  },
  "language_info": {
   "codemirror_mode": "text/x-c++src",
   "file_extension": ".cpp",
   "mimetype": "text/x-c++src",
   "name": "c++",
   "version": "17"
  }
 },
 "nbformat": 4,
 "nbformat_minor": 2
}
