{
 "cells": [
  {
   "cell_type": "code",
   "execution_count": 1,
   "metadata": {
    "vscode": {
     "languageId": "cpp"
    }
   },
   "outputs": [],
   "source": [
    "#include <iostream>\n",
    "\n",
    "using namespace std;"
   ]
  },
  {
   "cell_type": "markdown",
   "metadata": {},
   "source": [
    "# Enumerations (C++)\n",
    "\n",
    "Enumeration (Enumerated type) is a user-defined data type that can be assigned some limited values. These values are defined by the programmer at the time of declaring the enumerated type.\n",
    "\n",
    "If we assign a float value to a character value, then the compiler generates an error. In the same way, if we try to assign any other value to the enumerated data types, the compiler generates an error. Enumerator types of values are also known as enumerators. It is also assigned by zero the same as the array. It can also be used with switch statements.\n",
    "\n",
    "The enum keyword is used to declare enumerated types after that enumerated type name was written then under curly brackets possible values are defined. After defining Enumerated type variables are created. \n",
    "\n",
    "Enumerators can be created in two types:-\n",
    "1. ```enumerated-type-name variable-name = value;```\n",
    "2. ```enum enumerated-type-name{value1=1, value2, value3};```\n",
    "\n",
    "By default, the starting code value of the first element of the enum is 0 (as in the case of the array). But it can be changed explicitly.\n",
    "\n",
    "\n",
    "Examples:\n",
    "1. [LINK](../volansys_cpp_advanced/19_enums/enum_demo.cpp)\n",
    "2. [LINK](../volansys_cpp_advanced/19_enums/enum_demo1.cpp)\n",
    "\n",
    "Parameters\n",
    "\n",
    "```identifier```\n",
    "The type name given to the enumeration.\n",
    "\n",
    "```type```\n",
    "The underlying type of the enumerators; all enumerators have the same underlying type. May be any integral type.\n",
    "\n",
    "```enum-list```\n",
    "Comma-separated list of the enumerators in the enumeration. Every enumerator or variable name in the scope must be unique. However, the values can be duplicated. In an unscoped enum, the scope is the surrounding scope; in a scoped enum, the scope is the enum-list itself. In a scoped enum, the list may be empty, which in effect defines a new integral type.\n",
    "\n",
    "```class```\n",
    "By using this keyword in the declaration, you specify the enum is scoped, and an identifier must be provided. You can also use the struct keyword in place of class, as they're semantically equivalent in this context."
   ]
  },
  {
   "cell_type": "code",
   "execution_count": 2,
   "metadata": {
    "vscode": {
     "languageId": "cpp"
    }
   },
   "outputs": [],
   "source": [
    "// unscoped enum:\n",
    "// enum [identifier] [: type] {enum-list};\n",
    "\n",
    "// scoped enum:\n",
    "// enum [class|struct] [identifier] [: type] {enum-list};\n",
    "\n",
    "// Forward declaration of enumerations  (C++11):\n",
    "enum A : int;          // non-scoped enum must have type specified\n",
    "enum class B;          // scoped enum defaults to int but ...\n",
    "enum class C : short;  // ... may have any integral underlying type"
   ]
  },
  {
   "cell_type": "markdown",
   "metadata": {},
   "source": [
    "## Enumerator scope\n",
    "\n",
    "An enumeration provides context to describe a range of values that are represented as named constants. \n",
    "\n",
    "These named constants are also called enumerators. \n",
    "\n",
    "In the original C and C++ enum types, the unqualified enumerators are visible throughout the scope in which the enum is declared. \n",
    "\n",
    "\n",
    "In scoped enums, the enumerator name must be qualified by the enum type name. \n",
    "\n",
    "\n",
    "The following example demonstrates this basic difference between the two kinds of enums:"
   ]
  },
  {
   "cell_type": "code",
   "execution_count": 3,
   "metadata": {
    "vscode": {
     "languageId": "cpp"
    }
   },
   "outputs": [],
   "source": [
    "namespace CardGame_Scoped\n",
    "{\n",
    "    enum class Suit { Diamonds, Hearts, Clubs, Spades };\n",
    "\n",
    "    void PlayCard(Suit suit)\n",
    "    {\n",
    "        if (suit == Suit::Clubs) // Enumerator must be qualified by enum type\n",
    "        { /*...*/}\n",
    "    }\n",
    "}\n",
    "\n",
    "namespace CardGame_NonScoped\n",
    "{\n",
    "    enum Suit { Diamonds, Hearts, Clubs, Spades };\n",
    "\n",
    "    void PlayCard(Suit suit)\n",
    "    {\n",
    "        if (suit == Clubs) // Enumerator is visible without qualification\n",
    "        { /*...*/\n",
    "        }\n",
    "    }\n",
    "}"
   ]
  },
  {
   "cell_type": "markdown",
   "metadata": {},
   "source": [
    "Every name in an enumeration is assigned an integral value that corresponds to its place in the order of the values in the enumeration. By default, the first value is assigned 0, the next one is assigned 1, and so on, but you can explicitly set the value of an enumerator, as shown here:\n",
    "\n",
    "```enum Suit { Diamonds = 1, Hearts, Clubs, Spades };```\n",
    "\n",
    "Every enumerator is treated as a constant and must have a unique name within the scope where the enum is defined (for unscoped enums) or within the enum itself (for scoped enums). \n",
    "\n",
    "The values given to the names don't have to be unique.\n",
    "\n",
    "For example, consider this declaration of an unscoped enum Suit:"
   ]
  },
  {
   "cell_type": "code",
   "execution_count": 4,
   "metadata": {
    "vscode": {
     "languageId": "cpp"
    }
   },
   "outputs": [],
   "source": [
    "enum Suit { Diamonds = 5, Hearts, Clubs = 4, Spades };\n",
    "\n"
   ]
  },
  {
   "cell_type": "markdown",
   "metadata": {},
   "source": [
    "The values of Diamonds, Hearts, Clubs, and Spades are 5, 6, 4, and 5, respectively. Notice that 5 is used more than once; it's allowed even though it may not be intended. These rules are the same for scoped enums."
   ]
  },
  {
   "cell_type": "markdown",
   "metadata": {},
   "source": [
    "## Casting rules\n",
    "\n",
    "Unscoped enum constants can be implicitly converted to int, but an int is never implicitly convertible to an enum value. The following example shows what happens if you try to assign hand a value that isn't a Suit:"
   ]
  },
  {
   "cell_type": "code",
   "execution_count": 7,
   "metadata": {
    "vscode": {
     "languageId": "cpp"
    }
   },
   "outputs": [
    {
     "name": "stdout",
     "output_type": "stream",
     "text": [
      "0\n"
     ]
    },
    {
     "data": {
      "text/plain": [
       "@0x7f1adbdcede0"
      ]
     },
     "execution_count": 7,
     "metadata": {},
     "output_type": "execute_result"
    }
   ],
   "source": [
    "int account_num = 135692;\n",
    "Suit hand;\n",
    "//hand = account_num; // error C2440: '=' : cannot convert from 'int' to 'Suit'"
   ]
  },
  {
   "cell_type": "markdown",
   "metadata": {},
   "source": [
    "A cast is required to convert an int to a scoped or unscoped enumerator. However, you can promote an unscoped enumerator to an integer value without a cast."
   ]
  },
  {
   "cell_type": "code",
   "execution_count": 8,
   "metadata": {
    "vscode": {
     "languageId": "cpp"
    }
   },
   "outputs": [],
   "source": [
    "int account_num = Hearts; //OK if Hearts is in an unscoped enum"
   ]
  },
  {
   "cell_type": "markdown",
   "metadata": {},
   "source": [
    "Using implicit conversions in this way can lead to unintended side-effects. To help eliminate programming errors associated with unscoped enums, scoped enum values are strongly typed. Scoped enumerators must be qualified by the enum type name (identifier) and can't be implicitly converted, as shown in the following example:"
   ]
  },
  {
   "cell_type": "code",
   "execution_count": 10,
   "metadata": {
    "vscode": {
     "languageId": "cpp"
    }
   },
   "outputs": [],
   "source": [
    "namespace ScopedEnumConversions\n",
    "{\n",
    "    enum class Suit { Diamonds, Hearts, Clubs, Spades };\n",
    "\n",
    "    void AttemptConversions()\n",
    "    {\n",
    "        Suit hand;\n",
    "        //hand = Clubs; // error C2065: 'Clubs' : undeclared identifier\n",
    "        hand = Suit::Clubs; //Correct.\n",
    "        int account_num = 135692;\n",
    "        //hand = account_num; // error C2440: '=' : cannot convert from 'int' to 'Suit'\n",
    "        hand = static_cast<Suit>(account_num); // OK, but probably a bug!!!\n",
    "\n",
    "        //account_num = Suit::Hearts; // error C2440: '=' : cannot convert from 'Suit' to 'int'\n",
    "        account_num = static_cast<int>(Suit::Hearts); // OK\n",
    "    }\n",
    "}"
   ]
  }
 ],
 "metadata": {
  "kernelspec": {
   "display_name": "C++17",
   "language": "C++17",
   "name": "xcpp17"
  },
  "language_info": {
   "codemirror_mode": "text/x-c++src",
   "file_extension": ".cpp",
   "mimetype": "text/x-c++src",
   "name": "C++17",
   "version": "17"
  }
 },
 "nbformat": 4,
 "nbformat_minor": 2
}
