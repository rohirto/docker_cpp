{
 "cells": [
  {
   "cell_type": "code",
   "execution_count": 1,
   "metadata": {
    "vscode": {
     "languageId": "cpp"
    }
   },
   "outputs": [],
   "source": [
    "#include <iostream>\n",
    "\n",
    "using namespace std;"
   ]
  },
  {
   "cell_type": "markdown",
   "metadata": {},
   "source": [
    "# File I/O\n",
    "\n",
    "Files are the lifeblood of the computer—without files, everything a computer does would ultimately be\n",
    "impermanent, lasting only until the user reboots—or the application terminates\n",
    "\n",
    "C++, naturally, has the\n",
    "ability to read and write into files. Working with files is known as file I/O (I/O stands for input and\n",
    "output)\n",
    "\n",
    "## File I/O basics\n",
    "\n",
    "Unlike cin and cout, which are global variables, you have to declare your own objects to read and write from files. This means you\n",
    "need to know the actual types\n",
    "\n",
    "The two data types are the **ifstream** and the **ofstream**. \n",
    "\n",
    "The names stand for input file stream and output file stream. \n",
    "\n",
    "A stream is just a bunch of data that you can read from or write to. \n",
    "What these types do is take a file, and turn it into a long stream of data that you can access, as though you were interacting with the user. \n",
    "\n",
    "Both of these types require the fstream header file (fstream stands for file stream)\n",
    "\n",
    "\n",
    "## Reading from files\n",
    "\n",
    "We can initialize an ifstream instance with the name of a file that we want to read from. Once the file is open, you can use an ifstream just like you would use cin. This code reads a number from a text file. When you work with files, you have no choice but to write code that handles possible failures. "
   ]
  },
  {
   "cell_type": "code",
   "execution_count": 8,
   "metadata": {
    "vscode": {
     "languageId": "cpp"
    }
   },
   "outputs": [
    {
     "name": "stdout",
     "output_type": "stream",
     "text": [
      "No number could be read!"
     ]
    }
   ],
   "source": [
    "#include <fstream>\n",
    "\n",
    "ifstream file_reader( \"README.md\" ); //Change the name and see the could not open error pop up\n",
    "\n",
    "if(!file_reader.is_open())\n",
    "{\n",
    "    cout << \"Could not open the file!\";\n",
    "}\n",
    "\n",
    "int number;\n",
    "// here, we're checking if reading in an integer succeeded or not\n",
    "if ( file_reader >> number )\n",
    "{\n",
    "    cout << \"The value is: \" << number;\n",
    "}\n",
    "else\n",
    "{\n",
    "    cout << \"No number could be read!\";\n",
    "}"
   ]
  },
  {
   "cell_type": "markdown",
   "metadata": {},
   "source": [
    "\n",
    "if the file had the text\n",
    "12 a b c\n",
    "Then number would store 12 after the program ran\n",
    "\n",
    "## File formats\n",
    "\n",
    "A file format is the layout of the file.\n",
    "\n",
    "A good principle when working with file formats, called Postel’s Law, is: “Be liberal in what you accept, and conservative in what you send.”\n",
    "\n",
    "In other words, code that produces a file should be very careful to follow the specification, but code that reads the file format should be robust to small errors made by less well-written programs.\n",
    "\n",
    "Example of Robust File reading: [Link](../volansys_cpp_advanced/16_File_IO/read_highscores.cpp) \n",
    "\n",
    "## End of file\n",
    "\n",
    "There is eof() method to detect end of file\n",
    "There is also fail() method to detect errors during reading the file\n",
    "\n",
    "Example [LINK](../volansys_cpp_advanced/16_File_IO/read_eof_fail.cpp)\n",
    "\n",
    "\n"
   ]
  },
  {
   "cell_type": "markdown",
   "metadata": {},
   "source": [
    "## Writing files\n",
    "\n",
    "The type we need to use for writing files is called the ofstream, which stands for output file stream.\n",
    "\n",
    "Demo: [LINK](../volansys_cpp_advanced/16_File_IO/write_highscores.cpp)\n",
    "\n",
    "## Creating new files\n",
    "\n",
    "When you use an ofstream to write to a file, by default, it will create the file if the file does not already\n",
    "exist, or overwrite it if it does. \n",
    "\n",
    "The ofstream constructor takes a second argument that specifies how the file should be handled:\n",
    "\n"
   ]
  }
 ],
 "metadata": {
  "kernelspec": {
   "display_name": "C++17",
   "language": "C++17",
   "name": "xcpp17"
  },
  "language_info": {
   "codemirror_mode": "text/x-c++src",
   "file_extension": ".cpp",
   "mimetype": "text/x-c++src",
   "name": "c++",
   "version": "17"
  }
 },
 "nbformat": 4,
 "nbformat_minor": 2
}
