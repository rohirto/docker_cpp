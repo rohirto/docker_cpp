{
 "cells": [
  {
   "cell_type": "code",
   "execution_count": 31,
   "metadata": {
    "vscode": {
     "languageId": "cpp"
    }
   },
   "outputs": [],
   "source": [
    "#include <iostream>\n",
    "\n",
    "using namespace std;"
   ]
  },
  {
   "cell_type": "markdown",
   "metadata": {},
   "source": [
    "# File I/O\n",
    "\n",
    "Files are the lifeblood of the computer—without files, everything a computer does would ultimately be\n",
    "impermanent, lasting only until the user reboots—or the application terminates\n",
    "\n",
    "C++, naturally, has the\n",
    "ability to read and write into files. Working with files is known as file I/O (I/O stands for input and\n",
    "output)\n",
    "\n",
    "## File I/O basics\n",
    "\n",
    "Unlike cin and cout, which are global variables, you have to declare your own objects to read and write from files. This means you\n",
    "need to know the actual types\n",
    "\n",
    "The two data types are the **ifstream** and the **ofstream**. \n",
    "\n",
    "The names stand for input file stream and output file stream. \n",
    "\n",
    "A stream is just a bunch of data that you can read from or write to. \n",
    "What these types do is take a file, and turn it into a long stream of data that you can access, as though you were interacting with the user. \n",
    "\n",
    "Both of these types require the fstream header file (fstream stands for file stream)\n",
    "\n",
    "\n",
    "## Reading from files\n",
    "\n",
    "We can initialize an ifstream instance with the name of a file that we want to read from. Once the file is open, you can use an ifstream just like you would use cin. This code reads a number from a text file. When you work with files, you have no choice but to write code that handles possible failures. "
   ]
  },
  {
   "cell_type": "code",
   "execution_count": 32,
   "metadata": {
    "vscode": {
     "languageId": "cpp"
    }
   },
   "outputs": [
    {
     "name": "stdout",
     "output_type": "stream",
     "text": [
      "No number could be read!"
     ]
    }
   ],
   "source": [
    "#include <fstream>\n",
    "\n",
    "ifstream file_reader( \"README.md\" ); //Change the name and see the could not open error pop up\n",
    "\n",
    "if(!file_reader.is_open())\n",
    "{\n",
    "    cout << \"Could not open the file!\";\n",
    "}\n",
    "\n",
    "int number;\n",
    "// here, we're checking if reading in an integer succeeded or not\n",
    "if ( file_reader >> number )\n",
    "{\n",
    "    cout << \"The value is: \" << number;\n",
    "}\n",
    "else\n",
    "{\n",
    "    cout << \"No number could be read!\";\n",
    "}"
   ]
  },
  {
   "cell_type": "markdown",
   "metadata": {},
   "source": [
    "\n",
    "if the file had the text\n",
    "12 a b c\n",
    "Then number would store 12 after the program ran\n",
    "\n",
    "## File formats\n",
    "\n",
    "A file format is the layout of the file.\n",
    "\n",
    "A good principle when working with file formats, called Postel’s Law, is: “Be liberal in what you accept, and conservative in what you send.”\n",
    "\n",
    "In other words, code that produces a file should be very careful to follow the specification, but code that reads the file format should be robust to small errors made by less well-written programs.\n",
    "\n",
    "Example of Robust File reading: [Link](../volansys_cpp_advanced/16_File_IO/read_highscores.cpp) \n",
    "\n",
    "## End of file\n",
    "\n",
    "There is eof() method to detect end of file\n",
    "There is also fail() method to detect errors during reading the file\n",
    "\n",
    "Example [LINK](../volansys_cpp_advanced/16_File_IO/read_eof_fail.cpp)\n",
    "\n",
    "\n"
   ]
  },
  {
   "cell_type": "markdown",
   "metadata": {},
   "source": [
    "## Writing files\n",
    "\n",
    "The type we need to use for writing files is called the ofstream, which stands for output file stream.\n",
    "\n",
    "Demo: [LINK](../volansys_cpp_advanced/16_File_IO/write_highscores.cpp)\n",
    "\n",
    "## Creating new files\n",
    "\n",
    "When you use an ofstream to write to a file, by default, it will create the file if the file does not already\n",
    "exist, or overwrite it if it does. \n",
    "\n",
    "The ofstream constructor takes a second argument that specifies how the file should be handled:\n",
    "\n",
    "|  ios::app   |       Append to the file, setting the position to the end after each write       |\n",
    "|:-----------:|:--------------------------------------------------------------------------------:|\n",
    "|   ios::ate  |                        Set the current position to the end                       |\n",
    "|  ios::trunc |                    Delete everything in the file (truncate it)                   |\n",
    "|   ios::out  |                              Allow output to the file                            |\n",
    "| ios::binary |  Allow binary operations on the stream (also available when reading from a file) |\n",
    "\n",
    "If you want to select multiple options, for example opening a file for appending and using binary IO\n",
    "(which we'll cover soon), you can combine the options with the pipe (|)\n",
    "\n",
    "```ofstream a_file( \"test.txt\", ios::app | ios::binary );```"
   ]
  },
  {
   "cell_type": "markdown",
   "metadata": {},
   "source": [
    "## File position\n",
    "\n",
    "When a program reads to a file (or writes into a file), the file I/O code needs to know where the read or\n",
    "write will take place. Think of it like the cursor on your screen, telling you where the next character you\n",
    "type will show up.\n",
    "\n",
    "There are actually two different positions in the file\n",
    "- one for where the program will next read and \n",
    "- one for where the program will next write.\n",
    "\n",
    "You can get your current position using the tellg and tellp methods. These give you the current position for reading (g stands for get) and writing (p stands for put)\n",
    "\n",
    "You can also set your position in the file, moving from your current position, by using seekp and seekg. As you probably guessed from the names, moving around in a file is called seeking. \n",
    "\n",
    "The three flags for the position in the file are:\n",
    "\n",
    "| ios_base::beg  | Seek from the beginning of the file |\n",
    "|:--------------:|:-----------------------------------:|\n",
    "| ios_base::cur  |    Seek from the current position   |\n",
    "| ios_base::end  |    Seek from the end of the file    |\n",
    "\n",
    "For example, to move to the start of the file before writing it, you could say:\n",
    "\n",
    "```file_writer.seekp( 0, ios_base::beg );```\n",
    "\n",
    "The value returned from tellp and tellg is a special variable type called streampos, defined by the standard library.\n",
    "\n",
    "```streampos pos = file_reader.tellg();```\n",
    "\n",
    "When you add new data into a file, it is much faster to add to the end of the file than insert into the middle of the file. The problem with inserting into the middle is that you have to move everything in the file that comes after the place you’re inserting into—just like inserting an element into the middle of an array.\n",
    "\n",
    "Example File Positions: [LINK](../volansys_cpp_advanced/16_File_IO/file_pos_highscores.cpp)"
   ]
  },
  {
   "cell_type": "markdown",
   "metadata": {},
   "source": [
    "## Accepting command line arguments\n",
    "\n",
    "When writing programs that interact with files, you often want to let users provide the file name as an argument on the command line. \n",
    "\n",
    "Command line arguments are passed directly into your main function—to use command line arguments, you must provide the full declaration of the main function (previously all the main functions we’ve seen have had an empty argument list).\n",
    "\n",
    "In fact, main takes two parameters: one parameter is the number of command line arguments, and the other parameter is a full list of all of the command line arguments\n",
    "\n",
    "The full declaration of main looks like this:\n",
    "\n",
    "```int main (int argc, char *argv[])```\n",
    "\n",
    "The integer, ```argc```, is the argument count. It is the number of arguments passed into the program from the command line, including the name of the program\n",
    "\n",
    "The array of character pointers is the listing of all the arguments. \n",
    "- argv[ 0 ] is the name of the program, or an empty string if the name is not available. \n",
    "- After that, every element number less than argc is a command line argument. You can use each argv element just like a string. \n",
    "- argv[ argc ] is a NULL pointer.\n",
    "\n",
    "Example: [LINK](../volansys_cpp_advanced/16_File_IO/command_line_args.cpp)\n",
    "\n",
    "### Dealing with numeric command line arguments\n",
    "\n",
    "If you wish to take a command line parameter and use it as a number, you can do so by reading it as a string and calling the atoi function (atoi stands for ASCII to integer).\n",
    "\n",
    "The atoi function takes a char* and returns the integer represented by the string, and you must include the cstdlib header to use it\n",
    "\n",
    "Example: [LINK](../volansys_cpp_advanced/16_File_IO/command_line_numeric.cpp)\n",
    "\n",
    "\n",
    "\n"
   ]
  },
  {
   "cell_type": "markdown",
   "metadata": {},
   "source": [
    "## Binary file I/O\n",
    "\n",
    "working with binary files, which are often used for maximal efficiency.\n",
    "\n",
    "Example of Raw Binary Data:\n",
    "\n",
    "```\n",
    "struct player\n",
    "{\n",
    "int age;\n",
    "int high_score;\n",
    "string name;\n",
    "};\n",
    "```\n",
    "\n",
    "Binary file formats use less space. In the example above, we saw that storing the number 120000 in characters takes 50% more space than using the binary representation.\n",
    "\n",
    "### Working with binary files\n",
    "\n",
    "Step one is to open a file in binary mode:\n",
    "\n",
    "```ofstream a_file( \"test.bin\", ios::binary );```\n",
    "\n",
    "Once the file is open, you can't use the input and output functions we've used before—we'll need to use functions that are specific to working with binary data\n",
    "\n",
    "We need to write bytes directly into the file from a block of memory. The method that we will use is called write, and it takes a pointer to a block of memory and the size of memory to write into the file. \n",
    "\n",
    "The pointer type is a char*, but your data doesn't have to be characters. So why are we using a char? In C++, the way to work with individual bytes is to use a single byte variable, the char, or a pointer to a series of bytes, the char*. (usigned char* may be more preferred)\n",
    "\n",
    "To write an integer into a file, we need a way of referring directly to this set of bytes. That’s why we use a char*: it isn’t for its ability to represent ASCII characters; it’s for its ability to work with bytes.\n",
    "\n",
    "#### Converting to char*, TYPE CASTING in C++\n",
    "So how do we tell the compiler to treat a variable as a pointer to a char, rather than a pointer to its true type? \n",
    "Asking the compiler to treat a variable as a different type is called typecasting. \n",
    "\n",
    "The two most basic typecasts are **static_cast** and **reinterpret_cast**. \n",
    "\n",
    "1. A static_cast is used when you want to cast between related types—for example, telling the compiler to treat a double as an integer so that you can truncate it—e g. \n",
    "```static_cast<int>( 3.4 ) ```\n",
    "The type being cast to is provided in brackets after the name of the cast. \n",
    "\n",
    "2. A reinterpret_cast\n",
    "In this case, though, we want to completely ignore the type system and have the compiler reinterpret a series of bytes as belonging to a totally different type. To achieve this feat, we need reinterpret_cast:\n",
    "```\n",
    "int x[ 10 ];\n",
    "reinterpret_cast<char*>( x );\n",
    "```\n",
    "\n",
    "By the way, working with binary data is one of the few places where a reinterpret_cast is a good idea. \n",
    "\n",
    "Whenever you see a reinterpret_cast, be suspicious! It is a powerful way of making the compiler to do things that it normally wouldn’t do, and, as a result, the compiler will not check the code that uses the cast as carefully as it checks other code. \n",
    "\n",
    "### An example of binary I/O\n",
    "\n",
    "Example: [LINK](../volansys_cpp_advanced/16_File_IO/binary_io.cpp)\n",
    "\n",
    "## Storing classes in a file\n",
    "\n",
    "- String Object in C++ :\n",
    "    + The string type is implemented as a pointer to a string (possibly along with some other data, such as the length of the string). \n",
    "    + When we write out the struct as binary data, it will write out what is stored directly in the string—the pointer and the length. \n",
    "    + But this pointer is only meaningful while your program is running! The actual pointer value—the memory address—isn’t useful once your program quits because there’s no longer anything at that address. \n",
    "    + The next time someone reads in the structure, it will get a pointer that points to memory that hasn't been properly allocated, or that points to data that has nothing to do with the string.\n",
    "\n",
    "Solution:\n",
    "```\n",
    "int len = rec.name.length();\n",
    "a_file.write( reinterpret_cast<char*>( & len ), sizeof( len ) );\n",
    "a_file.write( rec.name.c_str(), len + 1 ); // + 1 for the null terminator\n",
    "```\n",
    "\n",
    "## Reading from a file\n",
    "To read back from a binary file, we will use the aptly named read method.\n",
    "\n",
    "- For int \n",
    "```\n",
    "int x = 3;\n",
    "a_file.read( reinterpret_cast<char*>( & x ), sizeof( x ) );\n",
    "```\n",
    "\n",
    "- For struct:\n",
    "```\n",
    "a_file.seekg( 0, ios::beg );\n",
    "PlayerRecord in_rec;\n",
    "if ( ! a_file.read( reinterpret_cast<char*>( & in_rec.age ), sizeof(in_rec.age ) ) )\n",
    "{\n",
    "    // handle error\n",
    "}\n",
    "if ( ! a_file.read( reinterpret_cast<char*>( & in_rec.score ), sizeof( in_rec.score ) ) )\n",
    "{\n",
    "    // handle error\n",
    "}\n",
    "```\n",
    "\n",
    "- For char*\n",
    "```\n",
    "int str_len;\n",
    "if ( ! a_file.read( reinterpret_cast<char*>( & str_len ), sizeof( str_len ) ))\n",
    "{\n",
    "    // handle error\n",
    "}\n",
    "// perform a sanity check to ensure we don't try to allocate too much\n",
    "// memory!\n",
    "else if ( str_len > 0 && str_len < 10000 )\n",
    "{\n",
    "    char *p_str_buf = new char[ str_len ];\n",
    "    if ( ! a_file.read( p_str_buf, str_len + 1 ) ) // + 1 for null terminator\n",
    "    {\n",
    "        // handle error\n",
    "    }\n",
    "    // validate that the string is null-terminated\n",
    "    if ( p_str_buf[ str_len ] == 0 )\n",
    "    {\n",
    "        in_rec.name = string( p_str_buf );\n",
    "    }\n",
    "    delete p_str_buf;\n",
    "}\n",
    "cout << in_rec.age << \" \" <<in_rec.score << \" \" << in_rec.name << endl;\n",
    "```\n",
    "\n",
    "Whole Working code: [LINK](../volansys_cpp_advanced/16_File_IO/binary_read_structs.cpp)\n",
    "\n"
   ]
  },
  {
   "cell_type": "markdown",
   "metadata": {},
   "source": [
    "# Formatting Output using Iomanip\n",
    "\n",
    "In C++, you can create nicely formatted output with ```cout``` by using functions in the iomanip header file.\n",
    "\n",
    "## Dealing with spacing issues\n",
    "#### Setting the field width with setw\n",
    "The setw function allows you to set the minimum width of the next output via the insertion operator. \n",
    "\n",
    "```\n",
    "#include <iomanip>\n",
    "```"
   ]
  },
  {
   "cell_type": "code",
   "execution_count": 33,
   "metadata": {
    "vscode": {
     "languageId": "cpp"
    }
   },
   "outputs": [
    {
     "name": "stdout",
     "output_type": "stream",
     "text": [
      "       tenfourfour"
     ]
    }
   ],
   "source": [
    "#include <iomanip>\n",
    "\n",
    "cout << setw( 10 ) << \"ten\" << \"four\" << \"four\";"
   ]
  },
  {
   "cell_type": "markdown",
   "metadata": {},
   "source": [
    "The setfill manipulator in C++ is used to set the fill character used for padding when the width of the output field is greater than the width of the content. "
   ]
  },
  {
   "cell_type": "code",
   "execution_count": 34,
   "metadata": {
    "vscode": {
     "languageId": "cpp"
    }
   },
   "outputs": [
    {
     "name": "stdout",
     "output_type": "stream",
     "text": [
      "******0x2a\n",
      "-----Hello\n",
      "@@@@@@@@@@@@123\n"
     ]
    }
   ],
   "source": [
    "std::cout << std::setw(10) << std::setfill('*') << 42 << std::endl;\n",
    "std::cout << std::setw(10) << std::setfill('-') << \"Hello\" << std::endl;\n",
    "std::cout << std::setw(15) << std::setfill('@') << 123.45 << std::endl;\n"
   ]
  },
  {
   "cell_type": "markdown",
   "metadata": {},
   "source": [
    "- ```std::setw(10)``` sets the width of the field to 10 characters.\n",
    "- ```std::setfill('*'), std::setfill('-'), and std::setfill('@')``` set the fill character to '*', '-', and '@' respectively."
   ]
  },
  {
   "cell_type": "markdown",
   "metadata": {},
   "source": [
    "#### Permanently changing settings\n",
    "In C++, cout.fill() is a member function of the ostream class that sets the fill character used when padding is necessary. The fill character is the character that fills the space when the width of the output field is greater than the width of the content.\n",
    "\n",
    "You can also globally change the padding character using the fill member function on cout. For\n",
    "example, this code:"
   ]
  },
  {
   "cell_type": "code",
   "execution_count": 35,
   "metadata": {
    "vscode": {
     "languageId": "cpp"
    }
   },
   "outputs": [
    {
     "name": "stdout",
     "output_type": "stream",
     "text": [
      "---------A---------B---------C\n"
     ]
    }
   ],
   "source": [
    "cout.fill( '-' );\n",
    "cout << setw( 10 ) << \"A\" << setw( 10 ) << \"B\" << setw( 10 ) << \"C\" << endl;"
   ]
  },
  {
   "cell_type": "markdown",
   "metadata": {},
   "source": [
    "The fill method returns the previous fill character, so that you can restore it later. This return value is\n",
    "useful if all you’re doing is avoiding multiple setfill calls. For example:"
   ]
  },
  {
   "cell_type": "code",
   "execution_count": 36,
   "metadata": {
    "vscode": {
     "languageId": "cpp"
    }
   },
   "outputs": [
    {
     "name": "stdout",
     "output_type": "stream",
     "text": [
      "---------A---------B---------C\n",
      "---------D\n"
     ]
    }
   ],
   "source": [
    "const char last_fill = cout.fill('-');\n",
    "cout << setw( 10 ) << \"A\" << setw( 10 ) << \"B\" << setw( 10 ) << \"C\" << endl;\n",
    "cout.fill( last_fill );  //Resets the fill to spaces\n",
    "cout << setw( 10 ) << \"D\" << endl;"
   ]
  },
  {
   "cell_type": "markdown",
   "metadata": {},
   "source": [
    "\n",
    "In C++, std::ios::setf is a member function provided by the std::ios class that is part of the iostream library. It is used to set various format flags that control the formatting of input and output operations on streams, such as std::cout and std::cin.\n",
    "\n",
    "You can permanently set the alignment of padded text by calling the setf member function of cout.\n",
    "You can pass in flags to the setf function for left or right with the flags ios_base::left or\n",
    "ios_base::right."
   ]
  },
  {
   "cell_type": "code",
   "execution_count": 37,
   "metadata": {
    "vscode": {
     "languageId": "cpp"
    }
   },
   "outputs": [
    {
     "name": "stdout",
     "output_type": "stream",
     "text": [
      "---------A---------B---------C\n",
      "hwllo wassup"
     ]
    }
   ],
   "source": [
    "cout.setf( ios_base::right );\n",
    "cout << setw( 10 ) << \"A\" << setw( 10 ) << \"B\" << setw( 10 ) << \"C\" << endl;\n",
    "cout << \"hwllo wassup\";"
   ]
  },
  {
   "cell_type": "markdown",
   "metadata": {},
   "source": [
    "### Putting your knowledge of iomanip together\n",
    "\n",
    "Example: [LINK](../volansys_cpp_advanced/16_File_IO/demo_Iomanip.cpp)"
   ]
  },
  {
   "cell_type": "markdown",
   "metadata": {},
   "source": [
    "### Printing numbers\n",
    "\n",
    "#### Setting the precision of numerical output with setprecision\n",
    "\n"
   ]
  },
  {
   "cell_type": "code",
   "execution_count": 38,
   "metadata": {
    "vscode": {
     "languageId": "cpp"
    }
   },
   "outputs": [
    {
     "name": "stdout",
     "output_type": "stream",
     "text": [
      "2.72\n",
      "1.41\n"
     ]
    }
   ],
   "source": [
    "cout << setprecision( 3 ) << 2.71828 << endl;\n",
    "cout << 1.412 << endl;"
   ]
  },
  {
   "cell_type": "markdown",
   "metadata": {},
   "source": [
    "#### Rupees and Paisa"
   ]
  },
  {
   "cell_type": "code",
   "execution_count": 39,
   "metadata": {
    "vscode": {
     "languageId": "cpp"
    }
   },
   "outputs": [
    {
     "name": "stdout",
     "output_type": "stream",
     "text": [
      "0xa.0x1"
     ]
    }
   ],
   "source": [
    "//Paisa to rupees\n",
    "int paisa = 1001; // Rupees 10.01\n",
    "cout << paisa / 100 << \".\" << paisa % 100;"
   ]
  },
  {
   "cell_type": "markdown",
   "metadata": {},
   "source": [
    "#### Output in different bases\n",
    "\n",
    "Hexadecimal example:"
   ]
  },
  {
   "cell_type": "code",
   "execution_count": 40,
   "metadata": {
    "vscode": {
     "languageId": "cpp"
    }
   },
   "outputs": [
    {
     "name": "stdout",
     "output_type": "stream",
     "text": [
      "0x20\n"
     ]
    }
   ],
   "source": [
    "cout << setbase( 16 ) << 32 << endl;"
   ]
  },
  {
   "cell_type": "markdown",
   "metadata": {},
   "source": [
    "you can use setiosflags to indicate that cout should\n",
    "display the base automatically. If you pass the result of setiosflags( ios_base::showbase ) into\n",
    "cout, then decimal numbers will be displayed normally, hex numbers will be prefixed with 0x, and octal\n",
    "numbers will be prefixed with 0.\n",
    "\n",
    "Like setprecision, the changes made by setiosflags are permanent. You can disable the prefix\n",
    "using noshowbase as an argument."
   ]
  },
  {
   "cell_type": "code",
   "execution_count": 41,
   "metadata": {
    "vscode": {
     "languageId": "cpp"
    }
   },
   "outputs": [
    {
     "name": "stdout",
     "output_type": "stream",
     "text": [
      "0x20\n"
     ]
    }
   ],
   "source": [
    "cout << setiosflags( ios_base::showbase ) << setbase( 16 ) << 32 << endl;"
   ]
  },
  {
   "cell_type": "markdown",
   "metadata": {},
   "source": [
    "# Manipulators in C++ with Examples\n",
    "\n",
    "Manipulators are helping functions that can modify the input/output stream. It does not mean that we change the value of a variable, it only modifies the I/O stream using insertion (<<) and extraction (>>) operators. \n",
    "\n",
    "- Manipulators are special functions that can be included in the I/O statement to alter the format parameters of a stream. \n",
    "- Manipulators are operators that are used to format the data display.\n",
    "- To access manipulators, the file iomanip.h should be included in the program."
   ]
  },
  {
   "cell_type": "markdown",
   "metadata": {},
   "source": [
    "## Types of Manipulators There are various types of manipulators:\n",
    "\n",
    "### Manipulators without arguments: \n",
    "\n",
    "The most important manipulators defined by the IOStream library are provided below.\n",
    "1. endl: It is defined in ostream. It is used to enter a new line and after entering a new line it flushes (i.e. it forces all the output written on the screen or in the file) the output stream.\n",
    "2. ws: It is defined in istream and is used to ignore the whitespaces in the string sequence.\n",
    "3. ends: It is also defined in ostream and it inserts a null character into the output stream. It typically works with std::ostrstream, when the associated output buffer needs to be null-terminated to be processed as a C string.\n",
    "4. flush: It is also defined in ostream and it flushes the output stream, i.e. it forces all the output written on the screen or in the file. Without flush, the output would be the same, but may not appear in real-time.\n",
    "\n",
    "Example [LINK](../volansys_cpp_advanced/16_File_IO/manipulators_wo_args.cpp)\n",
    "\n",
    "#### Manipulators with Arguments: \n",
    "Some of the manipulators are used with the argument like ```setw (20), setfill (‘*’),``` and many more. These all are defined in the header file. If we want to use these manipulators then we must include this header file in our program. \n",
    "\n",
    "For Example, you can use following manipulators to set minimum width and fill the empty space with any character you want: \n",
    "\n",
    "```std::cout << std::setw (6) << std::setfill (’*’);```\n",
    "\n",
    "Some important manipulators in ```<iomanip>``` are:\n",
    "- setw (val): It is used to set the field width in output operations.\n",
    "- setfill (c): It is used to fill the character ‘c’ on output stream.\n",
    "- setprecision (val): It sets val as the new value for the precision of floating-point values.\n",
    "- setbase(val): It is used to set the numeric base value for numeric values.\n",
    "- setiosflags(flag): It is used to set the format flags specified by parameter mask.\n",
    "- resetiosflags(m): It is used to reset the format flags specified by parameter mask.\n",
    "\n",
    "\n",
    "Some important manipulators in ```<ios>``` are:\n",
    "- showpos: It forces to show a positive sign on positive numbers.\n",
    "- noshowpos: It forces not to write a positive sign on positive numbers.\n",
    "- showbase: It indicates the numeric base of numeric values.\n",
    "- uppercase: It forces uppercase letters for numeric values.\n",
    "- nouppercase: It forces lowercase letters for numeric values.\n",
    "- fixed: It uses decimal notation for floating-point values.\n",
    "- scientific: It uses scientific floating-point notation.\n",
    "- hex: Read and write hexadecimal values for integers and it works same as the setbase(16).\n",
    "- dec: Read and write decimal values for integers i.e. setbase(10).\n",
    "- oct: Read and write octal values for integers i.e. setbase(10).\n",
    "- left: It adjusts output to the left.\n",
    "- right: It adjusts output to the right.\n",
    "\n",
    "\n",
    "1) Parameterized Manipulators:-\n",
    "\n",
    "\n",
    "|       Manipulator      | Meaning                            |\n",
    "|:----------------------:|------------------------------------|\n",
    "|      setw (int n)      | To set field width to n            |\n",
    "|  setprecision (int p)  | The precision is fixed to p        |\n",
    "| setfill (Char f)       | To set the character to be filled  |\n",
    "| setiosflags (long l)   | Format flag is set to l            |\n",
    "| resetiosflags (long l) | Removes the flags indicated by l   |\n",
    "| Setbase(int b)         | To set the base of the number to b |\n",
    "\n",
    "\n",
    "Reference Iomanip : [LINK](https://en.cppreference.com/w/cpp/io/manip)"
   ]
  },
  {
   "cell_type": "markdown",
   "metadata": {},
   "source": [
    "# How To Read From a File in C++\n",
    "\n",
    "## What Are C++ Streams?\n",
    "The sequence of bytes given as input to the executing program and the sequence of bytes that comes as output from the executing program are called stream. In other words, streams are nothing but the flow of data in a sequence.\n",
    "\n",
    "The input and output operation between the executing program and the devices like keyboard and monitor are known as “console I/O operation”. The input and output operation between the executing program and files are known as “disk I/O operation”.\n",
    "\n",
    "### File Handling in C++\n",
    "To read a character sequence from a text file, we’ll need to perform the following steps:\n",
    "\n",
    "1. Create a stream object. \n",
    "2. Connect it to a file on disk. \n",
    "3. Read the file’s contents into our stream object. \n",
    "4. Close the file.\n",
    "\n",
    "At each stage, our stream object may occupy different states, which we can check for using the following member functions:\n",
    "\n",
    "- bad() returns True if an error occurred while reading from or writing to a stream. If a stream is “bad,” no further operations involving the stream are possible.\n",
    "- fail() returns True if an error occurs, but we can still operate on the  stream.\n",
    "- eof() returns True if the end of the file (EOF) is reached, with False returned otherwise.\n",
    "- good() returns True if each of the other three states are false, i.e., the stream is neither bad nor failed, nor has it reached the end of the file. \n",
    "\n",
    "### Read a File in C++\n",
    "\n",
    "1. Raw reading: [LINK](../volansys_cpp_advanced/16_File_IO/read_file2.cpp)\n",
    "2. Reading using get(): [LINK](../volansys_cpp_advanced/16_File_IO/read_file3.cpp)\n",
    "3. Reading using getline(): [LINK](../volansys_cpp_advanced/16_File_IO/read_file4.cpp)\n",
    "\n",
    "\n",
    "\n"
   ]
  },
  {
   "attachments": {
    "image-2.png": {
     "image/png": "[encoded data removed]"
    },
    "image.png": {
     "image/png": "[encoded data removed]"
    }
   },
   "cell_type": "markdown",
   "metadata": {},
   "source": [
    "# File Handling through C++ Classes\n",
    "\n",
    "#### Classes for File stream operations\n",
    "\n",
    "The I/O system of C++ contains a set of classes which define the file handling methods. These include ifstream, ofstream and fstream classes. These classes are derived from fstream and from the corresponding iostream class. These classes, designed to manage the disk files, are declared in fstream and therefore we must include this file in any program that uses files.\n",
    "1. ios:-\n",
    "- ios stands for input output stream.\n",
    "- This class is the base class for other classes in this class hierarchy.\n",
    "- This class contains the necessary facilities that are used by all the other derived classes for input and output operations.\n",
    "2. istream:-\n",
    "\n",
    "- istream stands for input stream.\n",
    "- This class is derived from the class ‘ios’.\n",
    "- This class handle input stream.\n",
    "- The extraction operator(>>) is overloaded in this class to handle input streams from files to the program execution.\n",
    "- This class declares input functions such as get(), getline() and read().\n",
    " \n",
    "3. ostream:-\n",
    "\n",
    "- ostream stands for output stream.\n",
    "- This class is derived from the class ‘ios’.\n",
    "- This class handle output stream.\n",
    "- The insertion operator(<<) is overloaded in this class to handle output streams to files from the program execution.\n",
    "- This class declares output functions such as put() and write().\n",
    "4. streambuf:-\n",
    "\n",
    "- This class contains a pointer which points to the buffer which is used to manage the input and output streams.\n",
    "5. fstreambase:-\n",
    "\n",
    "- This class provides operations common to the file streams. Serves as a base for fstream, ifstream and ofstream class. \n",
    "- This class contains open() and close() function.\n",
    "6. ifstream:-\n",
    "\n",
    "- This class provides input operations.\n",
    "- It contains open() function with default input mode. \n",
    "- Inherits the functions get(), getline(), read(), seekg() and tellg() functions from the istream.\n",
    "7. ofstream:-\n",
    "\n",
    "- This class provides output operations.\n",
    "- It contains open() function with default output mode. \n",
    "- Inherits the functions put(),  write(), seekp() and tellp() functions from the ostream.\n",
    "8. fstream:-\n",
    "\n",
    "- This class provides support for simultaneous input and output operations.\n",
    "- Inherits all the functions from istream and ostream classes through iostream.\n",
    "9. filebuf:-\n",
    "\n",
    "- Its purpose is to set the file buffers to read and write.\n",
    "- We can also use file buffer member function to determine the length of the file.\n",
    "\n",
    "![image.png](attachment:image.png)\n",
    "\n",
    "![image-2.png](attachment:image-2.png)\n",
    "\n",
    "| Member Constant | Stands For |                                          Access                                          |\n",
    "|:---------------:|:----------:|:----------------------------------------------------------------------------------------:|\n",
    "|       in *      |    input   |       File open for reading: the internal stream buffer supports input operations.       |\n",
    "|       out       |   output   |       File open for writing: the internal stream buffer supports output operations.      |\n",
    "|      binary     |   binary   |                 Operations are performed in binary mode rather than text.                |\n",
    "|       ate       |   at end   |                    The output position starts at the end of the file.                    |\n",
    "|       app       |   append   | All output operations happen at the end of the file, appending to its existing contents. |\n",
    "|      trunc      |  truncate  |          Any contents that existed in the file before it is open are discarded.          |\n",
    "\n",
    "Default opening modes:\n",
    "\n",
    "| ifstream |       ios::in       |\n",
    "|:--------:|:-------------------:|\n",
    "| ofstream |       ios::out      |\n",
    "|  fstream | ios::in \\| ios::out |\n",
    "\n",
    "\n",
    "FILE IO Reference: [LINK](https://cplusplus.com/doc/tutorial/files/)\n",
    "\n"
   ]
  },
  {
   "cell_type": "markdown",
   "metadata": {},
   "source": [
    "# stringstream in C++ and its Applications\n",
    "\n",
    "A stringstream associates a string object with a stream allowing you to read from the string as if it were a stream (like cin). To use stringstream, we need to include sstream header file. The stringstream class is extremely useful in parsing input. \n",
    "\n",
    "Basic methods are:\n",
    "\n",
    "1. clear()- To clear the stream.\n",
    "2. str()- To get and set string object whose content is present in the stream. \n",
    "3. operator <<- Add a string to the stringstream object. \n",
    "4. operator >>- Read something from the stringstream object.\n",
    "\n",
    "- Ex1: [LINK](../volansys_cpp_advanced/16_File_IO/sstream_count_words.cpp)\n",
    "- Ex2: [LINK](../volansys_cpp_advanced/16_File_IO/sstream_frequency_of_words.cpp)\n",
    "- Ex3: [LINK](../volansys_cpp_advanced/16_File_IO/sstream_int_to_str.cpp)\n"
   ]
  }
 ],
 "metadata": {
  "kernelspec": {
   "display_name": "C++17",
   "language": "C++17",
   "name": "xcpp17"
  },
  "language_info": {
   "codemirror_mode": "text/x-c++src",
   "file_extension": ".cpp",
   "mimetype": "text/x-c++src",
   "name": "C++17",
   "version": "17"
  }
 },
 "nbformat": 4,
 "nbformat_minor": 2
}
